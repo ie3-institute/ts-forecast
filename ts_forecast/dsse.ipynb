{
 "cells": [
  {
   "cell_type": "code",
   "execution_count": 1,
   "metadata": {},
   "outputs": [],
   "source": [
    "%load_ext autoreload\n",
    "%autoreload 2\n",
    "%config InlineBackend.figure_format = 'retina'"
   ]
  },
  {
   "cell_type": "code",
   "execution_count": 2,
   "metadata": {},
   "outputs": [
    {
     "name": "stderr",
     "output_type": "stream",
     "text": [
      "\u001b[32m2024-07-17 13:58:45.058\u001b[0m | \u001b[1mINFO    \u001b[0m | \u001b[36mpypsdm.models.gwr\u001b[0m:\u001b[36mfrom_csv\u001b[0m:\u001b[36m275\u001b[0m - \u001b[1mReading grid from ../resources/simbench/grid/\u001b[0m\n",
      "\u001b[32m2024-07-17 13:58:48.660\u001b[0m | \u001b[1mINFO    \u001b[0m | \u001b[36mpypsdm.models.gwr\u001b[0m:\u001b[36mfrom_csv\u001b[0m:\u001b[36m287\u001b[0m - \u001b[1mReading results from ../resources/simbench/results/rawOutputData/\u001b[0m\n"
     ]
    }
   ],
   "source": [
    "from pypsdm import GridWithResults\n",
    "\n",
    "\n",
    "# csv files in resources are tracked via git lfs\n",
    "# to retrieve them make sure you have git lfs installed\n",
    "grid_path = \"../resources/simbench/grid/\"\n",
    "results_path = \"../resources/simbench/results/rawOutputData/\"\n",
    "\n",
    "gwr = GridWithResults.from_csv(grid_path, results_path)"
   ]
  },
  {
   "cell_type": "code",
   "execution_count": 3,
   "metadata": {},
   "outputs": [
    {
     "data": {
      "text/html": [
       "<div>\n",
       "<style scoped>\n",
       "    .dataframe tbody tr th:only-of-type {\n",
       "        vertical-align: middle;\n",
       "    }\n",
       "\n",
       "    .dataframe tbody tr th {\n",
       "        vertical-align: top;\n",
       "    }\n",
       "\n",
       "    .dataframe thead th {\n",
       "        text-align: right;\n",
       "    }\n",
       "</style>\n",
       "<table border=\"1\" class=\"dataframe\">\n",
       "  <thead>\n",
       "    <tr style=\"text-align: right;\">\n",
       "      <th></th>\n",
       "      <th>00933d03-18e0-4681-a7d3-b94cac5ada41</th>\n",
       "      <th>01dca738-329e-4c8d-900c-fd0f48acc874</th>\n",
       "      <th>04beeb0e-78d7-46b8-aca5-76d3a009638f</th>\n",
       "      <th>090d13e8-3cce-4793-816f-4c50f23f3f7f</th>\n",
       "      <th>09153599-9b88-49f8-aecd-d57d8ab9e2b6</th>\n",
       "      <th>0c5e6268-ba9c-41e0-b472-0aea5a3163c6</th>\n",
       "      <th>0d6102de-9f0f-47fa-9eb2-e8f5149a7851</th>\n",
       "      <th>0dd3fdac-f05d-4e68-9611-a73f267ed9eb</th>\n",
       "      <th>0e3f552a-5dc5-4781-969e-13b0600e4deb</th>\n",
       "      <th>0e96dffd-d5ea-4f2c-a133-bacb7a85ca31</th>\n",
       "      <th>...</th>\n",
       "      <th>f2ab91df-6f6a-439b-95da-135dc5fca6a2</th>\n",
       "      <th>f3065cce-6302-4365-8036-4fc2f126ade8</th>\n",
       "      <th>f5fb7dc2-2a15-489a-9339-f8fd351836a4</th>\n",
       "      <th>f5ffa031-1062-4c4e-9495-8e40e2b55e1b</th>\n",
       "      <th>f6761178-0491-441c-b7e6-4126b29fbada</th>\n",
       "      <th>f768ffeb-1021-47d1-b606-9f15103988fc</th>\n",
       "      <th>fad370e8-1530-4310-8181-eacbd141642b</th>\n",
       "      <th>fb02db79-c6b8-4bf0-8a0b-e661fb04086a</th>\n",
       "      <th>fc4af780-3f60-42fc-bc69-d38fadf92050</th>\n",
       "      <th>fd124414-dbc6-4f6b-90b5-34918ee7b8f6</th>\n",
       "    </tr>\n",
       "    <tr>\n",
       "      <th>time</th>\n",
       "      <th></th>\n",
       "      <th></th>\n",
       "      <th></th>\n",
       "      <th></th>\n",
       "      <th></th>\n",
       "      <th></th>\n",
       "      <th></th>\n",
       "      <th></th>\n",
       "      <th></th>\n",
       "      <th></th>\n",
       "      <th></th>\n",
       "      <th></th>\n",
       "      <th></th>\n",
       "      <th></th>\n",
       "      <th></th>\n",
       "      <th></th>\n",
       "      <th></th>\n",
       "      <th></th>\n",
       "      <th></th>\n",
       "      <th></th>\n",
       "      <th></th>\n",
       "    </tr>\n",
       "  </thead>\n",
       "  <tbody>\n",
       "    <tr>\n",
       "      <th>2016-01-01 01:00:00</th>\n",
       "      <td>1.030701</td>\n",
       "      <td>1.026366</td>\n",
       "      <td>1.030997</td>\n",
       "      <td>1.023754</td>\n",
       "      <td>1.022749</td>\n",
       "      <td>1.031425</td>\n",
       "      <td>1.029841</td>\n",
       "      <td>1.031178</td>\n",
       "      <td>1.029625</td>\n",
       "      <td>1.029239</td>\n",
       "      <td>...</td>\n",
       "      <td>1.029864</td>\n",
       "      <td>1.025949</td>\n",
       "      <td>1.028761</td>\n",
       "      <td>1.029669</td>\n",
       "      <td>1.029472</td>\n",
       "      <td>1.029025</td>\n",
       "      <td>1.029026</td>\n",
       "      <td>1.026155</td>\n",
       "      <td>1.028715</td>\n",
       "      <td>1.030045</td>\n",
       "    </tr>\n",
       "    <tr>\n",
       "      <th>2016-01-01 02:00:00</th>\n",
       "      <td>1.032337</td>\n",
       "      <td>1.028726</td>\n",
       "      <td>1.032560</td>\n",
       "      <td>1.026038</td>\n",
       "      <td>1.025147</td>\n",
       "      <td>1.032923</td>\n",
       "      <td>1.031628</td>\n",
       "      <td>1.032707</td>\n",
       "      <td>1.031425</td>\n",
       "      <td>1.031103</td>\n",
       "      <td>...</td>\n",
       "      <td>1.031613</td>\n",
       "      <td>1.028402</td>\n",
       "      <td>1.030758</td>\n",
       "      <td>1.031438</td>\n",
       "      <td>1.031312</td>\n",
       "      <td>1.030974</td>\n",
       "      <td>1.030975</td>\n",
       "      <td>1.028557</td>\n",
       "      <td>1.030879</td>\n",
       "      <td>1.031746</td>\n",
       "    </tr>\n",
       "    <tr>\n",
       "      <th>2016-01-01 03:00:00</th>\n",
       "      <td>1.031248</td>\n",
       "      <td>1.026735</td>\n",
       "      <td>1.031411</td>\n",
       "      <td>1.023885</td>\n",
       "      <td>1.022907</td>\n",
       "      <td>1.031852</td>\n",
       "      <td>1.030388</td>\n",
       "      <td>1.031611</td>\n",
       "      <td>1.030293</td>\n",
       "      <td>1.029632</td>\n",
       "      <td>...</td>\n",
       "      <td>1.030380</td>\n",
       "      <td>1.026346</td>\n",
       "      <td>1.029313</td>\n",
       "      <td>1.030216</td>\n",
       "      <td>1.029998</td>\n",
       "      <td>1.029807</td>\n",
       "      <td>1.029808</td>\n",
       "      <td>1.026534</td>\n",
       "      <td>1.029679</td>\n",
       "      <td>1.030560</td>\n",
       "    </tr>\n",
       "    <tr>\n",
       "      <th>2016-01-01 04:00:00</th>\n",
       "      <td>1.031595</td>\n",
       "      <td>1.027606</td>\n",
       "      <td>1.031843</td>\n",
       "      <td>1.024844</td>\n",
       "      <td>1.023846</td>\n",
       "      <td>1.032237</td>\n",
       "      <td>1.030876</td>\n",
       "      <td>1.032035</td>\n",
       "      <td>1.030667</td>\n",
       "      <td>1.030203</td>\n",
       "      <td>...</td>\n",
       "      <td>1.030849</td>\n",
       "      <td>1.027237</td>\n",
       "      <td>1.029909</td>\n",
       "      <td>1.030748</td>\n",
       "      <td>1.030515</td>\n",
       "      <td>1.030125</td>\n",
       "      <td>1.030126</td>\n",
       "      <td>1.027417</td>\n",
       "      <td>1.030013</td>\n",
       "      <td>1.031063</td>\n",
       "    </tr>\n",
       "    <tr>\n",
       "      <th>2016-01-01 05:00:00</th>\n",
       "      <td>1.029550</td>\n",
       "      <td>1.024716</td>\n",
       "      <td>1.029838</td>\n",
       "      <td>1.021376</td>\n",
       "      <td>1.020256</td>\n",
       "      <td>1.030328</td>\n",
       "      <td>1.028614</td>\n",
       "      <td>1.030042</td>\n",
       "      <td>1.028405</td>\n",
       "      <td>1.027881</td>\n",
       "      <td>...</td>\n",
       "      <td>1.028705</td>\n",
       "      <td>1.024273</td>\n",
       "      <td>1.027517</td>\n",
       "      <td>1.028449</td>\n",
       "      <td>1.028267</td>\n",
       "      <td>1.027759</td>\n",
       "      <td>1.027759</td>\n",
       "      <td>1.024495</td>\n",
       "      <td>1.027686</td>\n",
       "      <td>1.028868</td>\n",
       "    </tr>\n",
       "  </tbody>\n",
       "</table>\n",
       "<p>5 rows × 147 columns</p>\n",
       "</div>"
      ],
      "text/plain": [
       "                     00933d03-18e0-4681-a7d3-b94cac5ada41  \\\n",
       "time                                                        \n",
       "2016-01-01 01:00:00                              1.030701   \n",
       "2016-01-01 02:00:00                              1.032337   \n",
       "2016-01-01 03:00:00                              1.031248   \n",
       "2016-01-01 04:00:00                              1.031595   \n",
       "2016-01-01 05:00:00                              1.029550   \n",
       "\n",
       "                     01dca738-329e-4c8d-900c-fd0f48acc874  \\\n",
       "time                                                        \n",
       "2016-01-01 01:00:00                              1.026366   \n",
       "2016-01-01 02:00:00                              1.028726   \n",
       "2016-01-01 03:00:00                              1.026735   \n",
       "2016-01-01 04:00:00                              1.027606   \n",
       "2016-01-01 05:00:00                              1.024716   \n",
       "\n",
       "                     04beeb0e-78d7-46b8-aca5-76d3a009638f  \\\n",
       "time                                                        \n",
       "2016-01-01 01:00:00                              1.030997   \n",
       "2016-01-01 02:00:00                              1.032560   \n",
       "2016-01-01 03:00:00                              1.031411   \n",
       "2016-01-01 04:00:00                              1.031843   \n",
       "2016-01-01 05:00:00                              1.029838   \n",
       "\n",
       "                     090d13e8-3cce-4793-816f-4c50f23f3f7f  \\\n",
       "time                                                        \n",
       "2016-01-01 01:00:00                              1.023754   \n",
       "2016-01-01 02:00:00                              1.026038   \n",
       "2016-01-01 03:00:00                              1.023885   \n",
       "2016-01-01 04:00:00                              1.024844   \n",
       "2016-01-01 05:00:00                              1.021376   \n",
       "\n",
       "                     09153599-9b88-49f8-aecd-d57d8ab9e2b6  \\\n",
       "time                                                        \n",
       "2016-01-01 01:00:00                              1.022749   \n",
       "2016-01-01 02:00:00                              1.025147   \n",
       "2016-01-01 03:00:00                              1.022907   \n",
       "2016-01-01 04:00:00                              1.023846   \n",
       "2016-01-01 05:00:00                              1.020256   \n",
       "\n",
       "                     0c5e6268-ba9c-41e0-b472-0aea5a3163c6  \\\n",
       "time                                                        \n",
       "2016-01-01 01:00:00                              1.031425   \n",
       "2016-01-01 02:00:00                              1.032923   \n",
       "2016-01-01 03:00:00                              1.031852   \n",
       "2016-01-01 04:00:00                              1.032237   \n",
       "2016-01-01 05:00:00                              1.030328   \n",
       "\n",
       "                     0d6102de-9f0f-47fa-9eb2-e8f5149a7851  \\\n",
       "time                                                        \n",
       "2016-01-01 01:00:00                              1.029841   \n",
       "2016-01-01 02:00:00                              1.031628   \n",
       "2016-01-01 03:00:00                              1.030388   \n",
       "2016-01-01 04:00:00                              1.030876   \n",
       "2016-01-01 05:00:00                              1.028614   \n",
       "\n",
       "                     0dd3fdac-f05d-4e68-9611-a73f267ed9eb  \\\n",
       "time                                                        \n",
       "2016-01-01 01:00:00                              1.031178   \n",
       "2016-01-01 02:00:00                              1.032707   \n",
       "2016-01-01 03:00:00                              1.031611   \n",
       "2016-01-01 04:00:00                              1.032035   \n",
       "2016-01-01 05:00:00                              1.030042   \n",
       "\n",
       "                     0e3f552a-5dc5-4781-969e-13b0600e4deb  \\\n",
       "time                                                        \n",
       "2016-01-01 01:00:00                              1.029625   \n",
       "2016-01-01 02:00:00                              1.031425   \n",
       "2016-01-01 03:00:00                              1.030293   \n",
       "2016-01-01 04:00:00                              1.030667   \n",
       "2016-01-01 05:00:00                              1.028405   \n",
       "\n",
       "                     0e96dffd-d5ea-4f2c-a133-bacb7a85ca31  ...  \\\n",
       "time                                                       ...   \n",
       "2016-01-01 01:00:00                              1.029239  ...   \n",
       "2016-01-01 02:00:00                              1.031103  ...   \n",
       "2016-01-01 03:00:00                              1.029632  ...   \n",
       "2016-01-01 04:00:00                              1.030203  ...   \n",
       "2016-01-01 05:00:00                              1.027881  ...   \n",
       "\n",
       "                     f2ab91df-6f6a-439b-95da-135dc5fca6a2  \\\n",
       "time                                                        \n",
       "2016-01-01 01:00:00                              1.029864   \n",
       "2016-01-01 02:00:00                              1.031613   \n",
       "2016-01-01 03:00:00                              1.030380   \n",
       "2016-01-01 04:00:00                              1.030849   \n",
       "2016-01-01 05:00:00                              1.028705   \n",
       "\n",
       "                     f3065cce-6302-4365-8036-4fc2f126ade8  \\\n",
       "time                                                        \n",
       "2016-01-01 01:00:00                              1.025949   \n",
       "2016-01-01 02:00:00                              1.028402   \n",
       "2016-01-01 03:00:00                              1.026346   \n",
       "2016-01-01 04:00:00                              1.027237   \n",
       "2016-01-01 05:00:00                              1.024273   \n",
       "\n",
       "                     f5fb7dc2-2a15-489a-9339-f8fd351836a4  \\\n",
       "time                                                        \n",
       "2016-01-01 01:00:00                              1.028761   \n",
       "2016-01-01 02:00:00                              1.030758   \n",
       "2016-01-01 03:00:00                              1.029313   \n",
       "2016-01-01 04:00:00                              1.029909   \n",
       "2016-01-01 05:00:00                              1.027517   \n",
       "\n",
       "                     f5ffa031-1062-4c4e-9495-8e40e2b55e1b  \\\n",
       "time                                                        \n",
       "2016-01-01 01:00:00                              1.029669   \n",
       "2016-01-01 02:00:00                              1.031438   \n",
       "2016-01-01 03:00:00                              1.030216   \n",
       "2016-01-01 04:00:00                              1.030748   \n",
       "2016-01-01 05:00:00                              1.028449   \n",
       "\n",
       "                     f6761178-0491-441c-b7e6-4126b29fbada  \\\n",
       "time                                                        \n",
       "2016-01-01 01:00:00                              1.029472   \n",
       "2016-01-01 02:00:00                              1.031312   \n",
       "2016-01-01 03:00:00                              1.029998   \n",
       "2016-01-01 04:00:00                              1.030515   \n",
       "2016-01-01 05:00:00                              1.028267   \n",
       "\n",
       "                     f768ffeb-1021-47d1-b606-9f15103988fc  \\\n",
       "time                                                        \n",
       "2016-01-01 01:00:00                              1.029025   \n",
       "2016-01-01 02:00:00                              1.030974   \n",
       "2016-01-01 03:00:00                              1.029807   \n",
       "2016-01-01 04:00:00                              1.030125   \n",
       "2016-01-01 05:00:00                              1.027759   \n",
       "\n",
       "                     fad370e8-1530-4310-8181-eacbd141642b  \\\n",
       "time                                                        \n",
       "2016-01-01 01:00:00                              1.029026   \n",
       "2016-01-01 02:00:00                              1.030975   \n",
       "2016-01-01 03:00:00                              1.029808   \n",
       "2016-01-01 04:00:00                              1.030126   \n",
       "2016-01-01 05:00:00                              1.027759   \n",
       "\n",
       "                     fb02db79-c6b8-4bf0-8a0b-e661fb04086a  \\\n",
       "time                                                        \n",
       "2016-01-01 01:00:00                              1.026155   \n",
       "2016-01-01 02:00:00                              1.028557   \n",
       "2016-01-01 03:00:00                              1.026534   \n",
       "2016-01-01 04:00:00                              1.027417   \n",
       "2016-01-01 05:00:00                              1.024495   \n",
       "\n",
       "                     fc4af780-3f60-42fc-bc69-d38fadf92050  \\\n",
       "time                                                        \n",
       "2016-01-01 01:00:00                              1.028715   \n",
       "2016-01-01 02:00:00                              1.030879   \n",
       "2016-01-01 03:00:00                              1.029679   \n",
       "2016-01-01 04:00:00                              1.030013   \n",
       "2016-01-01 05:00:00                              1.027686   \n",
       "\n",
       "                     fd124414-dbc6-4f6b-90b5-34918ee7b8f6  \n",
       "time                                                       \n",
       "2016-01-01 01:00:00                              1.030045  \n",
       "2016-01-01 02:00:00                              1.031746  \n",
       "2016-01-01 03:00:00                              1.030560  \n",
       "2016-01-01 04:00:00                              1.031063  \n",
       "2016-01-01 05:00:00                              1.028868  \n",
       "\n",
       "[5 rows x 147 columns]"
      ]
     },
     "execution_count": 3,
     "metadata": {},
     "output_type": "execute_result"
    }
   ],
   "source": [
    "nodes_v = gwr.nodes_res.v_mag(favor_ids=False)\n",
    "nodes_v.head()"
   ]
  },
  {
   "cell_type": "code",
   "execution_count": 4,
   "metadata": {},
   "outputs": [
    {
     "data": {
      "text/plain": [
       "['00933d03-18e0-4681-a7d3-b94cac5ada41',\n",
       " '09153599-9b88-49f8-aecd-d57d8ab9e2b6',\n",
       " '0e3f552a-5dc5-4781-969e-13b0600e4deb',\n",
       " '13765175-44d3-4aa2-aa3e-7ed85822fcef',\n",
       " '26245e34-6c7f-4c21-a52f-733486b96eb1',\n",
       " '28a6c897-d718-4eb8-9088-4e8d455e5e8e',\n",
       " '2dcbdf1e-c956-46f1-9c60-2e0aa45053d4',\n",
       " '335dc8f6-35c6-4c94-bf39-a77cbee563e8',\n",
       " '3c849b73-7c59-46ec-aad2-b019beccb4c5',\n",
       " '41fcce35-df2e-4053-8c3f-2aba19d62a77',\n",
       " '46248ba3-8fa1-4225-b087-10739b0811cd',\n",
       " '492712d0-604e-4183-8410-a11934495bd9',\n",
       " '53765bfa-5e7d-40e6-8b1f-88e6ac6e2bd9',\n",
       " '5d07ed20-5410-4014-8a38-afbb90cb68af',\n",
       " '5e880ada-8200-4681-8533-c759b0a8ec35',\n",
       " '66f96b86-254e-4205-8cb8-c0634a8fa91a',\n",
       " '6e136d5d-19d7-4556-88a3-3dbdd803c6b1',\n",
       " '81f7b5c4-8ebf-4b8a-8731-f0c67a6e8611',\n",
       " '8515f8eb-33d1-46c5-8467-ab12155a5474',\n",
       " '8b647a1a-b5d6-46b2-9ec3-3bdbf6e0de34',\n",
       " '8da74e62-9268-426e-8878-1f83c12e40e6',\n",
       " '97b96777-900f-49d2-90b5-044c38bc371e',\n",
       " '9e018a70-4da0-4f41-9a45-455b1173c3d2',\n",
       " 'a41231cc-4836-4343-b236-396720582e32',\n",
       " 'a670449b-2ffd-4bae-9e01-1d7aab6939f6',\n",
       " 'aac0ca99-70ef-4845-876f-f24adc93fc64',\n",
       " 'b0bbd85c-6540-4418-b083-455daed681bd',\n",
       " 'b69ecf26-16ee-4b41-a996-b76563c58c1a',\n",
       " 'bed1b7a5-3cbd-480c-86c5-adb7ae6a940d',\n",
       " 'c69cc803-396c-4b15-af99-5eade9fcb66a',\n",
       " 'cc0495c9-0bfe-41ba-b98b-978b8f4b1b69',\n",
       " 'd873af06-2e6e-4629-9c42-a30b4aeb4fa7',\n",
       " 'e4aaf6c9-8551-41c4-a3f9-54d7348076af',\n",
       " 'ee484025-9503-4938-8690-5a7f0861370e',\n",
       " 'effcc0e0-e7f0-4594-9ff4-32855011aa5e',\n",
       " 'f5ffa031-1062-4c4e-9495-8e40e2b55e1b',\n",
       " 'fb02db79-c6b8-4bf0-8a0b-e661fb04086a']"
      ]
     },
     "execution_count": 4,
     "metadata": {},
     "output_type": "execute_result"
    }
   ],
   "source": [
    "# Choose which nodes are considered as measured\n",
    "# e.g. take every fourth node\n",
    "measured = [nodes_v.columns[i] for i in range(0, len(nodes_v.columns), 4)]\n",
    "measured"
   ]
  },
  {
   "cell_type": "code",
   "execution_count": 5,
   "metadata": {},
   "outputs": [
    {
     "data": {
      "application/vnd.plotly.v1+json": {
       "config": {
        "plotlyServerURL": "https://plot.ly"
       },
       "data": [
        {
         "hoverinfo": "skip",
         "lat": [
          53.648,
          53.6492
         ],
         "line": {
          "color": "#1ac938"
         },
         "lon": [
          11.3667,
          11.3656
         ],
         "mode": "lines",
         "type": "scattermapbox"
        },
        {
         "hoverinfo": "text",
         "hovertext": "MV3.101 Line 43",
         "lat": [
          53.6486
         ],
         "lon": [
          11.366150000000001
         ],
         "marker": {
          "color": "#1ac938",
          "opacity": 0,
          "size": 0
         },
         "mode": "markers",
         "type": "scattermapbox"
        },
        {
         "hoverinfo": "skip",
         "lat": [
          53.6464,
          53.6438
         ],
         "line": {
          "color": "#1ac938"
         },
         "lon": [
          11.3745,
          11.3767
         ],
         "mode": "lines",
         "type": "scattermapbox"
        },
        {
         "hoverinfo": "text",
         "hovertext": "MV3.101 Line 109",
         "lat": [
          53.6451
         ],
         "lon": [
          11.375599999999999
         ],
         "marker": {
          "color": "#1ac938",
          "opacity": 0,
          "size": 0
         },
         "mode": "markers",
         "type": "scattermapbox"
        },
        {
         "hoverinfo": "skip",
         "lat": [
          53.6341,
          53.6328
         ],
         "line": {
          "color": "#1ac938"
         },
         "lon": [
          11.3724,
          11.3733
         ],
         "mode": "lines",
         "type": "scattermapbox"
        },
        {
         "hoverinfo": "text",
         "hovertext": "MV3.101 Line 105",
         "lat": [
          53.633449999999996
         ],
         "lon": [
          11.37285
         ],
         "marker": {
          "color": "#1ac938",
          "opacity": 0,
          "size": 0
         },
         "mode": "markers",
         "type": "scattermapbox"
        },
        {
         "hoverinfo": "skip",
         "lat": [
          53.624,
          53.6236
         ],
         "line": {
          "color": "#1ac938"
         },
         "lon": [
          11.366,
          11.3683
         ],
         "mode": "lines",
         "type": "scattermapbox"
        },
        {
         "hoverinfo": "text",
         "hovertext": "MV3.101 Line 82",
         "lat": [
          53.6238
         ],
         "lon": [
          11.367149999999999
         ],
         "marker": {
          "color": "#1ac938",
          "opacity": 0,
          "size": 0
         },
         "mode": "markers",
         "type": "scattermapbox"
        },
        {
         "hoverinfo": "skip",
         "lat": [
          53.6603,
          53.662
         ],
         "line": {
          "color": "#1ac938"
         },
         "lon": [
          11.3636,
          11.3646
         ],
         "mode": "lines",
         "type": "scattermapbox"
        },
        {
         "hoverinfo": "text",
         "hovertext": "MV3.101 Line 48",
         "lat": [
          53.66115
         ],
         "lon": [
          11.3641
         ],
         "marker": {
          "color": "#1ac938",
          "opacity": 0,
          "size": 0
         },
         "mode": "markers",
         "type": "scattermapbox"
        },
        {
         "hoverinfo": "skip",
         "lat": [
          53.6457,
          53.6465
         ],
         "line": {
          "color": "#1ac938"
         },
         "lon": [
          11.3682,
          11.3669
         ],
         "mode": "lines",
         "type": "scattermapbox"
        },
        {
         "hoverinfo": "text",
         "hovertext": "MV3.101 Line 50",
         "lat": [
          53.646100000000004
         ],
         "lon": [
          11.36755
         ],
         "marker": {
          "color": "#1ac938",
          "opacity": 0,
          "size": 0
         },
         "mode": "markers",
         "type": "scattermapbox"
        },
        {
         "hoverinfo": "skip",
         "lat": [
          53.6525,
          53.6538
         ],
         "line": {
          "color": "#1ac938"
         },
         "lon": [
          11.3724,
          11.374
         ],
         "mode": "lines",
         "type": "scattermapbox"
        },
        {
         "hoverinfo": "text",
         "hovertext": "MV3.101 Line 19",
         "lat": [
          53.65315
         ],
         "lon": [
          11.3732
         ],
         "marker": {
          "color": "#1ac938",
          "opacity": 0,
          "size": 0
         },
         "mode": "markers",
         "type": "scattermapbox"
        },
        {
         "hoverinfo": "skip",
         "lat": [
          53.6479,
          53.6481
         ],
         "line": {
          "color": "#1ac938"
         },
         "lon": [
          11.3773,
          11.3784
         ],
         "mode": "lines",
         "type": "scattermapbox"
        },
        {
         "hoverinfo": "text",
         "hovertext": "MV3.101 Line 122",
         "lat": [
          53.647999999999996
         ],
         "lon": [
          11.377849999999999
         ],
         "marker": {
          "color": "#1ac938",
          "opacity": 0,
          "size": 0
         },
         "mode": "markers",
         "type": "scattermapbox"
        },
        {
         "hoverinfo": "skip",
         "lat": [
          53.6397,
          53.638
         ],
         "line": {
          "color": "#1ac938"
         },
         "lon": [
          11.3715,
          11.3719
         ],
         "mode": "lines",
         "type": "scattermapbox"
        },
        {
         "hoverinfo": "text",
         "hovertext": "MV3.101 Line 10",
         "lat": [
          53.63885
         ],
         "lon": [
          11.3717
         ],
         "marker": {
          "color": "#1ac938",
          "opacity": 0,
          "size": 0
         },
         "mode": "markers",
         "type": "scattermapbox"
        },
        {
         "hoverinfo": "skip",
         "lat": [
          53.6464,
          53.6456
         ],
         "line": {
          "color": "#1ac938"
         },
         "lon": [
          11.3745,
          11.3752
         ],
         "mode": "lines",
         "type": "scattermapbox"
        },
        {
         "hoverinfo": "text",
         "hovertext": "MV3.101 Line 115",
         "lat": [
          53.646
         ],
         "lon": [
          11.374849999999999
         ],
         "marker": {
          "color": "#1ac938",
          "opacity": 0,
          "size": 0
         },
         "mode": "markers",
         "type": "scattermapbox"
        },
        {
         "hoverinfo": "skip",
         "lat": [
          53.6443,
          53.6441
         ],
         "line": {
          "color": "#1ac938"
         },
         "lon": [
          11.3619,
          11.3609
         ],
         "mode": "lines",
         "type": "scattermapbox"
        },
        {
         "hoverinfo": "text",
         "hovertext": "MV3.101 Line 88",
         "lat": [
          53.6442
         ],
         "lon": [
          11.3614
         ],
         "marker": {
          "color": "#1ac938",
          "opacity": 0,
          "size": 0
         },
         "mode": "markers",
         "type": "scattermapbox"
        },
        {
         "hoverinfo": "skip",
         "lat": [
          53.6411,
          53.6397
         ],
         "line": {
          "color": "#1ac938"
         },
         "lon": [
          11.3715,
          11.3715
         ],
         "mode": "lines",
         "type": "scattermapbox"
        },
        {
         "hoverinfo": "text",
         "hovertext": "MV3.101 Line 9",
         "lat": [
          53.6404
         ],
         "lon": [
          11.3715
         ],
         "marker": {
          "color": "#1ac938",
          "opacity": 0,
          "size": 0
         },
         "mode": "markers",
         "type": "scattermapbox"
        },
        {
         "hoverinfo": "skip",
         "lat": [
          53.6456,
          53.6457
         ],
         "line": {
          "color": "#1ac938"
         },
         "lon": [
          11.3692,
          11.3697
         ],
         "mode": "lines",
         "type": "scattermapbox"
        },
        {
         "hoverinfo": "text",
         "hovertext": "MV3.101 Line 26",
         "lat": [
          53.64565
         ],
         "lon": [
          11.36945
         ],
         "marker": {
          "color": "#1ac938",
          "opacity": 0,
          "size": 0
         },
         "mode": "markers",
         "type": "scattermapbox"
        },
        {
         "hoverinfo": "skip",
         "lat": [
          53.6477,
          53.6494
         ],
         "line": {
          "color": "#1ac938"
         },
         "lon": [
          11.3511,
          11.351
         ],
         "mode": "lines",
         "type": "scattermapbox"
        },
        {
         "hoverinfo": "text",
         "hovertext": "MV3.101 Line 94",
         "lat": [
          53.64855
         ],
         "lon": [
          11.35105
         ],
         "marker": {
          "color": "#1ac938",
          "opacity": 0,
          "size": 0
         },
         "mode": "markers",
         "type": "scattermapbox"
        },
        {
         "hoverinfo": "skip",
         "lat": [
          53.6481,
          53.6499
         ],
         "line": {
          "color": "#1ac938"
         },
         "lon": [
          11.3752,
          11.3773
         ],
         "mode": "lines",
         "type": "scattermapbox"
        },
        {
         "hoverinfo": "text",
         "hovertext": "MV3.101 Line 129",
         "lat": [
          53.649
         ],
         "lon": [
          11.376249999999999
         ],
         "marker": {
          "color": "#1ac938",
          "opacity": 0,
          "size": 0
         },
         "mode": "markers",
         "type": "scattermapbox"
        },
        {
         "hoverinfo": "skip",
         "lat": [
          53.6568,
          53.6567
         ],
         "line": {
          "color": "#1ac938"
         },
         "lon": [
          11.3561,
          11.3529
         ],
         "mode": "lines",
         "type": "scattermapbox"
        },
        {
         "hoverinfo": "text",
         "hovertext": "MV3.101 Line 61",
         "lat": [
          53.65675
         ],
         "lon": [
          11.3545
         ],
         "marker": {
          "color": "#1ac938",
          "opacity": 0,
          "size": 0
         },
         "mode": "markers",
         "type": "scattermapbox"
        },
        {
         "hoverinfo": "skip",
         "lat": [
          53.6592,
          53.6598
         ],
         "line": {
          "color": "#1ac938"
         },
         "lon": [
          11.3686,
          11.3685
         ],
         "mode": "lines",
         "type": "scattermapbox"
        },
        {
         "hoverinfo": "text",
         "hovertext": "MV3.101 Line 40",
         "lat": [
          53.659499999999994
         ],
         "lon": [
          11.368549999999999
         ],
         "marker": {
          "color": "#1ac938",
          "opacity": 0,
          "size": 0
         },
         "mode": "markers",
         "type": "scattermapbox"
        },
        {
         "hoverinfo": "skip",
         "lat": [
          53.6456,
          53.6485
         ],
         "line": {
          "color": "#1ac938"
         },
         "lon": [
          11.3692,
          11.3698
         ],
         "mode": "lines",
         "type": "scattermapbox"
        },
        {
         "hoverinfo": "text",
         "hovertext": "MV3.101 Line 16",
         "lat": [
          53.64705
         ],
         "lon": [
          11.369499999999999
         ],
         "marker": {
          "color": "#1ac938",
          "opacity": 0,
          "size": 0
         },
         "mode": "markers",
         "type": "scattermapbox"
        },
        {
         "hoverinfo": "skip",
         "lat": [
          53.6384,
          53.6353
         ],
         "line": {
          "color": "#1ac938"
         },
         "lon": [
          11.364,
          11.3632
         ],
         "mode": "lines",
         "type": "scattermapbox"
        },
        {
         "hoverinfo": "text",
         "hovertext": "MV3.101 Line 74",
         "lat": [
          53.636849999999995
         ],
         "lon": [
          11.363600000000002
         ],
         "marker": {
          "color": "#1ac938",
          "opacity": 0,
          "size": 0
         },
         "mode": "markers",
         "type": "scattermapbox"
        },
        {
         "hoverinfo": "skip",
         "lat": [
          53.655,
          53.6537
         ],
         "line": {
          "color": "#1ac938"
         },
         "lon": [
          11.3518,
          11.3524
         ],
         "mode": "lines",
         "type": "scattermapbox"
        },
        {
         "hoverinfo": "text",
         "hovertext": "MV3.101 Line 64",
         "lat": [
          53.65435
         ],
         "lon": [
          11.3521
         ],
         "marker": {
          "color": "#1ac938",
          "opacity": 0,
          "size": 0
         },
         "mode": "markers",
         "type": "scattermapbox"
        },
        {
         "hoverinfo": "skip",
         "lat": [
          53.6456,
          53.6453
         ],
         "line": {
          "color": "#1ac938"
         },
         "lon": [
          11.3692,
          11.3665
         ],
         "mode": "lines",
         "type": "scattermapbox"
        },
        {
         "hoverinfo": "text",
         "hovertext": "MV3.101 Line 84",
         "lat": [
          53.64545
         ],
         "lon": [
          11.36785
         ],
         "marker": {
          "color": "#1ac938",
          "opacity": 0,
          "size": 0
         },
         "mode": "markers",
         "type": "scattermapbox"
        },
        {
         "hoverinfo": "skip",
         "lat": [
          53.6489,
          53.6498
         ],
         "line": {
          "color": "#1ac938"
         },
         "lon": [
          11.3604,
          11.3578
         ],
         "mode": "lines",
         "type": "scattermapbox"
        },
        {
         "hoverinfo": "text",
         "hovertext": "MV3.101 Line 54",
         "lat": [
          53.64935
         ],
         "lon": [
          11.3591
         ],
         "marker": {
          "color": "#1ac938",
          "opacity": 0,
          "size": 0
         },
         "mode": "markers",
         "type": "scattermapbox"
        },
        {
         "hoverinfo": "skip",
         "lat": [
          53.6499,
          53.6501
         ],
         "line": {
          "color": "#1ac938"
         },
         "lon": [
          11.3773,
          11.3779
         ],
         "mode": "lines",
         "type": "scattermapbox"
        },
        {
         "hoverinfo": "text",
         "hovertext": "MV3.101 Line 130",
         "lat": [
          53.650000000000006
         ],
         "lon": [
          11.377600000000001
         ],
         "marker": {
          "color": "#1ac938",
          "opacity": 0,
          "size": 0
         },
         "mode": "markers",
         "type": "scattermapbox"
        },
        {
         "hoverinfo": "skip",
         "lat": [
          53.6285,
          53.6261
         ],
         "line": {
          "color": "#1ac938"
         },
         "lon": [
          11.3627,
          11.3638
         ],
         "mode": "lines",
         "type": "scattermapbox"
        },
        {
         "hoverinfo": "text",
         "hovertext": "MV3.101 Line 80",
         "lat": [
          53.627300000000005
         ],
         "lon": [
          11.36325
         ],
         "marker": {
          "color": "#1ac938",
          "opacity": 0,
          "size": 0
         },
         "mode": "markers",
         "type": "scattermapbox"
        },
        {
         "hoverinfo": "skip",
         "lat": [
          53.6438,
          53.6431
         ],
         "line": {
          "color": "#1ac938"
         },
         "lon": [
          11.3767,
          11.3783
         ],
         "mode": "lines",
         "type": "scattermapbox"
        },
        {
         "hoverinfo": "text",
         "hovertext": "MV3.101 Line 110",
         "lat": [
          53.64345
         ],
         "lon": [
          11.3775
         ],
         "marker": {
          "color": "#1ac938",
          "opacity": 0,
          "size": 0
         },
         "mode": "markers",
         "type": "scattermapbox"
        },
        {
         "hoverinfo": "skip",
         "lat": [
          53.6502,
          53.6501
         ],
         "line": {
          "color": "#1ac938"
         },
         "lon": [
          11.3805,
          11.3811
         ],
         "mode": "lines",
         "type": "scattermapbox"
        },
        {
         "hoverinfo": "text",
         "hovertext": "MV3.101 Line 132",
         "lat": [
          53.65015
         ],
         "lon": [
          11.3808
         ],
         "marker": {
          "color": "#1ac938",
          "opacity": 0,
          "size": 0
         },
         "mode": "markers",
         "type": "scattermapbox"
        },
        {
         "hoverinfo": "skip",
         "lat": [
          53.6501,
          53.6502
         ],
         "line": {
          "color": "#1ac938"
         },
         "lon": [
          11.3779,
          11.3805
         ],
         "mode": "lines",
         "type": "scattermapbox"
        },
        {
         "hoverinfo": "text",
         "hovertext": "MV3.101 Line 131",
         "lat": [
          53.65015
         ],
         "lon": [
          11.3792
         ],
         "marker": {
          "color": "#1ac938",
          "opacity": 0,
          "size": 0
         },
         "mode": "markers",
         "type": "scattermapbox"
        },
        {
         "hoverinfo": "skip",
         "lat": [
          53.6236,
          53.6252
         ],
         "line": {
          "color": "#1ac938"
         },
         "lon": [
          11.3683,
          11.3714
         ],
         "mode": "lines",
         "type": "scattermapbox"
        },
        {
         "hoverinfo": "text",
         "hovertext": "MV3.101 Line 83",
         "lat": [
          53.6244
         ],
         "lon": [
          11.36985
         ],
         "marker": {
          "color": "#1ac938",
          "opacity": 0,
          "size": 0
         },
         "mode": "markers",
         "type": "scattermapbox"
        },
        {
         "hoverinfo": "skip",
         "lat": [
          53.6524,
          53.6531
         ],
         "line": {
          "color": "#1ac938"
         },
         "lon": [
          11.3561,
          11.3584
         ],
         "mode": "lines",
         "type": "scattermapbox"
        },
        {
         "hoverinfo": "text",
         "hovertext": "MV3.101 Line 58",
         "lat": [
          53.65275
         ],
         "lon": [
          11.35725
         ],
         "marker": {
          "color": "#1ac938",
          "opacity": 0,
          "size": 0
         },
         "mode": "markers",
         "type": "scattermapbox"
        },
        {
         "hoverinfo": "skip",
         "lat": [
          53.6454,
          53.6456
         ],
         "line": {
          "color": "#1ac938"
         },
         "lon": [
          11.3732,
          11.3738
         ],
         "mode": "lines",
         "type": "scattermapbox"
        },
        {
         "hoverinfo": "text",
         "hovertext": "MV3.101 Line 15",
         "lat": [
          53.6455
         ],
         "lon": [
          11.3735
         ],
         "marker": {
          "color": "#1ac938",
          "opacity": 0,
          "size": 0
         },
         "mode": "markers",
         "type": "scattermapbox"
        },
        {
         "hoverinfo": "skip",
         "lat": [
          53.6456,
          53.6441
         ],
         "line": {
          "color": "#1ac938"
         },
         "lon": [
          11.3692,
          11.3699
         ],
         "mode": "lines",
         "type": "scattermapbox"
        },
        {
         "hoverinfo": "text",
         "hovertext": "MV3.101 Line 1",
         "lat": [
          53.644850000000005
         ],
         "lon": [
          11.36955
         ],
         "marker": {
          "color": "#1ac938",
          "opacity": 0,
          "size": 0
         },
         "mode": "markers",
         "type": "scattermapbox"
        },
        {
         "hoverinfo": "skip",
         "lat": [
          53.6453,
          53.645
         ],
         "line": {
          "color": "#1ac938"
         },
         "lon": [
          11.3665,
          11.3649
         ],
         "mode": "lines",
         "type": "scattermapbox"
        },
        {
         "hoverinfo": "text",
         "hovertext": "MV3.101 Line 85",
         "lat": [
          53.64515
         ],
         "lon": [
          11.3657
         ],
         "marker": {
          "color": "#1ac938",
          "opacity": 0,
          "size": 0
         },
         "mode": "markers",
         "type": "scattermapbox"
        },
        {
         "hoverinfo": "skip",
         "lat": [
          53.6481,
          53.6472
         ],
         "line": {
          "color": "#1ac938"
         },
         "lon": [
          11.3819,
          11.3833
         ],
         "mode": "lines",
         "type": "scattermapbox"
        },
        {
         "hoverinfo": "text",
         "hovertext": "MV3.101 Line 124",
         "lat": [
          53.64765
         ],
         "lon": [
          11.3826
         ],
         "marker": {
          "color": "#1ac938",
          "opacity": 0,
          "size": 0
         },
         "mode": "markers",
         "type": "scattermapbox"
        },
        {
         "hoverinfo": "skip",
         "lat": [
          53.6498,
          53.6504
         ],
         "line": {
          "color": "#1ac938"
         },
         "lon": [
          11.3578,
          11.357
         ],
         "mode": "lines",
         "type": "scattermapbox"
        },
        {
         "hoverinfo": "text",
         "hovertext": "MV3.101 Line 55",
         "lat": [
          53.650099999999995
         ],
         "lon": [
          11.357399999999998
         ],
         "marker": {
          "color": "#1ac938",
          "opacity": 0,
          "size": 0
         },
         "mode": "markers",
         "type": "scattermapbox"
        },
        {
         "hoverinfo": "skip",
         "lat": [
          53.6456,
          53.6454
         ],
         "line": {
          "color": "#1ac938"
         },
         "lon": [
          11.3752,
          11.3762
         ],
         "mode": "lines",
         "type": "scattermapbox"
        },
        {
         "hoverinfo": "text",
         "hovertext": "MV3.101 Line 116",
         "lat": [
          53.6455
         ],
         "lon": [
          11.3757
         ],
         "marker": {
          "color": "#1ac938",
          "opacity": 0,
          "size": 0
         },
         "mode": "markers",
         "type": "scattermapbox"
        },
        {
         "hoverinfo": "skip",
         "lat": [
          53.6477,
          53.6492
         ],
         "line": {
          "color": "#1ac938"
         },
         "lon": [
          11.3701,
          11.372
         ],
         "mode": "lines",
         "type": "scattermapbox"
        },
        {
         "hoverinfo": "text",
         "hovertext": "MV3.101 Line 29",
         "lat": [
          53.64845
         ],
         "lon": [
          11.37105
         ],
         "marker": {
          "color": "#1ac938",
          "opacity": 0,
          "size": 0
         },
         "mode": "markers",
         "type": "scattermapbox"
        },
        {
         "hoverinfo": "skip",
         "lat": [
          53.637,
          53.6363
         ],
         "line": {
          "color": "#1ac938"
         },
         "lon": [
          11.3664,
          11.3661
         ],
         "mode": "lines",
         "type": "scattermapbox"
        },
        {
         "hoverinfo": "text",
         "hovertext": "MV3.101 Line 99",
         "lat": [
          53.63665
         ],
         "lon": [
          11.36625
         ],
         "marker": {
          "color": "#1ac938",
          "opacity": 0,
          "size": 0
         },
         "mode": "markers",
         "type": "scattermapbox"
        },
        {
         "hoverinfo": "skip",
         "lat": [
          53.6456,
          53.6451
         ],
         "line": {
          "color": "#1ac938"
         },
         "lon": [
          11.3692,
          11.369
         ],
         "mode": "lines",
         "type": "scattermapbox"
        },
        {
         "hoverinfo": "text",
         "hovertext": "MV3.101 Line 67",
         "lat": [
          53.64535
         ],
         "lon": [
          11.3691
         ],
         "marker": {
          "color": "#1ac938",
          "opacity": 0,
          "size": 0
         },
         "mode": "markers",
         "type": "scattermapbox"
        },
        {
         "hoverinfo": "skip",
         "lat": [
          53.642,
          53.6416
         ],
         "line": {
          "color": "#1ac938"
         },
         "lon": [
          11.3663,
          11.366
         ],
         "mode": "lines",
         "type": "scattermapbox"
        },
        {
         "hoverinfo": "text",
         "hovertext": "MV3.101 Line 71",
         "lat": [
          53.6418
         ],
         "lon": [
          11.366150000000001
         ],
         "marker": {
          "color": "#1ac938",
          "opacity": 0,
          "size": 0
         },
         "mode": "markers",
         "type": "scattermapbox"
        },
        {
         "hoverinfo": "skip",
         "lat": [
          53.6429,
          53.6428
         ],
         "line": {
          "color": "#1ac938"
         },
         "lon": [
          11.3789,
          11.381
         ],
         "mode": "lines",
         "type": "scattermapbox"
        },
        {
         "hoverinfo": "text",
         "hovertext": "MV3.101 Line 112",
         "lat": [
          53.642849999999996
         ],
         "lon": [
          11.379950000000001
         ],
         "marker": {
          "color": "#1ac938",
          "opacity": 0,
          "size": 0
         },
         "mode": "markers",
         "type": "scattermapbox"
        },
        {
         "hoverinfo": "skip",
         "lat": [
          53.6464,
          53.6464
         ],
         "line": {
          "color": "#1ac938"
         },
         "lon": [
          11.3721,
          11.3745
         ],
         "mode": "lines",
         "type": "scattermapbox"
        },
        {
         "hoverinfo": "text",
         "hovertext": "MV3.101 BS-Feeder4_line",
         "lat": [
          53.6464
         ],
         "lon": [
          11.3733
         ],
         "marker": {
          "color": "#1ac938",
          "opacity": 0,
          "size": 0
         },
         "mode": "markers",
         "type": "scattermapbox"
        },
        {
         "hoverinfo": "skip",
         "lat": [
          53.6521,
          53.6508
         ],
         "line": {
          "color": "#1ac938"
         },
         "lon": [
          11.3535,
          11.3521
         ],
         "mode": "lines",
         "type": "scattermapbox"
        },
        {
         "hoverinfo": "text",
         "hovertext": "MV3.101 Line 66",
         "lat": [
          53.65145
         ],
         "lon": [
          11.3528
         ],
         "marker": {
          "color": "#1ac938",
          "opacity": 0,
          "size": 0
         },
         "mode": "markers",
         "type": "scattermapbox"
        },
        {
         "hoverinfo": "skip",
         "lat": [
          53.6429,
          53.6434
         ],
         "line": {
          "color": "#1ac938"
         },
         "lon": [
          11.3815,
          11.3825
         ],
         "mode": "lines",
         "type": "scattermapbox"
        },
        {
         "hoverinfo": "text",
         "hovertext": "MV3.101 Line 114",
         "lat": [
          53.64315
         ],
         "lon": [
          11.382000000000001
         ],
         "marker": {
          "color": "#1ac938",
          "opacity": 0,
          "size": 0
         },
         "mode": "markers",
         "type": "scattermapbox"
        },
        {
         "hoverinfo": "skip",
         "lat": [
          53.634,
          53.6332
         ],
         "line": {
          "color": "#1ac938"
         },
         "lon": [
          11.3636,
          11.3633
         ],
         "mode": "lines",
         "type": "scattermapbox"
        },
        {
         "hoverinfo": "text",
         "hovertext": "MV3.101 Line 76",
         "lat": [
          53.6336
         ],
         "lon": [
          11.36345
         ],
         "marker": {
          "color": "#1ac938",
          "opacity": 0,
          "size": 0
         },
         "mode": "markers",
         "type": "scattermapbox"
        },
        {
         "hoverinfo": "skip",
         "lat": [
          53.6454,
          53.6453
         ],
         "line": {
          "color": "#1ac938"
         },
         "lon": [
          11.3706,
          11.372
         ],
         "mode": "lines",
         "type": "scattermapbox"
        },
        {
         "hoverinfo": "text",
         "hovertext": "MV3.101 Line 13",
         "lat": [
          53.64535
         ],
         "lon": [
          11.3713
         ],
         "marker": {
          "color": "#1ac938",
          "opacity": 0,
          "size": 0
         },
         "mode": "markers",
         "type": "scattermapbox"
        },
        {
         "hoverinfo": "skip",
         "lat": [
          53.6544,
          53.6534
         ],
         "line": {
          "color": "#1ac938"
         },
         "lon": [
          11.3777,
          11.3794
         ],
         "mode": "lines",
         "type": "scattermapbox"
        },
        {
         "hoverinfo": "text",
         "hovertext": "MV3.101 Line 23",
         "lat": [
          53.6539
         ],
         "lon": [
          11.37855
         ],
         "marker": {
          "color": "#1ac938",
          "opacity": 0,
          "size": 0
         },
         "mode": "markers",
         "type": "scattermapbox"
        },
        {
         "hoverinfo": "skip",
         "lat": [
          53.6481,
          53.6481
         ],
         "line": {
          "color": "#1ac938"
         },
         "lon": [
          11.3784,
          11.3819
         ],
         "mode": "lines",
         "type": "scattermapbox"
        },
        {
         "hoverinfo": "text",
         "hovertext": "MV3.101 Line 123",
         "lat": [
          53.6481
         ],
         "lon": [
          11.38015
         ],
         "marker": {
          "color": "#1ac938",
          "opacity": 0,
          "size": 0
         },
         "mode": "markers",
         "type": "scattermapbox"
        },
        {
         "hoverinfo": "skip",
         "lat": [
          53.6501,
          53.6488
         ],
         "line": {
          "color": "#1ac938"
         },
         "lon": [
          11.3811,
          11.3833
         ],
         "mode": "lines",
         "type": "scattermapbox"
        },
        {
         "hoverinfo": "text",
         "hovertext": "MV3.101 Line 133",
         "lat": [
          53.64945
         ],
         "lon": [
          11.382200000000001
         ],
         "marker": {
          "color": "#1ac938",
          "opacity": 0,
          "size": 0
         },
         "mode": "markers",
         "type": "scattermapbox"
        },
        {
         "hoverinfo": "skip",
         "lat": [
          53.6461,
          53.6477
         ],
         "line": {
          "color": "#1ac938"
         },
         "lon": [
          11.3521,
          11.3511
         ],
         "mode": "lines",
         "type": "scattermapbox"
        },
        {
         "hoverinfo": "text",
         "hovertext": "MV3.101 Line 93",
         "lat": [
          53.6469
         ],
         "lon": [
          11.351600000000001
         ],
         "marker": {
          "color": "#1ac938",
          "opacity": 0,
          "size": 0
         },
         "mode": "markers",
         "type": "scattermapbox"
        },
        {
         "hoverinfo": "skip",
         "lat": [
          53.641,
          53.6415
         ],
         "line": {
          "color": "#1ac938"
         },
         "lon": [
          11.3767,
          11.3776
         ],
         "mode": "lines",
         "type": "scattermapbox"
        },
        {
         "hoverinfo": "text",
         "hovertext": "MV3.101 Line 7",
         "lat": [
          53.64125
         ],
         "lon": [
          11.37715
         ],
         "marker": {
          "color": "#1ac938",
          "opacity": 0,
          "size": 0
         },
         "mode": "markers",
         "type": "scattermapbox"
        },
        {
         "hoverinfo": "skip",
         "lat": [
          53.6465,
          53.6477
         ],
         "line": {
          "color": "#1ac938"
         },
         "lon": [
          11.3669,
          11.3641
         ],
         "mode": "lines",
         "type": "scattermapbox"
        },
        {
         "hoverinfo": "text",
         "hovertext": "MV3.101 Line 51",
         "lat": [
          53.6471
         ],
         "lon": [
          11.3655
         ],
         "marker": {
          "color": "#1ac938",
          "opacity": 0,
          "size": 0
         },
         "mode": "markers",
         "type": "scattermapbox"
        },
        {
         "hoverinfo": "skip",
         "lat": [
          53.6541,
          53.6572
         ],
         "line": {
          "color": "#1ac938"
         },
         "lon": [
          11.3682,
          11.3686
         ],
         "mode": "lines",
         "type": "scattermapbox"
        },
        {
         "hoverinfo": "text",
         "hovertext": "MV3.101 Line 37",
         "lat": [
          53.65565
         ],
         "lon": [
          11.368400000000001
         ],
         "marker": {
          "color": "#1ac938",
          "opacity": 0,
          "size": 0
         },
         "mode": "markers",
         "type": "scattermapbox"
        },
        {
         "hoverinfo": "skip",
         "lat": [
          53.6332,
          53.6312
         ],
         "line": {
          "color": "#1ac938"
         },
         "lon": [
          11.3633,
          11.3627
         ],
         "mode": "lines",
         "type": "scattermapbox"
        },
        {
         "hoverinfo": "text",
         "hovertext": "MV3.101 Line 77",
         "lat": [
          53.6322
         ],
         "lon": [
          11.363
         ],
         "marker": {
          "color": "#1ac938",
          "opacity": 0,
          "size": 0
         },
         "mode": "markers",
         "type": "scattermapbox"
        },
        {
         "hoverinfo": "skip",
         "lat": [
          53.6406,
          53.6384
         ],
         "line": {
          "color": "#1ac938"
         },
         "lon": [
          11.3654,
          11.364
         ],
         "mode": "lines",
         "type": "scattermapbox"
        },
        {
         "hoverinfo": "text",
         "hovertext": "MV3.101 Line 73",
         "lat": [
          53.6395
         ],
         "lon": [
          11.3647
         ],
         "marker": {
          "color": "#1ac938",
          "opacity": 0,
          "size": 0
         },
         "mode": "markers",
         "type": "scattermapbox"
        },
        {
         "hoverinfo": "skip",
         "lat": [
          53.6472,
          53.6464
         ],
         "line": {
          "color": "#1ac938"
         },
         "lon": [
          11.3833,
          11.3832
         ],
         "mode": "lines",
         "type": "scattermapbox"
        },
        {
         "hoverinfo": "text",
         "hovertext": "MV3.101 Line 125",
         "lat": [
          53.6468
         ],
         "lon": [
          11.38325
         ],
         "marker": {
          "color": "#1ac938",
          "opacity": 0,
          "size": 0
         },
         "mode": "markers",
         "type": "scattermapbox"
        },
        {
         "hoverinfo": "skip",
         "lat": [
          53.6363,
          53.6346
         ],
         "line": {
          "color": "#1ac938"
         },
         "lon": [
          11.3661,
          11.3656
         ],
         "mode": "lines",
         "type": "scattermapbox"
        },
        {
         "hoverinfo": "text",
         "hovertext": "MV3.101 Line 100",
         "lat": [
          53.63545
         ],
         "lon": [
          11.36585
         ],
         "marker": {
          "color": "#1ac938",
          "opacity": 0,
          "size": 0
         },
         "mode": "markers",
         "type": "scattermapbox"
        },
        {
         "hoverinfo": "skip",
         "lat": [
          53.645,
          53.6448
         ],
         "line": {
          "color": "#1ac938"
         },
         "lon": [
          11.3649,
          11.364
         ],
         "mode": "lines",
         "type": "scattermapbox"
        },
        {
         "hoverinfo": "text",
         "hovertext": "MV3.101 Line 86",
         "lat": [
          53.6449
         ],
         "lon": [
          11.364450000000001
         ],
         "marker": {
          "color": "#1ac938",
          "opacity": 0,
          "size": 0
         },
         "mode": "markers",
         "type": "scattermapbox"
        },
        {
         "hoverinfo": "skip",
         "lat": [
          53.6485,
          53.6505
         ],
         "line": {
          "color": "#1ac938"
         },
         "lon": [
          11.3698,
          11.3708
         ],
         "mode": "lines",
         "type": "scattermapbox"
        },
        {
         "hoverinfo": "text",
         "hovertext": "MV3.101 Line 17",
         "lat": [
          53.6495
         ],
         "lon": [
          11.3703
         ],
         "marker": {
          "color": "#1ac938",
          "opacity": 0,
          "size": 0
         },
         "mode": "markers",
         "type": "scattermapbox"
        },
        {
         "hoverinfo": "skip",
         "lat": [
          53.6511,
          53.6531
         ],
         "line": {
          "color": "#1ac938"
         },
         "lon": [
          11.3682,
          11.3682
         ],
         "mode": "lines",
         "type": "scattermapbox"
        },
        {
         "hoverinfo": "text",
         "hovertext": "MV3.101 Line 35",
         "lat": [
          53.652100000000004
         ],
         "lon": [
          11.3682
         ],
         "marker": {
          "color": "#1ac938",
          "opacity": 0,
          "size": 0
         },
         "mode": "markers",
         "type": "scattermapbox"
        },
        {
         "hoverinfo": "skip",
         "lat": [
          53.6516,
          53.6524
         ],
         "line": {
          "color": "#1ac938"
         },
         "lon": [
          11.3561,
          11.3561
         ],
         "mode": "lines",
         "type": "scattermapbox"
        },
        {
         "hoverinfo": "text",
         "hovertext": "MV3.101 Line 57",
         "lat": [
          53.652
         ],
         "lon": [
          11.3561
         ],
         "marker": {
          "color": "#1ac938",
          "opacity": 0,
          "size": 0
         },
         "mode": "markers",
         "type": "scattermapbox"
        },
        {
         "hoverinfo": "skip",
         "lat": [
          53.6531,
          53.6541
         ],
         "line": {
          "color": "#1ac938"
         },
         "lon": [
          11.3682,
          11.3682
         ],
         "mode": "lines",
         "type": "scattermapbox"
        },
        {
         "hoverinfo": "text",
         "hovertext": "MV3.101 Line 36",
         "lat": [
          53.6536
         ],
         "lon": [
          11.3682
         ],
         "marker": {
          "color": "#1ac938",
          "opacity": 0,
          "size": 0
         },
         "mode": "markers",
         "type": "scattermapbox"
        },
        {
         "hoverinfo": "skip",
         "lat": [
          53.6454,
          53.6454
         ],
         "line": {
          "color": "#1ac938"
         },
         "lon": [
          11.3762,
          11.3776
         ],
         "mode": "lines",
         "type": "scattermapbox"
        },
        {
         "hoverinfo": "text",
         "hovertext": "MV3.101 Line 117",
         "lat": [
          53.6454
         ],
         "lon": [
          11.3769
         ],
         "marker": {
          "color": "#1ac938",
          "opacity": 0,
          "size": 0
         },
         "mode": "markers",
         "type": "scattermapbox"
        },
        {
         "hoverinfo": "skip",
         "lat": [
          53.6559,
          53.655
         ],
         "line": {
          "color": "#1ac938"
         },
         "lon": [
          11.3519,
          11.3518
         ],
         "mode": "lines",
         "type": "scattermapbox"
        },
        {
         "hoverinfo": "text",
         "hovertext": "MV3.101 Line 63",
         "lat": [
          53.65545
         ],
         "lon": [
          11.35185
         ],
         "marker": {
          "color": "#1ac938",
          "opacity": 0,
          "size": 0
         },
         "mode": "markers",
         "type": "scattermapbox"
        },
        {
         "hoverinfo": "skip",
         "lat": [
          53.6459,
          53.648
         ],
         "line": {
          "color": "#1ac938"
         },
         "lon": [
          11.3687,
          11.3667
         ],
         "mode": "lines",
         "type": "scattermapbox"
        },
        {
         "hoverinfo": "text",
         "hovertext": "MV3.101 Line 42",
         "lat": [
          53.646950000000004
         ],
         "lon": [
          11.3677
         ],
         "marker": {
          "color": "#1ac938",
          "opacity": 0,
          "size": 0
         },
         "mode": "markers",
         "type": "scattermapbox"
        },
        {
         "hoverinfo": "skip",
         "lat": [
          53.6482,
          53.6489
         ],
         "line": {
          "color": "#1ac938"
         },
         "lon": [
          11.3627,
          11.3604
         ],
         "mode": "lines",
         "type": "scattermapbox"
        },
        {
         "hoverinfo": "text",
         "hovertext": "MV3.101 Line 53",
         "lat": [
          53.64855
         ],
         "lon": [
          11.361550000000001
         ],
         "marker": {
          "color": "#1ac938",
          "opacity": 0,
          "size": 0
         },
         "mode": "markers",
         "type": "scattermapbox"
        },
        {
         "hoverinfo": "skip",
         "lat": [
          53.6428,
          53.6429
         ],
         "line": {
          "color": "#1ac938"
         },
         "lon": [
          11.381,
          11.3815
         ],
         "mode": "lines",
         "type": "scattermapbox"
        },
        {
         "hoverinfo": "text",
         "hovertext": "MV3.101 Line 113",
         "lat": [
          53.642849999999996
         ],
         "lon": [
          11.381250000000001
         ],
         "marker": {
          "color": "#1ac938",
          "opacity": 0,
          "size": 0
         },
         "mode": "markers",
         "type": "scattermapbox"
        },
        {
         "hoverinfo": "skip",
         "lat": [
          53.6346,
          53.633
         ],
         "line": {
          "color": "#1ac938"
         },
         "lon": [
          11.3656,
          11.3668
         ],
         "mode": "lines",
         "type": "scattermapbox"
        },
        {
         "hoverinfo": "text",
         "hovertext": "MV3.101 Line 101",
         "lat": [
          53.6338
         ],
         "lon": [
          11.3662
         ],
         "marker": {
          "color": "#1ac938",
          "opacity": 0,
          "size": 0
         },
         "mode": "markers",
         "type": "scattermapbox"
        },
        {
         "hoverinfo": "skip",
         "lat": [
          53.6303,
          53.6285
         ],
         "line": {
          "color": "#1ac938"
         },
         "lon": [
          11.3626,
          11.3627
         ],
         "mode": "lines",
         "type": "scattermapbox"
        },
        {
         "hoverinfo": "text",
         "hovertext": "MV3.101 Line 79",
         "lat": [
          53.629400000000004
         ],
         "lon": [
          11.36265
         ],
         "marker": {
          "color": "#1ac938",
          "opacity": 0,
          "size": 0
         },
         "mode": "markers",
         "type": "scattermapbox"
        },
        {
         "hoverinfo": "skip",
         "lat": [
          53.6544,
          53.6579
         ],
         "line": {
          "color": "#1ac938"
         },
         "lon": [
          11.3637,
          11.3634
         ],
         "mode": "lines",
         "type": "scattermapbox"
        },
        {
         "hoverinfo": "text",
         "hovertext": "MV3.101 Line 46",
         "lat": [
          53.65615
         ],
         "lon": [
          11.36355
         ],
         "marker": {
          "color": "#1ac938",
          "opacity": 0,
          "size": 0
         },
         "mode": "markers",
         "type": "scattermapbox"
        },
        {
         "hoverinfo": "skip",
         "lat": [
          53.6353,
          53.634
         ],
         "line": {
          "color": "#1ac938"
         },
         "lon": [
          11.3632,
          11.3636
         ],
         "mode": "lines",
         "type": "scattermapbox"
        },
        {
         "hoverinfo": "text",
         "hovertext": "MV3.101 Line 75",
         "lat": [
          53.63465
         ],
         "lon": [
          11.3634
         ],
         "marker": {
          "color": "#1ac938",
          "opacity": 0,
          "size": 0
         },
         "mode": "markers",
         "type": "scattermapbox"
        },
        {
         "hoverinfo": "skip",
         "lat": [
          53.6475,
          53.6481
         ],
         "line": {
          "color": "#1ac938"
         },
         "lon": [
          11.3748,
          11.3752
         ],
         "mode": "lines",
         "type": "scattermapbox"
        },
        {
         "hoverinfo": "text",
         "hovertext": "MV3.101 Line 128",
         "lat": [
          53.647800000000004
         ],
         "lon": [
          11.375
         ],
         "marker": {
          "color": "#1ac938",
          "opacity": 0,
          "size": 0
         },
         "mode": "markers",
         "type": "scattermapbox"
        },
        {
         "hoverinfo": "skip",
         "lat": [
          53.6417,
          53.6389
         ],
         "line": {
          "color": "#1ac938"
         },
         "lon": [
          11.368,
          11.3669
         ],
         "mode": "lines",
         "type": "scattermapbox"
        },
        {
         "hoverinfo": "text",
         "hovertext": "MV3.101 Line 97",
         "lat": [
          53.640299999999996
         ],
         "lon": [
          11.36745
         ],
         "marker": {
          "color": "#1ac938",
          "opacity": 0,
          "size": 0
         },
         "mode": "markers",
         "type": "scattermapbox"
        },
        {
         "hoverinfo": "skip",
         "lat": [
          53.6441,
          53.6425
         ],
         "line": {
          "color": "#1ac938"
         },
         "lon": [
          11.3699,
          11.3707
         ],
         "mode": "lines",
         "type": "scattermapbox"
        },
        {
         "hoverinfo": "text",
         "hovertext": "MV3.101 Line 2",
         "lat": [
          53.643299999999996
         ],
         "lon": [
          11.3703
         ],
         "marker": {
          "color": "#1ac938",
          "opacity": 0,
          "size": 0
         },
         "mode": "markers",
         "type": "scattermapbox"
        },
        {
         "hoverinfo": "skip",
         "lat": [
          53.6453,
          53.6454
         ],
         "line": {
          "color": "#1ac938"
         },
         "lon": [
          11.372,
          11.3732
         ],
         "mode": "lines",
         "type": "scattermapbox"
        },
        {
         "hoverinfo": "text",
         "hovertext": "MV3.101 Line 14",
         "lat": [
          53.64535
         ],
         "lon": [
          11.3726
         ],
         "marker": {
          "color": "#1ac938",
          "opacity": 0,
          "size": 0
         },
         "mode": "markers",
         "type": "scattermapbox"
        },
        {
         "hoverinfo": "skip",
         "lat": [
          53.6415,
          53.6422
         ],
         "line": {
          "color": "#1ac938"
         },
         "lon": [
          11.3776,
          11.3784
         ],
         "mode": "lines",
         "type": "scattermapbox"
        },
        {
         "hoverinfo": "text",
         "hovertext": "MV3.101 Line 8",
         "lat": [
          53.641850000000005
         ],
         "lon": [
          11.378
         ],
         "marker": {
          "color": "#1ac938",
          "opacity": 0,
          "size": 0
         },
         "mode": "markers",
         "type": "scattermapbox"
        },
        {
         "hoverinfo": "skip",
         "lat": [
          53.6409,
          53.641
         ],
         "line": {
          "color": "#1ac938"
         },
         "lon": [
          11.3733,
          11.3767
         ],
         "mode": "lines",
         "type": "scattermapbox"
        },
        {
         "hoverinfo": "text",
         "hovertext": "MV3.101 Line 6",
         "lat": [
          53.640950000000004
         ],
         "lon": [
          11.375
         ],
         "marker": {
          "color": "#1ac938",
          "opacity": 0,
          "size": 0
         },
         "mode": "markers",
         "type": "scattermapbox"
        },
        {
         "hoverinfo": "skip",
         "lat": [
          53.6505,
          53.6525
         ],
         "line": {
          "color": "#1ac938"
         },
         "lon": [
          11.3708,
          11.3724
         ],
         "mode": "lines",
         "type": "scattermapbox"
        },
        {
         "hoverinfo": "text",
         "hovertext": "MV3.101 Line 18",
         "lat": [
          53.6515
         ],
         "lon": [
          11.3716
         ],
         "marker": {
          "color": "#1ac938",
          "opacity": 0,
          "size": 0
         },
         "mode": "markers",
         "type": "scattermapbox"
        },
        {
         "hoverinfo": "skip",
         "lat": [
          53.6416,
          53.6406
         ],
         "line": {
          "color": "#1ac938"
         },
         "lon": [
          11.366,
          11.3654
         ],
         "mode": "lines",
         "type": "scattermapbox"
        },
        {
         "hoverinfo": "text",
         "hovertext": "MV3.101 Line 72",
         "lat": [
          53.641099999999994
         ],
         "lon": [
          11.3657
         ],
         "marker": {
          "color": "#1ac938",
          "opacity": 0,
          "size": 0
         },
         "mode": "markers",
         "type": "scattermapbox"
        },
        {
         "hoverinfo": "skip",
         "lat": [
          53.647,
          53.6477
         ],
         "line": {
          "color": "#1ac938"
         },
         "lon": [
          11.3701,
          11.3701
         ],
         "mode": "lines",
         "type": "scattermapbox"
        },
        {
         "hoverinfo": "text",
         "hovertext": "MV3.101 Line 28",
         "lat": [
          53.64735
         ],
         "lon": [
          11.3701
         ],
         "marker": {
          "color": "#1ac938",
          "opacity": 0,
          "size": 0
         },
         "mode": "markers",
         "type": "scattermapbox"
        },
        {
         "hoverinfo": "skip",
         "lat": [
          53.6312,
          53.6303
         ],
         "line": {
          "color": "#1ac938"
         },
         "lon": [
          11.3627,
          11.3626
         ],
         "mode": "lines",
         "type": "scattermapbox"
        },
        {
         "hoverinfo": "text",
         "hovertext": "MV3.101 Line 78",
         "lat": [
          53.63075
         ],
         "lon": [
          11.36265
         ],
         "marker": {
          "color": "#1ac938",
          "opacity": 0,
          "size": 0
         },
         "mode": "markers",
         "type": "scattermapbox"
        },
        {
         "hoverinfo": "skip",
         "lat": [
          53.6531,
          53.6545
         ],
         "line": {
          "color": "#1ac938"
         },
         "lon": [
          11.3584,
          11.3581
         ],
         "mode": "lines",
         "type": "scattermapbox"
        },
        {
         "hoverinfo": "text",
         "hovertext": "MV3.101 Line 59",
         "lat": [
          53.653800000000004
         ],
         "lon": [
          11.35825
         ],
         "marker": {
          "color": "#1ac938",
          "opacity": 0,
          "size": 0
         },
         "mode": "markers",
         "type": "scattermapbox"
        },
        {
         "hoverinfo": "skip",
         "lat": [
          53.6492,
          53.6464
         ],
         "line": {
          "color": "#1ac938"
         },
         "lon": [
          11.372,
          11.3721
         ],
         "mode": "lines",
         "type": "scattermapbox"
        },
        {
         "hoverinfo": "text",
         "hovertext": "MV3.101 Line 30",
         "lat": [
          53.647800000000004
         ],
         "lon": [
          11.37205
         ],
         "marker": {
          "color": "#1ac938",
          "opacity": 0,
          "size": 0
         },
         "mode": "markers",
         "type": "scattermapbox"
        },
        {
         "hoverinfo": "skip",
         "lat": [
          53.6321,
          53.6341
         ],
         "line": {
          "color": "#1ac938"
         },
         "lon": [
          11.3702,
          11.3724
         ],
         "mode": "lines",
         "type": "scattermapbox"
        },
        {
         "hoverinfo": "text",
         "hovertext": "MV3.101 Line 104",
         "lat": [
          53.6331
         ],
         "lon": [
          11.371300000000002
         ],
         "marker": {
          "color": "#1ac938",
          "opacity": 0,
          "size": 0
         },
         "mode": "markers",
         "type": "scattermapbox"
        },
        {
         "hoverinfo": "skip",
         "lat": [
          53.6467,
          53.6479
         ],
         "line": {
          "color": "#1ac938"
         },
         "lon": [
          11.3755,
          11.3773
         ],
         "mode": "lines",
         "type": "scattermapbox"
        },
        {
         "hoverinfo": "text",
         "hovertext": "MV3.101 Line 121",
         "lat": [
          53.6473
         ],
         "lon": [
          11.3764
         ],
         "marker": {
          "color": "#1ac938",
          "opacity": 0,
          "size": 0
         },
         "mode": "markers",
         "type": "scattermapbox"
        },
        {
         "hoverinfo": "skip",
         "lat": [
          53.6514,
          53.6544
         ],
         "line": {
          "color": "#1ac938"
         },
         "lon": [
          11.3638,
          11.3637
         ],
         "mode": "lines",
         "type": "scattermapbox"
        },
        {
         "hoverinfo": "text",
         "hovertext": "MV3.101 Line 45",
         "lat": [
          53.6529
         ],
         "lon": [
          11.36375
         ],
         "marker": {
          "color": "#1ac938",
          "opacity": 0,
          "size": 0
         },
         "mode": "markers",
         "type": "scattermapbox"
        },
        {
         "hoverinfo": "skip",
         "lat": [
          53.6389,
          53.637
         ],
         "line": {
          "color": "#1ac938"
         },
         "lon": [
          11.3669,
          11.3664
         ],
         "mode": "lines",
         "type": "scattermapbox"
        },
        {
         "hoverinfo": "text",
         "hovertext": "MV3.101 Line 98",
         "lat": [
          53.637950000000004
         ],
         "lon": [
          11.36665
         ],
         "marker": {
          "color": "#1ac938",
          "opacity": 0,
          "size": 0
         },
         "mode": "markers",
         "type": "scattermapbox"
        },
        {
         "hoverinfo": "skip",
         "lat": [
          53.6441,
          53.6437
         ],
         "line": {
          "color": "#1ac938"
         },
         "lon": [
          11.3609,
          11.3577
         ],
         "mode": "lines",
         "type": "scattermapbox"
        },
        {
         "hoverinfo": "text",
         "hovertext": "MV3.101 Line 89",
         "lat": [
          53.6439
         ],
         "lon": [
          11.359300000000001
         ],
         "marker": {
          "color": "#1ac938",
          "opacity": 0,
          "size": 0
         },
         "mode": "markers",
         "type": "scattermapbox"
        },
        {
         "hoverinfo": "skip",
         "lat": [
          53.6456,
          53.6464
         ],
         "line": {
          "color": "#1ac938"
         },
         "lon": [
          11.3738,
          11.3745
         ],
         "mode": "lines",
         "type": "scattermapbox"
        },
        {
         "hoverinfo": "text",
         "hovertext": "MV3.101 BS-Feeder3_line",
         "lat": [
          53.646
         ],
         "lon": [
          11.37415
         ],
         "marker": {
          "color": "#1ac938",
          "opacity": 0,
          "size": 0
         },
         "mode": "markers",
         "type": "scattermapbox"
        },
        {
         "hoverinfo": "skip",
         "lat": [
          53.6567,
          53.6559
         ],
         "line": {
          "color": "#1ac938"
         },
         "lon": [
          11.3529,
          11.3519
         ],
         "mode": "lines",
         "type": "scattermapbox"
        },
        {
         "hoverinfo": "text",
         "hovertext": "MV3.101 Line 62",
         "lat": [
          53.6563
         ],
         "lon": [
          11.3524
         ],
         "marker": {
          "color": "#1ac938",
          "opacity": 0,
          "size": 0
         },
         "mode": "markers",
         "type": "scattermapbox"
        },
        {
         "hoverinfo": "skip",
         "lat": [
          53.6451,
          53.6445
         ],
         "line": {
          "color": "#1ac938"
         },
         "lon": [
          11.369,
          11.3683
         ],
         "mode": "lines",
         "type": "scattermapbox"
        },
        {
         "hoverinfo": "text",
         "hovertext": "MV3.101 Line 68",
         "lat": [
          53.644800000000004
         ],
         "lon": [
          11.368649999999999
         ],
         "marker": {
          "color": "#1ac938",
          "opacity": 0,
          "size": 0
         },
         "mode": "markers",
         "type": "scattermapbox"
        },
        {
         "hoverinfo": "skip",
         "lat": [
          53.6434,
          53.642
         ],
         "line": {
          "color": "#1ac938"
         },
         "lon": [
          11.3674,
          11.3663
         ],
         "mode": "lines",
         "type": "scattermapbox"
        },
        {
         "hoverinfo": "text",
         "hovertext": "MV3.101 Line 70",
         "lat": [
          53.642700000000005
         ],
         "lon": [
          11.36685
         ],
         "marker": {
          "color": "#1ac938",
          "opacity": 0,
          "size": 0
         },
         "mode": "markers",
         "type": "scattermapbox"
        },
        {
         "hoverinfo": "skip",
         "lat": [
          53.6545,
          53.6568
         ],
         "line": {
          "color": "#1ac938"
         },
         "lon": [
          11.3581,
          11.3561
         ],
         "mode": "lines",
         "type": "scattermapbox"
        },
        {
         "hoverinfo": "text",
         "hovertext": "MV3.101 Line 60",
         "lat": [
          53.655649999999994
         ],
         "lon": [
          11.357099999999999
         ],
         "marker": {
          "color": "#1ac938",
          "opacity": 0,
          "size": 0
         },
         "mode": "markers",
         "type": "scattermapbox"
        },
        {
         "hoverinfo": "skip",
         "lat": [
          53.6315,
          53.6321
         ],
         "line": {
          "color": "#1ac938"
         },
         "lon": [
          11.3692,
          11.3702
         ],
         "mode": "lines",
         "type": "scattermapbox"
        },
        {
         "hoverinfo": "text",
         "hovertext": "MV3.101 Line 103",
         "lat": [
          53.6318
         ],
         "lon": [
          11.3697
         ],
         "marker": {
          "color": "#1ac938",
          "opacity": 0,
          "size": 0
         },
         "mode": "markers",
         "type": "scattermapbox"
        },
        {
         "hoverinfo": "skip",
         "lat": [
          53.6456,
          53.6464
         ],
         "line": {
          "color": "#1ac938"
         },
         "lon": [
          11.3692,
          11.3745
         ],
         "mode": "lines",
         "type": "scattermapbox"
        },
        {
         "hoverinfo": "text",
         "hovertext": "MV3.101 Reserve line",
         "lat": [
          53.646
         ],
         "lon": [
          11.371849999999998
         ],
         "marker": {
          "color": "#1ac938",
          "opacity": 0,
          "size": 0
         },
         "mode": "markers",
         "type": "scattermapbox"
        },
        {
         "hoverinfo": "skip",
         "lat": [
          53.6519,
          53.651
         ],
         "line": {
          "color": "#1ac938"
         },
         "lon": [
          11.3805,
          11.3807
         ],
         "mode": "lines",
         "type": "scattermapbox"
        },
        {
         "hoverinfo": "text",
         "hovertext": "MV3.101 Line 25",
         "lat": [
          53.65145
         ],
         "lon": [
          11.3806
         ],
         "marker": {
          "color": "#1ac938",
          "opacity": 0,
          "size": 0
         },
         "mode": "markers",
         "type": "scattermapbox"
        },
        {
         "hoverinfo": "skip",
         "lat": [
          53.6306,
          53.6297
         ],
         "line": {
          "color": "#1ac938"
         },
         "lon": [
          11.3739,
          11.3739
         ],
         "mode": "lines",
         "type": "scattermapbox"
        },
        {
         "hoverinfo": "text",
         "hovertext": "MV3.101 Line 107",
         "lat": [
          53.63015
         ],
         "lon": [
          11.3739
         ],
         "marker": {
          "color": "#1ac938",
          "opacity": 0,
          "size": 0
         },
         "mode": "markers",
         "type": "scattermapbox"
        },
        {
         "hoverinfo": "skip",
         "lat": [
          53.6545,
          53.6544
         ],
         "line": {
          "color": "#1ac938"
         },
         "lon": [
          11.3756,
          11.3777
         ],
         "mode": "lines",
         "type": "scattermapbox"
        },
        {
         "hoverinfo": "text",
         "hovertext": "MV3.101 Line 22",
         "lat": [
          53.65445
         ],
         "lon": [
          11.376650000000001
         ],
         "marker": {
          "color": "#1ac938",
          "opacity": 0,
          "size": 0
         },
         "mode": "markers",
         "type": "scattermapbox"
        },
        {
         "hoverinfo": "skip",
         "lat": [
          53.6538,
          53.6543
         ],
         "line": {
          "color": "#1ac938"
         },
         "lon": [
          11.374,
          11.3751
         ],
         "mode": "lines",
         "type": "scattermapbox"
        },
        {
         "hoverinfo": "text",
         "hovertext": "MV3.101 Line 20",
         "lat": [
          53.65405
         ],
         "lon": [
          11.37455
         ],
         "marker": {
          "color": "#1ac938",
          "opacity": 0,
          "size": 0
         },
         "mode": "markers",
         "type": "scattermapbox"
        },
        {
         "hoverinfo": "skip",
         "lat": [
          53.6421,
          53.6411
         ],
         "line": {
          "color": "#1ac938"
         },
         "lon": [
          11.3708,
          11.3715
         ],
         "mode": "lines",
         "type": "scattermapbox"
        },
        {
         "hoverinfo": "text",
         "hovertext": "MV3.101 Line 4",
         "lat": [
          53.6416
         ],
         "lon": [
          11.37115
         ],
         "marker": {
          "color": "#1ac938",
          "opacity": 0,
          "size": 0
         },
         "mode": "markers",
         "type": "scattermapbox"
        },
        {
         "hoverinfo": "skip",
         "lat": [
          53.6297,
          53.6286
         ],
         "line": {
          "color": "#1ac938"
         },
         "lon": [
          11.3739,
          11.3737
         ],
         "mode": "lines",
         "type": "scattermapbox"
        },
        {
         "hoverinfo": "text",
         "hovertext": "MV3.101 Line 108",
         "lat": [
          53.629149999999996
         ],
         "lon": [
          11.3738
         ],
         "marker": {
          "color": "#1ac938",
          "opacity": 0,
          "size": 0
         },
         "mode": "markers",
         "type": "scattermapbox"
        },
        {
         "hoverinfo": "skip",
         "lat": [
          53.6443,
          53.6461
         ],
         "line": {
          "color": "#1ac938"
         },
         "lon": [
          11.3544,
          11.3521
         ],
         "mode": "lines",
         "type": "scattermapbox"
        },
        {
         "hoverinfo": "text",
         "hovertext": "MV3.101 Line 92",
         "lat": [
          53.6452
         ],
         "lon": [
          11.35325
         ],
         "marker": {
          "color": "#1ac938",
          "opacity": 0,
          "size": 0
         },
         "mode": "markers",
         "type": "scattermapbox"
        },
        {
         "hoverinfo": "skip",
         "lat": [
          53.6425,
          53.6421
         ],
         "line": {
          "color": "#1ac938"
         },
         "lon": [
          11.3707,
          11.3708
         ],
         "mode": "lines",
         "type": "scattermapbox"
        },
        {
         "hoverinfo": "text",
         "hovertext": "MV3.101 Line 3",
         "lat": [
          53.6423
         ],
         "lon": [
          11.37075
         ],
         "marker": {
          "color": "#1ac938",
          "opacity": 0,
          "size": 0
         },
         "mode": "markers",
         "type": "scattermapbox"
        },
        {
         "hoverinfo": "skip",
         "lat": [
          53.6456,
          53.6459
         ],
         "line": {
          "color": "#1ac938"
         },
         "lon": [
          11.3692,
          11.3687
         ],
         "mode": "lines",
         "type": "scattermapbox"
        },
        {
         "hoverinfo": "text",
         "hovertext": "MV3.101 Line 41",
         "lat": [
          53.64575
         ],
         "lon": [
          11.36895
         ],
         "marker": {
          "color": "#1ac938",
          "opacity": 0,
          "size": 0
         },
         "mode": "markers",
         "type": "scattermapbox"
        },
        {
         "hoverinfo": "skip",
         "lat": [
          53.6439,
          53.6443
         ],
         "line": {
          "color": "#1ac938"
         },
         "lon": [
          11.3558,
          11.3544
         ],
         "mode": "lines",
         "type": "scattermapbox"
        },
        {
         "hoverinfo": "text",
         "hovertext": "MV3.101 Line 91",
         "lat": [
          53.6441
         ],
         "lon": [
          11.3551
         ],
         "marker": {
          "color": "#1ac938",
          "opacity": 0,
          "size": 0
         },
         "mode": "markers",
         "type": "scattermapbox"
        },
        {
         "hoverinfo": "skip",
         "lat": [
          53.6456,
          53.6436
         ],
         "line": {
          "color": "#1ac938"
         },
         "lon": [
          11.3692,
          11.3686
         ],
         "mode": "lines",
         "type": "scattermapbox"
        },
        {
         "hoverinfo": "text",
         "hovertext": "MV3.101 Line 95",
         "lat": [
          53.6446
         ],
         "lon": [
          11.3689
         ],
         "marker": {
          "color": "#1ac938",
          "opacity": 0,
          "size": 0
         },
         "mode": "markers",
         "type": "scattermapbox"
        },
        {
         "hoverinfo": "skip",
         "lat": [
          53.6456,
          53.6462
         ],
         "line": {
          "color": "#1ac938"
         },
         "lon": [
          11.3692,
          11.3691
         ],
         "mode": "lines",
         "type": "scattermapbox"
        },
        {
         "hoverinfo": "text",
         "hovertext": "MV3.101 Line 31",
         "lat": [
          53.6459
         ],
         "lon": [
          11.36915
         ],
         "marker": {
          "color": "#1ac938",
          "opacity": 0,
          "size": 0
         },
         "mode": "markers",
         "type": "scattermapbox"
        },
        {
         "hoverinfo": "skip",
         "lat": [
          53.6489,
          53.6511
         ],
         "line": {
          "color": "#1ac938"
         },
         "lon": [
          11.3683,
          11.3682
         ],
         "mode": "lines",
         "type": "scattermapbox"
        },
        {
         "hoverinfo": "text",
         "hovertext": "MV3.101 Line 34",
         "lat": [
          53.65
         ],
         "lon": [
          11.36825
         ],
         "marker": {
          "color": "#1ac938",
          "opacity": 0,
          "size": 0
         },
         "mode": "markers",
         "type": "scattermapbox"
        },
        {
         "hoverinfo": "skip",
         "lat": [
          53.6579,
          53.6603
         ],
         "line": {
          "color": "#1ac938"
         },
         "lon": [
          11.3634,
          11.3636
         ],
         "mode": "lines",
         "type": "scattermapbox"
        },
        {
         "hoverinfo": "text",
         "hovertext": "MV3.101 Line 47",
         "lat": [
          53.659099999999995
         ],
         "lon": [
          11.3635
         ],
         "marker": {
          "color": "#1ac938",
          "opacity": 0,
          "size": 0
         },
         "mode": "markers",
         "type": "scattermapbox"
        },
        {
         "hoverinfo": "skip",
         "lat": [
          53.6572,
          53.6585
         ],
         "line": {
          "color": "#1ac938"
         },
         "lon": [
          11.3686,
          11.3687
         ],
         "mode": "lines",
         "type": "scattermapbox"
        },
        {
         "hoverinfo": "text",
         "hovertext": "MV3.101 Line 38",
         "lat": [
          53.657849999999996
         ],
         "lon": [
          11.36865
         ],
         "marker": {
          "color": "#1ac938",
          "opacity": 0,
          "size": 0
         },
         "mode": "markers",
         "type": "scattermapbox"
        },
        {
         "hoverinfo": "skip",
         "lat": [
          53.6455,
          53.6455
         ],
         "line": {
          "color": "#1ac938"
         },
         "lon": [
          11.3798,
          11.3809
         ],
         "mode": "lines",
         "type": "scattermapbox"
        },
        {
         "hoverinfo": "text",
         "hovertext": "MV3.101 Line 119",
         "lat": [
          53.6455
         ],
         "lon": [
          11.38035
         ],
         "marker": {
          "color": "#1ac938",
          "opacity": 0,
          "size": 0
         },
         "mode": "markers",
         "type": "scattermapbox"
        },
        {
         "hoverinfo": "skip",
         "lat": [
          53.638,
          53.6371
         ],
         "line": {
          "color": "#1ac938"
         },
         "lon": [
          11.3719,
          11.3721
         ],
         "mode": "lines",
         "type": "scattermapbox"
        },
        {
         "hoverinfo": "text",
         "hovertext": "MV3.101 Line 11",
         "lat": [
          53.63755
         ],
         "lon": [
          11.372
         ],
         "marker": {
          "color": "#1ac938",
          "opacity": 0,
          "size": 0
         },
         "mode": "markers",
         "type": "scattermapbox"
        },
        {
         "hoverinfo": "skip",
         "lat": [
          53.6504,
          53.6516
         ],
         "line": {
          "color": "#1ac938"
         },
         "lon": [
          11.357,
          11.3561
         ],
         "mode": "lines",
         "type": "scattermapbox"
        },
        {
         "hoverinfo": "text",
         "hovertext": "MV3.101 Line 56",
         "lat": [
          53.650999999999996
         ],
         "lon": [
          11.356549999999999
         ],
         "marker": {
          "color": "#1ac938",
          "opacity": 0,
          "size": 0
         },
         "mode": "markers",
         "type": "scattermapbox"
        },
        {
         "hoverinfo": "skip",
         "lat": [
          53.6457,
          53.647
         ],
         "line": {
          "color": "#1ac938"
         },
         "lon": [
          11.3697,
          11.3701
         ],
         "mode": "lines",
         "type": "scattermapbox"
        },
        {
         "hoverinfo": "text",
         "hovertext": "MV3.101 Line 27",
         "lat": [
          53.64635
         ],
         "lon": [
          11.369900000000001
         ],
         "marker": {
          "color": "#1ac938",
          "opacity": 0,
          "size": 0
         },
         "mode": "markers",
         "type": "scattermapbox"
        },
        {
         "hoverinfo": "skip",
         "lat": [
          53.6492,
          53.6514
         ],
         "line": {
          "color": "#1ac938"
         },
         "lon": [
          11.3656,
          11.3638
         ],
         "mode": "lines",
         "type": "scattermapbox"
        },
        {
         "hoverinfo": "text",
         "hovertext": "MV3.101 Line 44",
         "lat": [
          53.6503
         ],
         "lon": [
          11.3647
         ],
         "marker": {
          "color": "#1ac938",
          "opacity": 0,
          "size": 0
         },
         "mode": "markers",
         "type": "scattermapbox"
        },
        {
         "hoverinfo": "skip",
         "lat": [
          53.6469,
          53.6475
         ],
         "line": {
          "color": "#1ac938"
         },
         "lon": [
          11.3746,
          11.3748
         ],
         "mode": "lines",
         "type": "scattermapbox"
        },
        {
         "hoverinfo": "text",
         "hovertext": "MV3.101 Line 127",
         "lat": [
          53.6472
         ],
         "lon": [
          11.3747
         ],
         "marker": {
          "color": "#1ac938",
          "opacity": 0,
          "size": 0
         },
         "mode": "markers",
         "type": "scattermapbox"
        },
        {
         "hoverinfo": "skip",
         "lat": [
          53.6445,
          53.6434
         ],
         "line": {
          "color": "#1ac938"
         },
         "lon": [
          11.3683,
          11.3674
         ],
         "mode": "lines",
         "type": "scattermapbox"
        },
        {
         "hoverinfo": "text",
         "hovertext": "MV3.101 Line 69",
         "lat": [
          53.643950000000004
         ],
         "lon": [
          11.36785
         ],
         "marker": {
          "color": "#1ac938",
          "opacity": 0,
          "size": 0
         },
         "mode": "markers",
         "type": "scattermapbox"
        },
        {
         "hoverinfo": "skip",
         "lat": [
          53.6537,
          53.6521
         ],
         "line": {
          "color": "#1ac938"
         },
         "lon": [
          11.3524,
          11.3535
         ],
         "mode": "lines",
         "type": "scattermapbox"
        },
        {
         "hoverinfo": "text",
         "hovertext": "MV3.101 Line 65",
         "lat": [
          53.6529
         ],
         "lon": [
          11.35295
         ],
         "marker": {
          "color": "#1ac938",
          "opacity": 0,
          "size": 0
         },
         "mode": "markers",
         "type": "scattermapbox"
        },
        {
         "hoverinfo": "skip",
         "lat": [
          53.6462,
          53.6469
         ],
         "line": {
          "color": "#1ac938"
         },
         "lon": [
          11.3691,
          11.3688
         ],
         "mode": "lines",
         "type": "scattermapbox"
        },
        {
         "hoverinfo": "text",
         "hovertext": "MV3.101 Line 32",
         "lat": [
          53.646550000000005
         ],
         "lon": [
          11.36895
         ],
         "marker": {
          "color": "#1ac938",
          "opacity": 0,
          "size": 0
         },
         "mode": "markers",
         "type": "scattermapbox"
        },
        {
         "hoverinfo": "skip",
         "lat": [
          53.6456,
          53.6457
         ],
         "line": {
          "color": "#1ac938"
         },
         "lon": [
          11.3692,
          11.3682
         ],
         "mode": "lines",
         "type": "scattermapbox"
        },
        {
         "hoverinfo": "text",
         "hovertext": "MV3.101 Line 49",
         "lat": [
          53.64565
         ],
         "lon": [
          11.3687
         ],
         "marker": {
          "color": "#1ac938",
          "opacity": 0,
          "size": 0
         },
         "mode": "markers",
         "type": "scattermapbox"
        },
        {
         "hoverinfo": "skip",
         "lat": [
          53.6585,
          53.6592
         ],
         "line": {
          "color": "#1ac938"
         },
         "lon": [
          11.3687,
          11.3686
         ],
         "mode": "lines",
         "type": "scattermapbox"
        },
        {
         "hoverinfo": "text",
         "hovertext": "MV3.101 Line 39",
         "lat": [
          53.65885
         ],
         "lon": [
          11.36865
         ],
         "marker": {
          "color": "#1ac938",
          "opacity": 0,
          "size": 0
         },
         "mode": "markers",
         "type": "scattermapbox"
        },
        {
         "hoverinfo": "skip",
         "lat": [
          53.633,
          53.6315
         ],
         "line": {
          "color": "#1ac938"
         },
         "lon": [
          11.3668,
          11.3692
         ],
         "mode": "lines",
         "type": "scattermapbox"
        },
        {
         "hoverinfo": "text",
         "hovertext": "MV3.101 Line 102",
         "lat": [
          53.63225
         ],
         "lon": [
          11.367999999999999
         ],
         "marker": {
          "color": "#1ac938",
          "opacity": 0,
          "size": 0
         },
         "mode": "markers",
         "type": "scattermapbox"
        },
        {
         "hoverinfo": "skip",
         "lat": [
          53.6411,
          53.6409
         ],
         "line": {
          "color": "#1ac938"
         },
         "lon": [
          11.3715,
          11.3733
         ],
         "mode": "lines",
         "type": "scattermapbox"
        },
        {
         "hoverinfo": "text",
         "hovertext": "MV3.101 Line 5",
         "lat": [
          53.641000000000005
         ],
         "lon": [
          11.372399999999999
         ],
         "marker": {
          "color": "#1ac938",
          "opacity": 0,
          "size": 0
         },
         "mode": "markers",
         "type": "scattermapbox"
        },
        {
         "hoverinfo": "skip",
         "lat": [
          53.6431,
          53.6429
         ],
         "line": {
          "color": "#1ac938"
         },
         "lon": [
          11.3783,
          11.3789
         ],
         "mode": "lines",
         "type": "scattermapbox"
        },
        {
         "hoverinfo": "text",
         "hovertext": "MV3.101 Line 111",
         "lat": [
          53.643
         ],
         "lon": [
          11.378599999999999
         ],
         "marker": {
          "color": "#1ac938",
          "opacity": 0,
          "size": 0
         },
         "mode": "markers",
         "type": "scattermapbox"
        },
        {
         "hoverinfo": "skip",
         "lat": [
          53.6328,
          53.6306
         ],
         "line": {
          "color": "#1ac938"
         },
         "lon": [
          11.3733,
          11.3739
         ],
         "mode": "lines",
         "type": "scattermapbox"
        },
        {
         "hoverinfo": "text",
         "hovertext": "MV3.101 Line 106",
         "lat": [
          53.6317
         ],
         "lon": [
          11.3736
         ],
         "marker": {
          "color": "#1ac938",
          "opacity": 0,
          "size": 0
         },
         "mode": "markers",
         "type": "scattermapbox"
        },
        {
         "hoverinfo": "skip",
         "lat": [
          53.6454,
          53.6455
         ],
         "line": {
          "color": "#1ac938"
         },
         "lon": [
          11.3776,
          11.3798
         ],
         "mode": "lines",
         "type": "scattermapbox"
        },
        {
         "hoverinfo": "text",
         "hovertext": "MV3.101 Line 118",
         "lat": [
          53.64545
         ],
         "lon": [
          11.378699999999998
         ],
         "marker": {
          "color": "#1ac938",
          "opacity": 0,
          "size": 0
         },
         "mode": "markers",
         "type": "scattermapbox"
        },
        {
         "hoverinfo": "skip",
         "lat": [
          53.6543,
          53.6545
         ],
         "line": {
          "color": "#1ac938"
         },
         "lon": [
          11.3751,
          11.3756
         ],
         "mode": "lines",
         "type": "scattermapbox"
        },
        {
         "hoverinfo": "text",
         "hovertext": "MV3.101 Line 21",
         "lat": [
          53.654399999999995
         ],
         "lon": [
          11.375350000000001
         ],
         "marker": {
          "color": "#1ac938",
          "opacity": 0,
          "size": 0
         },
         "mode": "markers",
         "type": "scattermapbox"
        },
        {
         "hoverinfo": "skip",
         "lat": [
          53.6477,
          53.6482
         ],
         "line": {
          "color": "#1ac938"
         },
         "lon": [
          11.3641,
          11.3627
         ],
         "mode": "lines",
         "type": "scattermapbox"
        },
        {
         "hoverinfo": "text",
         "hovertext": "MV3.101 Line 52",
         "lat": [
          53.64795
         ],
         "lon": [
          11.3634
         ],
         "marker": {
          "color": "#1ac938",
          "opacity": 0,
          "size": 0
         },
         "mode": "markers",
         "type": "scattermapbox"
        },
        {
         "hoverinfo": "skip",
         "lat": [
          53.6464,
          53.6469
         ],
         "line": {
          "color": "#1ac938"
         },
         "lon": [
          11.3745,
          11.3746
         ],
         "mode": "lines",
         "type": "scattermapbox"
        },
        {
         "hoverinfo": "text",
         "hovertext": "MV3.101 Line 126",
         "lat": [
          53.64665
         ],
         "lon": [
          11.37455
         ],
         "marker": {
          "color": "#1ac938",
          "opacity": 0,
          "size": 0
         },
         "mode": "markers",
         "type": "scattermapbox"
        },
        {
         "hoverinfo": "skip",
         "lat": [
          53.6469,
          53.6489
         ],
         "line": {
          "color": "#1ac938"
         },
         "lon": [
          11.3688,
          11.3683
         ],
         "mode": "lines",
         "type": "scattermapbox"
        },
        {
         "hoverinfo": "text",
         "hovertext": "MV3.101 Line 33",
         "lat": [
          53.6479
         ],
         "lon": [
          11.368549999999999
         ],
         "marker": {
          "color": "#1ac938",
          "opacity": 0,
          "size": 0
         },
         "mode": "markers",
         "type": "scattermapbox"
        },
        {
         "hoverinfo": "skip",
         "lat": [
          53.6448,
          53.6443
         ],
         "line": {
          "color": "#1ac938"
         },
         "lon": [
          11.364,
          11.3619
         ],
         "mode": "lines",
         "type": "scattermapbox"
        },
        {
         "hoverinfo": "text",
         "hovertext": "MV3.101 Line 87",
         "lat": [
          53.644549999999995
         ],
         "lon": [
          11.362950000000001
         ],
         "marker": {
          "color": "#1ac938",
          "opacity": 0,
          "size": 0
         },
         "mode": "markers",
         "type": "scattermapbox"
        },
        {
         "hoverinfo": "skip",
         "lat": [
          53.6534,
          53.6519
         ],
         "line": {
          "color": "#1ac938"
         },
         "lon": [
          11.3794,
          11.3805
         ],
         "mode": "lines",
         "type": "scattermapbox"
        },
        {
         "hoverinfo": "text",
         "hovertext": "MV3.101 Line 24",
         "lat": [
          53.652649999999994
         ],
         "lon": [
          11.379950000000001
         ],
         "marker": {
          "color": "#1ac938",
          "opacity": 0,
          "size": 0
         },
         "mode": "markers",
         "type": "scattermapbox"
        },
        {
         "hoverinfo": "skip",
         "lat": [
          53.6437,
          53.6439
         ],
         "line": {
          "color": "#1ac938"
         },
         "lon": [
          11.3577,
          11.3558
         ],
         "mode": "lines",
         "type": "scattermapbox"
        },
        {
         "hoverinfo": "text",
         "hovertext": "MV3.101 Line 90",
         "lat": [
          53.6438
         ],
         "lon": [
          11.35675
         ],
         "marker": {
          "color": "#1ac938",
          "opacity": 0,
          "size": 0
         },
         "mode": "markers",
         "type": "scattermapbox"
        },
        {
         "hoverinfo": "skip",
         "lat": [
          53.6464,
          53.6467
         ],
         "line": {
          "color": "#1ac938"
         },
         "lon": [
          11.3745,
          11.3755
         ],
         "mode": "lines",
         "type": "scattermapbox"
        },
        {
         "hoverinfo": "text",
         "hovertext": "MV3.101 Line 120",
         "lat": [
          53.646550000000005
         ],
         "lon": [
          11.375
         ],
         "marker": {
          "color": "#1ac938",
          "opacity": 0,
          "size": 0
         },
         "mode": "markers",
         "type": "scattermapbox"
        },
        {
         "hoverinfo": "skip",
         "lat": [
          53.6261,
          53.624
         ],
         "line": {
          "color": "#1ac938"
         },
         "lon": [
          11.3638,
          11.366
         ],
         "mode": "lines",
         "type": "scattermapbox"
        },
        {
         "hoverinfo": "text",
         "hovertext": "MV3.101 Line 81",
         "lat": [
          53.62505
         ],
         "lon": [
          11.364899999999999
         ],
         "marker": {
          "color": "#1ac938",
          "opacity": 0,
          "size": 0
         },
         "mode": "markers",
         "type": "scattermapbox"
        },
        {
         "hoverinfo": "skip",
         "lat": [
          53.6436,
          53.6417
         ],
         "line": {
          "color": "#1ac938"
         },
         "lon": [
          11.3686,
          11.368
         ],
         "mode": "lines",
         "type": "scattermapbox"
        },
        {
         "hoverinfo": "text",
         "hovertext": "MV3.101 Line 96",
         "lat": [
          53.64265
         ],
         "lon": [
          11.368300000000001
         ],
         "marker": {
          "color": "#1ac938",
          "opacity": 0,
          "size": 0
         },
         "mode": "markers",
         "type": "scattermapbox"
        },
        {
         "hoverinfo": "skip",
         "lat": [
          53.6456,
          53.6454
         ],
         "line": {
          "color": "#1ac938"
         },
         "lon": [
          11.3692,
          11.3706
         ],
         "mode": "lines",
         "type": "scattermapbox"
        },
        {
         "hoverinfo": "text",
         "hovertext": "MV3.101 Line 12",
         "lat": [
          53.6455
         ],
         "lon": [
          11.3699
         ],
         "marker": {
          "color": "#1ac938",
          "opacity": 0,
          "size": 0
         },
         "mode": "markers",
         "type": "scattermapbox"
        },
        {
         "hoverinfo": "skip",
         "lat": [
          53.6514,
          53.6531
         ],
         "line": {
          "color": "#a3a3a3"
         },
         "lon": [
          11.3638,
          11.3584
         ],
         "mode": "lines",
         "type": "scattermapbox"
        },
        {
         "hoverinfo": "text",
         "hovertext": "MV3.101 loop_line 9",
         "lat": [
          53.65225
         ],
         "lon": [
          11.3611
         ],
         "marker": {
          "color": "#a3a3a3",
          "opacity": 0,
          "size": 0
         },
         "mode": "markers",
         "type": "scattermapbox"
        },
        {
         "hoverinfo": "skip",
         "lat": [
          53.634,
          53.6346
         ],
         "line": {
          "color": "#a3a3a3"
         },
         "lon": [
          11.3636,
          11.3656
         ],
         "mode": "lines",
         "type": "scattermapbox"
        },
        {
         "hoverinfo": "text",
         "hovertext": "MV3.101 loop_line 10",
         "lat": [
          53.634299999999996
         ],
         "lon": [
          11.3646
         ],
         "marker": {
          "color": "#a3a3a3",
          "opacity": 0,
          "size": 0
         },
         "mode": "markers",
         "type": "scattermapbox"
        },
        {
         "hoverinfo": "skip",
         "lat": [
          53.6252,
          53.6286
         ],
         "line": {
          "color": "#a3a3a3"
         },
         "lon": [
          11.3714,
          11.3737
         ],
         "mode": "lines",
         "type": "scattermapbox"
        },
        {
         "hoverinfo": "text",
         "hovertext": "MV3.101 loop_line 4",
         "lat": [
          53.6269
         ],
         "lon": [
          11.37255
         ],
         "marker": {
          "color": "#a3a3a3",
          "opacity": 0,
          "size": 0
         },
         "mode": "markers",
         "type": "scattermapbox"
        },
        {
         "hoverinfo": "skip",
         "lat": [
          53.6434,
          53.6488
         ],
         "line": {
          "color": "#a3a3a3"
         },
         "lon": [
          11.3825,
          11.3833
         ],
         "mode": "lines",
         "type": "scattermapbox"
        },
        {
         "hoverinfo": "text",
         "hovertext": "MV3.101 loop_line 5",
         "lat": [
          53.646100000000004
         ],
         "lon": [
          11.3829
         ],
         "marker": {
          "color": "#a3a3a3",
          "opacity": 0,
          "size": 0
         },
         "mode": "markers",
         "type": "scattermapbox"
        },
        {
         "hoverinfo": "skip",
         "lat": [
          53.6371,
          53.6341
         ],
         "line": {
          "color": "#a3a3a3"
         },
         "lon": [
          11.3721,
          11.3724
         ],
         "mode": "lines",
         "type": "scattermapbox"
        },
        {
         "hoverinfo": "text",
         "hovertext": "MV3.101 loop_line 7",
         "lat": [
          53.6356
         ],
         "lon": [
          11.372250000000001
         ],
         "marker": {
          "color": "#a3a3a3",
          "opacity": 0,
          "size": 0
         },
         "mode": "markers",
         "type": "scattermapbox"
        },
        {
         "hoverinfo": "skip",
         "lat": [
          53.6457,
          53.6464
         ],
         "line": {
          "color": "#a3a3a3"
         },
         "lon": [
          11.3697,
          11.3721
         ],
         "mode": "lines",
         "type": "scattermapbox"
        },
        {
         "hoverinfo": "text",
         "hovertext": "MV3.101 loop_line 8",
         "lat": [
          53.64605
         ],
         "lon": [
          11.370899999999999
         ],
         "marker": {
          "color": "#a3a3a3",
          "opacity": 0,
          "size": 0
         },
         "mode": "markers",
         "type": "scattermapbox"
        },
        {
         "hoverinfo": "skip",
         "lat": [
          53.6508,
          53.6494
         ],
         "line": {
          "color": "#a3a3a3"
         },
         "lon": [
          11.3521,
          11.351
         ],
         "mode": "lines",
         "type": "scattermapbox"
        },
        {
         "hoverinfo": "text",
         "hovertext": "MV3.101 loop_line 3",
         "lat": [
          53.650099999999995
         ],
         "lon": [
          11.35155
         ],
         "marker": {
          "color": "#a3a3a3",
          "opacity": 0,
          "size": 0
         },
         "mode": "markers",
         "type": "scattermapbox"
        },
        {
         "hoverinfo": "skip",
         "lat": [
          53.662,
          53.6598
         ],
         "line": {
          "color": "#a3a3a3"
         },
         "lon": [
          11.3646,
          11.3685
         ],
         "mode": "lines",
         "type": "scattermapbox"
        },
        {
         "hoverinfo": "text",
         "hovertext": "MV3.101 loop_line 2",
         "lat": [
          53.6609
         ],
         "lon": [
          11.36655
         ],
         "marker": {
          "color": "#a3a3a3",
          "opacity": 0,
          "size": 0
         },
         "mode": "markers",
         "type": "scattermapbox"
        },
        {
         "hoverinfo": "skip",
         "lat": [
          53.6455,
          53.6464
         ],
         "line": {
          "color": "#a3a3a3"
         },
         "lon": [
          11.3809,
          11.3832
         ],
         "mode": "lines",
         "type": "scattermapbox"
        },
        {
         "hoverinfo": "text",
         "hovertext": "MV3.101 loop_line 6",
         "lat": [
          53.64595
         ],
         "lon": [
          11.38205
         ],
         "marker": {
          "color": "#a3a3a3",
          "opacity": 0,
          "size": 0
         },
         "mode": "markers",
         "type": "scattermapbox"
        },
        {
         "hoverinfo": "skip",
         "lat": [
          53.651,
          53.6422
         ],
         "line": {
          "color": "#a3a3a3"
         },
         "lon": [
          11.3807,
          11.3784
         ],
         "mode": "lines",
         "type": "scattermapbox"
        },
        {
         "hoverinfo": "text",
         "hovertext": "MV3.101 loop_line 1",
         "lat": [
          53.64660000000001
         ],
         "lon": [
          11.379549999999998
         ],
         "marker": {
          "color": "#a3a3a3",
          "opacity": 0,
          "size": 0
         },
         "mode": "markers",
         "type": "scattermapbox"
        },
        {
         "hoverinfo": "skip",
         "lat": [
          53.6524,
          53.6521
         ],
         "line": {
          "color": "#a3a3a3"
         },
         "lon": [
          11.3561,
          11.3535
         ],
         "mode": "lines",
         "type": "scattermapbox"
        },
        {
         "hoverinfo": "text",
         "hovertext": "MV3.101 loop_line 11",
         "lat": [
          53.652249999999995
         ],
         "lon": [
          11.354800000000001
         ],
         "marker": {
          "color": "#a3a3a3",
          "opacity": 0,
          "size": 0
         },
         "mode": "markers",
         "type": "scattermapbox"
        },
        {
         "hoverinfo": "text",
         "hovertext": [
          "MV3.101 node1<br>5d50a881-c383-463e-8355-41b3dd57422d<br>load=Count: 1, Rated Power: 453.6 kw",
          "MV3.101 Bus 28<br>c50941eb-01ee-4bd5-be6a-c005af0639df<br>load=Count: 1, Rated Power: 362.9 kw<br>fixed_feed_in=Count: 1, Rated Power: 172.2 kw",
          "MV3.101 Bus 81<br>e22406e6-e172-4244-b978-89906f396130<br>load=Count: 1, Rated Power: 594.9 kw<br>fixed_feed_in=Count: 1, Rated Power: 184.7 kw",
          "MV3.101 Bus 102<br>d1c18dd9-a2f4-4953-8d53-03861eb519b5<br>load=Count: 1, Rated Power: 362.9 kw<br>fixed_feed_in=Count: 1, Rated Power: 172.2 kw",
          "MV3.101 Bus 19<br>6ae27f87-a713-4204-adfa-b262b222d240<br>load=Count: 1, Rated Power: 594.9 kw<br>fixed_feed_in=Count: 1, Rated Power: 184.7 kw",
          "MV3.101 Bus 82<br>cc612986-d947-4c4d-af40-ac8fdeebc1f9<br>load=Count: 1, Rated Power: 594.9 kw<br>fixed_feed_in=Count: 1, Rated Power: 184.7 kw",
          "MV3.101 Bus 125<br>738eb38a-f098-4e32-a39a-4c871eb39ccd<br>load=Count: 1, Rated Power: 595.0 kw<br>fixed_feed_in=Count: 1, Rated Power: 252.3 kw",
          "MV3.101 Bus 41<br>4537ceed-9709-47c8-bcac-92a73f44e78c<br>load=Count: 1, Rated Power: 594.9 kw<br>fixed_feed_in=Count: 1, Rated Power: 184.7 kw",
          "MV3.101 Bus 52<br>caf7fd1b-8c8a-4734-b7c3-7a49ae5c00da<br>load=Count: 1, Rated Power: 668.0 kw<br>fixed_feed_in=Count: 1, Rated Power: 171.2 kw",
          "MV3.101 Bus 77<br>0c5e6268-ba9c-41e0-b472-0aea5a3163c6<br>load=Count: 1, Rated Power: 594.9 kw<br>fixed_feed_in=Count: 1, Rated Power: 184.7 kw",
          "MV3.101 Bus 143<br>e9333524-c914-4799-961b-cfe5adfc5f52<br>load=Count: 1, Rated Power: 595.0 kw<br>fixed_feed_in=Count: 1, Rated Power: 252.3 kw",
          "MV3.101 Bus 27<br>84aa56bd-0941-4efd-86b8-61fd6b55dbf5<br>load=Count: 1, Rated Power: 594.9 kw<br>fixed_feed_in=Count: 1, Rated Power: 184.7 kw",
          "MV3.101 Bus 64<br>2cfb12f1-fa79-4210-9ac6-769254515af8<br>load=Count: 1, Rated Power: 594.9 kw<br>fixed_feed_in=Count: 1, Rated Power: 184.7 kw",
          "MV3.101 Bus 32<br>a7c9c8e7-63f0-4971-81b9-7073436d4317<br>load=Count: 1, Rated Power: 668.0 kw<br>fixed_feed_in=Count: 1, Rated Power: 171.2 kw",
          "MV3.101 Bus 134<br>43d06b2a-981c-4b51-91ab-978c392becb0<br>load=Count: 1, Rated Power: 595.0 kw<br>fixed_feed_in=Count: 1, Rated Power: 252.3 kw",
          "MV3.101 Bus 80<br>6df59148-c230-4892-82b3-c4f05c68bcdc<br>load=Count: 1, Rated Power: 668.0 kw<br>fixed_feed_in=Count: 1, Rated Power: 171.2 kw",
          "MV3.101 Bus 75<br>a0716f3b-09b0-437c-98c4-dd18397051f1<br>load=Count: 1, Rated Power: 362.9 kw<br>fixed_feed_in=Count: 1, Rated Power: 172.2 kw",
          "MV3.101 Bus 143_1<br>8b864fa2-3051-4369-91ec-9e17b71a1423<br>",
          "MV3.101 Bus 43<br>a5d72bf6-6a61-4314-b541-f5635d5c334f<br>load=Count: 1, Rated Power: 594.9 kw<br>fixed_feed_in=Count: 1, Rated Power: 184.7 kw",
          "MV3.101 Bus 17<br>b4551111-75bb-4e9d-986b-685e4ca7a22d<br>load=Count: 1, Rated Power: 594.9 kw<br>fixed_feed_in=Count: 1, Rated Power: 184.7 kw",
          "MV3.101 Bus 117<br>f3065cce-6302-4365-8036-4fc2f126ade8<br>load=Count: 1, Rated Power: 594.9 kw<br>fixed_feed_in=Count: 1, Rated Power: 184.7 kw",
          "MV3.101 Bus 78<br>04beeb0e-78d7-46b8-aca5-76d3a009638f<br>load=Count: 1, Rated Power: 362.9 kw<br>fixed_feed_in=Count: 1, Rated Power: 172.2 kw",
          "MV3.101 Bus 49<br>a21d803a-04cb-43c3-b531-7111536ef7a0<br>load=Count: 1, Rated Power: 668.0 kw<br>fixed_feed_in=Count: 1, Rated Power: 171.2 kw",
          "MV3.101 Bus 85<br>c9a17f26-fdc3-434d-bd81-ce7cafe7821a<br>load=Count: 1, Rated Power: 594.9 kw<br>fixed_feed_in=Count: 1, Rated Power: 184.7 kw",
          "MV3.101 Bus 123<br>889c84e9-c717-4471-84b4-b3423b30dc78<br>load=Count: 1, Rated Power: 594.9 kw<br>fixed_feed_in=Count: 1, Rated Power: 184.7 kw",
          "MV3.101 Bus 76<br>af2a653a-5fbb-48f4-94fe-da098579ebe7<br>load=Count: 1, Rated Power: 668.0 kw<br>fixed_feed_in=Count: 1, Rated Power: 171.2 kw",
          "MV3.101 Bus 98<br>f2ab91df-6f6a-439b-95da-135dc5fca6a2<br>load=Count: 1, Rated Power: 594.9 kw<br>fixed_feed_in=Count: 1, Rated Power: 184.7 kw",
          "MV3.101 Bus 103<br>f5fb7dc2-2a15-489a-9339-f8fd351836a4<br>load=Count: 1, Rated Power: 362.9 kw<br>fixed_feed_in=Count: 1, Rated Power: 172.2 kw",
          "MV3.101 Bus 100<br>3df23ce8-f8ed-4562-b3d3-3904e1aacfa6<br>load=Count: 1, Rated Power: 668.0 kw<br>fixed_feed_in=Count: 1, Rated Power: 171.2 kw",
          "MV3.101 Bus 37<br>c22fab8c-3947-44d2-a5f3-b997e6eadb35<br>load=Count: 1, Rated Power: 668.0 kw<br>fixed_feed_in=Count: 1, Rated Power: 171.2 kw",
          "MV3.101 Bus 107<br>40612e93-0348-46dd-8d66-a5480fb4484d<br>load=Count: 1, Rated Power: 362.9 kw<br>fixed_feed_in=Count: 1, Rated Power: 172.2 kw",
          "MV3.101 Bus 105<br>957fb2b9-d0db-48e4-bc59-39741464ed1c<br>load=Count: 1, Rated Power: 594.9 kw<br>fixed_feed_in=Count: 1, Rated Power: 184.7 kw",
          "MV3.101 Bus 119<br>58435c80-af6d-4675-b5de-41d8d4c0b87a<br>load=Count: 1, Rated Power: 595.0 kw<br>fixed_feed_in=Count: 1, Rated Power: 252.3 kw",
          "MV3.101 Bus 73<br>0f63de16-1c22-4e6b-8090-90929e2e407f<br>load=Count: 1, Rated Power: 594.9 kw<br>fixed_feed_in=Count: 1, Rated Power: 184.7 kw",
          "MV3.101 Bus 56<br>0d6102de-9f0f-47fa-9eb2-e8f5149a7851<br>load=Count: 1, Rated Power: 668.0 kw<br>fixed_feed_in=Count: 1, Rated Power: 171.2 kw",
          "MV3.101 Bus 15<br>2837f3ce-c6fb-45ba-9cf0-27ad14987c81<br>load=Count: 2, Rated Power: 774.3 kw<br>fixed_feed_in=Count: 1, Rated Power: 172.2 kw",
          "MV3.101 Bus 31<br>b7e2b6d4-7566-417f-b5a3-f2ead1ceed98<br>load=Count: 1, Rated Power: 594.9 kw<br>fixed_feed_in=Count: 1, Rated Power: 184.7 kw",
          "MV3.101 Bus 60<br>c2d61c41-06a1-4490-9e68-8fe7dfec579a<br>load=Count: 1, Rated Power: 362.9 kw<br>fixed_feed_in=Count: 1, Rated Power: 172.2 kw",
          "MV3.101 Bus 55<br>38145153-0dd5-429c-b0c8-e876956fa70f<br>load=Count: 1, Rated Power: 594.9 kw<br>fixed_feed_in=Count: 1, Rated Power: 184.7 kw",
          "MV3.101 Bus 99<br>f6761178-0491-441c-b7e6-4126b29fbada<br>load=Count: 1, Rated Power: 594.9 kw<br>fixed_feed_in=Count: 1, Rated Power: 184.7 kw",
          "MV3.101 Bus 124<br>79143963-b1bb-4eca-8ba8-d3712f5696c5<br>load=Count: 1, Rated Power: 362.9 kw<br>fixed_feed_in=Count: 1, Rated Power: 172.2 kw",
          "MV3.101 Bus 48<br>9b372fbc-8da2-48a3-b76e-ad52957f77d3<br>load=Count: 1, Rated Power: 594.9 kw<br>fixed_feed_in=Count: 1, Rated Power: 184.7 kw",
          "MV3.101 Bus 106<br>8f2d1b47-8115-4139-93d2-3ddb6a9119ff<br>load=Count: 1, Rated Power: 362.9 kw<br>fixed_feed_in=Count: 1, Rated Power: 172.2 kw",
          "MV3.101 Bus 128<br>ebde173b-fb40-484b-aeb9-d565b97c5102<br>load=Count: 1, Rated Power: 594.9 kw<br>fixed_feed_in=Count: 1, Rated Power: 184.7 kw",
          "MV3.101 Bus 75_1<br>a4b428dc-15dd-4b48-a115-322988f0cf73<br>",
          "MV3.101 Bus 71<br>2289d9f8-70e3-438f-a25a-8812b53f0aff<br>load=Count: 1, Rated Power: 594.9 kw<br>fixed_feed_in=Count: 1, Rated Power: 184.7 kw",
          "MV3.101 Bus 46<br>99d5e9ac-6fdf-4957-bf69-64dc088434f4<br>load=Count: 1, Rated Power: 594.9 kw<br>fixed_feed_in=Count: 1, Rated Power: 184.7 kw",
          "MV3.101 BS busbar1A<br>6bc544cf-71e5-4d0a-941a-4e806c22fd8d<br>",
          "MV3.101 Bus 53<br>296e67f3-2711-43ff-9a46-eca3f60b0001<br>load=Count: 1, Rated Power: 668.0 kw<br>fixed_feed_in=Count: 1, Rated Power: 171.2 kw",
          "MV3.101 Bus 40_1<br>557b9f51-d83c-476c-a84c-d240530c203d<br>",
          "MV3.101 Bus 13<br>5f35664a-a4ef-4a48-849c-c4c058f6cffa<br>load=Count: 1, Rated Power: 668.0 kw<br>fixed_feed_in=Count: 1, Rated Power: 171.2 kw",
          "MV3.101 Bus 39<br>49840d95-2aa5-490c-90ad-556dfee4cb89<br>load=Count: 1, Rated Power: 362.9 kw<br>fixed_feed_in=Count: 1, Rated Power: 172.2 kw",
          "MV3.101 Bus 66<br>5b421400-8cdf-4847-bdbf-452ece1ed348<br>load=Count: 1, Rated Power: 668.0 kw<br>fixed_feed_in=Count: 1, Rated Power: 171.2 kw",
          "MV3.101 Bus 88<br>51f05c04-30ac-4430-b970-0081f1b6d8b1<br>load=Count: 1, Rated Power: 594.9 kw<br>fixed_feed_in=Count: 1, Rated Power: 184.7 kw",
          "MV3.101 Bus 96<br>ad120450-c8c2-4859-a7c4-f487fbe10824<br>load=Count: 1, Rated Power: 594.9 kw<br>fixed_feed_in=Count: 1, Rated Power: 184.7 kw",
          "MV3.101 Bus 127<br>5e3c4932-5022-40b3-a533-ff831bcf18b9<br>load=Count: 1, Rated Power: 594.9 kw<br>fixed_feed_in=Count: 1, Rated Power: 184.7 kw",
          "MV3.101 Bus 84<br>aba677f2-f1c5-409e-8587-05acecbe09a8<br>load=Count: 2, Rated Power: 1090.7 kw<br>fixed_feed_in=Count: 1, Rated Power: 184.7 kw",
          "MV3.101 Bus 114_1<br>8252e667-afbf-4fff-b0b8-595f40b82273<br>",
          "MV3.101 Bus 129<br>f768ffeb-1021-47d1-b606-9f15103988fc<br>load=Count: 1, Rated Power: 362.9 kw<br>fixed_feed_in=Count: 1, Rated Power: 172.2 kw",
          "MV3.101 Bus 16<br>2aab5612-f39a-4cc1-bb96-056b873a6310<br>load=Count: 1, Rated Power: 594.9 kw<br>fixed_feed_in=Count: 1, Rated Power: 184.7 kw",
          "MV3.101 Bus 68<br>bd345c13-e871-4357-af6e-3969889ff035<br>load=Count: 1, Rated Power: 668.0 kw<br>fixed_feed_in=Count: 1, Rated Power: 171.2 kw",
          "MV3.101 Bus 51<br>52ac8b75-96b7-460e-a927-237d89a13663<br>load=Count: 1, Rated Power: 594.9 kw<br>fixed_feed_in=Count: 1, Rated Power: 184.7 kw",
          "MV3.101 Bus 40<br>a5ccf309-420a-474f-a6ed-96cb3ffa2e56<br>load=Count: 1, Rated Power: 594.9 kw<br>fixed_feed_in=Count: 1, Rated Power: 184.7 kw",
          "MV3.101 Bus 67<br>8b19ef59-b368-42eb-a754-12936b5d4d17<br>load=Count: 2, Rated Power: 647.7 kw<br>fixed_feed_in=Count: 1, Rated Power: 172.2 kw",
          "MV3.101 Bus 136<br>e4da35ec-8275-424a-bee3-5dc1a8c3dfb8<br>load=Count: 1, Rated Power: 362.9 kw<br>fixed_feed_in=Count: 1, Rated Power: 172.2 kw",
          "MV3.101 Bus 114<br>01dca738-329e-4c8d-900c-fd0f48acc874<br>load=Count: 1, Rated Power: 668.0 kw<br>fixed_feed_in=Count: 1, Rated Power: 171.2 kw",
          "MV3.101 Bus 132<br>a9c53c7b-e700-4412-93be-348459028998<br>load=Count: 1, Rated Power: 595.0 kw<br>fixed_feed_in=Count: 1, Rated Power: 252.3 kw",
          "MV3.101 Bus 63<br>eec4851e-6d4a-4710-aa77-83c9d4bfac28<br>load=Count: 1, Rated Power: 668.0 kw<br>fixed_feed_in=Count: 1, Rated Power: 171.2 kw",
          "MV3.101 Bus 38<br>61d6379d-b010-461e-96e5-921149c0c8b6<br>load=Count: 1, Rated Power: 362.9 kw<br>fixed_feed_in=Count: 1, Rated Power: 172.2 kw",
          "MV3.101 Bus 93<br>3342bab1-65b4-4a4b-a2e8-365a162ead81<br>load=Count: 1, Rated Power: 668.0 kw<br>fixed_feed_in=Count: 1, Rated Power: 171.2 kw",
          "MV3.101 Bus 135<br>b649cc84-5230-485a-808c-2078624d3681<br>load=Count: 1, Rated Power: 594.9 kw<br>fixed_feed_in=Count: 1, Rated Power: 184.7 kw",
          "MV3.101 Bus 110<br>42a7a176-bb8b-4281-8ba4-b2a2486f6b90<br>load=Count: 1, Rated Power: 594.9 kw<br>fixed_feed_in=Count: 1, Rated Power: 184.7 kw",
          "MV3.101 Bus 97<br>46f61d50-fb44-491d-a4e6-468102797132<br>load=Count: 1, Rated Power: 362.9 kw<br>fixed_feed_in=Count: 1, Rated Power: 172.2 kw",
          "MV3.101 Bus 57<br>cd736b45-3d94-402d-b11b-2a0ece139b71<br>load=Count: 1, Rated Power: 668.0 kw<br>fixed_feed_in=Count: 1, Rated Power: 171.2 kw",
          "MV3.101 Bus 20<br>98c94532-d796-4df2-864f-08b93b2244ab<br>load=Count: 1, Rated Power: 362.9 kw<br>fixed_feed_in=Count: 1, Rated Power: 172.2 kw",
          "MV3.101 Bus 113<br>380a3c84-fd4b-487c-b2de-00a3b19b27bc<br>load=Count: 1, Rated Power: 362.9 kw<br>fixed_feed_in=Count: 1, Rated Power: 172.2 kw",
          "MV3.101 Bus 118<br>8f65cec0-ee20-4f8c-8bdc-41f3218c067e<br>load=Count: 1, Rated Power: 594.9 kw<br>fixed_feed_in=Count: 1, Rated Power: 184.7 kw",
          "MV3.101 Bus 126<br>4920ef18-6e90-45e5-afaf-9e8b60eb6d0e<br>load=Count: 1, Rated Power: 594.9 kw<br>fixed_feed_in=Count: 1, Rated Power: 184.7 kw",
          "MV3.101 Bus 141<br>3342da5b-7e73-4fc5-af28-3d12619d9426<br>load=Count: 1, Rated Power: 595.0 kw<br>fixed_feed_in=Count: 1, Rated Power: 252.3 kw",
          "MV3.101 Bus 22<br>a6f270ec-f5e8-4c3d-817d-664539f01387<br>load=Count: 1, Rated Power: 362.9 kw<br>fixed_feed_in=Count: 1, Rated Power: 172.2 kw",
          "MV3.101 Bus 140<br>6f477624-e576-4286-8d62-ea909e214a75<br>load=Count: 1, Rated Power: 362.9 kw<br>fixed_feed_in=Count: 1, Rated Power: 172.2 kw",
          "MV3.101 Bus 18_1<br>5d60f397-ce09-4dc5-87c9-0382e71c694e<br>",
          "MV3.101 Bus 42<br>0dd3fdac-f05d-4e68-9611-a73f267ed9eb<br>load=Count: 2, Rated Power: 816.5 kw<br>fixed_feed_in=Count: 1, Rated Power: 184.7 kw",
          "MV3.101 Bus 94<br>a21047e0-d924-42e0-a5e5-0998d65266a6<br>load=Count: 1, Rated Power: 668.0 kw<br>fixed_feed_in=Count: 1, Rated Power: 171.2 kw",
          "MV3.101 Bus 104_1<br>ef10dec9-bbbe-4fe9-856c-28f44b5551bf<br>",
          "MV3.101 Bus 139<br>8559c7b0-c882-466d-8560-00c4db86956a<br>load=Count: 1, Rated Power: 362.9 kw<br>fixed_feed_in=Count: 1, Rated Power: 172.2 kw",
          "MV3.101 Bus 118_1<br>46b59740-e384-4038-beae-3de74fa9a3c6<br>",
          "MV3.101 Bus 116<br>e386caca-6ea9-420c-b732-a79f55899458<br>load=Count: 1, Rated Power: 668.0 kw<br>fixed_feed_in=Count: 1, Rated Power: 171.2 kw",
          "MV3.101 Bus 135_1<br>fad370e8-1530-4310-8181-eacbd141642b<br>",
          "MV3.101 Bus 59<br>b0f1f7d4-4ddb-4a56-91ad-e85590714c87<br>load=Count: 1, Rated Power: 594.9 kw<br>fixed_feed_in=Count: 1, Rated Power: 184.7 kw",
          "MV3.101 Bus 12<br>dc68cf3e-ecb0-4740-a561-de6316c7376d<br>load=Count: 1, Rated Power: 362.9 kw<br>fixed_feed_in=Count: 1, Rated Power: 172.2 kw",
          "MV3.101 Bus 133<br>8c073498-b9e2-439d-94a8-63f68f56f192<br>load=Count: 1, Rated Power: 362.9 kw<br>fixed_feed_in=Count: 1, Rated Power: 172.2 kw",
          "MV3.101 Bus 108<br>0e96dffd-d5ea-4f2c-a133-bacb7a85ca31<br>load=Count: 1, Rated Power: 594.9 kw<br>fixed_feed_in=Count: 1, Rated Power: 184.7 kw",
          "MV3.101 Bus 121<br>ef1b266d-3f64-4f9e-a5c5-49ab174370a6<br>load=Count: 1, Rated Power: 595.0 kw<br>fixed_feed_in=Count: 1, Rated Power: 252.3 kw",
          "MV3.101 Bus 62<br>3ecf3284-5919-49ba-a60a-22996f8bc202<br>load=Count: 1, Rated Power: 362.9 kw<br>fixed_feed_in=Count: 1, Rated Power: 172.2 kw",
          "MV3.101 Bus 61<br>393881b0-3b78-413f-b065-03d216803c87<br>load=Count: 1, Rated Power: 668.0 kw<br>fixed_feed_in=Count: 1, Rated Power: 171.2 kw",
          "MV3.101 Bus 29<br>1d219ef0-079c-4df8-8449-e80cb2af6793<br>load=Count: 1, Rated Power: 362.9 kw<br>fixed_feed_in=Count: 1, Rated Power: 172.2 kw",
          "MV3.101 Bus 131<br>6588b688-92b7-4863-811d-fb86b70e89ad<br>load=Count: 1, Rated Power: 362.9 kw<br>fixed_feed_in=Count: 1, Rated Power: 172.2 kw",
          "MV3.101 Bus 70<br>090d13e8-3cce-4793-816f-4c50f23f3f7f<br>load=Count: 1, Rated Power: 668.0 kw<br>fixed_feed_in=Count: 1, Rated Power: 171.2 kw",
          "MV3.101 Bus 89<br>16449d90-cc56-48b9-8067-97986b715758<br>load=Count: 1, Rated Power: 668.0 kw<br>fixed_feed_in=Count: 1, Rated Power: 171.2 kw",
          "MV3.101 Bus 36<br>8bf1ca07-f887-43ec-9e10-f360c0644954<br>load=Count: 1, Rated Power: 668.0 kw<br>fixed_feed_in=Count: 1, Rated Power: 171.2 kw",
          "MV3.101 Bus 83<br>32145578-706b-47e5-86ae-217d9a41867c<br>load=Count: 1, Rated Power: 668.0 kw<br>fixed_feed_in=Count: 1, Rated Power: 171.2 kw",
          "MV3.101 Bus 54<br>0f9e330f-7db2-48d6-8d07-8741f294f4a9<br>load=Count: 1, Rated Power: 594.9 kw<br>fixed_feed_in=Count: 1, Rated Power: 184.7 kw",
          "MV3.101 Bus 137<br>83e2fc45-c6d9-4a8e-8936-4c18b9da0b59<br>load=Count: 1, Rated Power: 362.9 kw<br>fixed_feed_in=Count: 1, Rated Power: 172.2 kw",
          "MV3.101 Bus 79<br>bebf3c0b-e658-438b-b5df-c0cc68d04479<br>load=Count: 1, Rated Power: 362.9 kw<br>fixed_feed_in=Count: 1, Rated Power: 172.2 kw",
          "MV3.101 Bus 101<br>265fe176-27b8-4d24-b805-68a258ef9077<br>load=Count: 1, Rated Power: 594.9 kw<br>fixed_feed_in=Count: 1, Rated Power: 184.7 kw",
          "MV3.101 Bus 45<br>fd124414-dbc6-4f6b-90b5-34918ee7b8f6<br>load=Count: 1, Rated Power: 362.9 kw<br>fixed_feed_in=Count: 1, Rated Power: 172.2 kw",
          "MV3.101 Bus 35<br>fc4af780-3f60-42fc-bc69-d38fadf92050<br>load=Count: 1, Rated Power: 668.0 kw<br>fixed_feed_in=Count: 1, Rated Power: 171.2 kw",
          "MV3.101 Bus 109<br>27cd0e75-9471-4140-aaba-88a8ef63c0b7<br>load=Count: 1, Rated Power: 362.9 kw<br>fixed_feed_in=Count: 1, Rated Power: 172.2 kw",
          "MV3.101 Bus 112<br>c76d8904-3d16-42ae-8abf-e1db37d7ae0d<br>load=Count: 1, Rated Power: 594.9 kw<br>fixed_feed_in=Count: 1, Rated Power: 184.7 kw"
         ],
         "lat": [
          53.6456,
          53.6525,
          53.6416,
          53.6461,
          53.6397,
          53.6406,
          53.6456,
          53.6462,
          53.648,
          53.6451,
          53.6488,
          53.6505,
          53.6498,
          53.6544,
          53.6472,
          53.642,
          53.6521,
          53.6488,
          53.6489,
          53.6415,
          53.6297,
          53.6445,
          53.6592,
          53.634,
          53.6429,
          53.6508,
          53.6441,
          53.6477,
          53.6439,
          53.647,
          53.6389,
          53.6436,
          53.6438,
          53.655,
          53.6579,
          53.6409,
          53.6545,
          53.6465,
          53.6544,
          53.6437,
          53.6434,
          53.6585,
          53.6417,
          53.6455,
          53.6521,
          53.6567,
          53.6541,
          53.6464,
          53.6492,
          53.6464,
          53.6421,
          53.6492,
          53.6516,
          53.6303,
          53.6448,
          53.6454,
          53.6353,
          53.6341,
          53.6455,
          53.641,
          53.6531,
          53.6459,
          53.6464,
          53.6524,
          53.6469,
          53.6341,
          53.6481,
          53.6489,
          53.6477,
          53.6252,
          53.6464,
          53.6346,
          53.6443,
          53.6603,
          53.638,
          53.6321,
          53.6286,
          53.6454,
          53.6502,
          53.6454,
          53.6501,
          53.6422,
          53.6469,
          53.6453,
          53.6494,
          53.6499,
          53.6286,
          53.6306,
          53.6464,
          53.6457,
          53.6425,
          53.6481,
          53.637,
          53.6429,
          53.6482,
          53.6477,
          53.6538,
          53.6479,
          53.6568,
          53.6285,
          53.6457,
          53.6384,
          53.6514,
          53.6475,
          53.6434,
          53.6443,
          53.6531,
          53.651,
          53.6363,
          53.6315
         ],
         "lon": [
          11.3692,
          11.3724,
          11.366,
          11.3521,
          11.3715,
          11.3654,
          11.3752,
          11.3691,
          11.3667,
          11.369,
          11.3833,
          11.3708,
          11.3578,
          11.3777,
          11.3833,
          11.3663,
          11.3535,
          11.3833,
          11.3683,
          11.3776,
          11.3739,
          11.3683,
          11.3686,
          11.3636,
          11.3815,
          11.3521,
          11.3609,
          11.3511,
          11.3558,
          11.3701,
          11.3669,
          11.3686,
          11.3767,
          11.3518,
          11.3634,
          11.3733,
          11.3756,
          11.3669,
          11.3637,
          11.3577,
          11.3825,
          11.3687,
          11.368,
          11.3798,
          11.3535,
          11.3529,
          11.3682,
          11.3745,
          11.3656,
          11.3721,
          11.3708,
          11.372,
          11.3561,
          11.3626,
          11.364,
          11.3776,
          11.3632,
          11.3724,
          11.3809,
          11.3767,
          11.3584,
          11.3687,
          11.3721,
          11.3561,
          11.3746,
          11.3724,
          11.3784,
          11.3604,
          11.3701,
          11.3714,
          11.3832,
          11.3656,
          11.3619,
          11.3636,
          11.3719,
          11.3702,
          11.3737,
          11.3762,
          11.3805,
          11.3706,
          11.3779,
          11.3784,
          11.3688,
          11.3665,
          11.351,
          11.3773,
          11.3737,
          11.3739,
          11.3832,
          11.3682,
          11.3707,
          11.3819,
          11.3664,
          11.3789,
          11.3627,
          11.3641,
          11.374,
          11.3773,
          11.3561,
          11.3627,
          11.3697,
          11.364,
          11.3638,
          11.3748,
          11.3674,
          11.3544,
          11.3682,
          11.3807,
          11.3661,
          11.3692
         ],
         "marker": {
          "color": "#023eff",
          "size": 6
         },
         "mode": "markers",
         "text": [
          "MV3.101 node1<br>5d50a881-c383-463e-8355-41b3dd57422d<br>load=Count: 1, Rated Power: 453.6 kw",
          "MV3.101 Bus 28<br>c50941eb-01ee-4bd5-be6a-c005af0639df<br>load=Count: 1, Rated Power: 362.9 kw<br>fixed_feed_in=Count: 1, Rated Power: 172.2 kw",
          "MV3.101 Bus 81<br>e22406e6-e172-4244-b978-89906f396130<br>load=Count: 1, Rated Power: 594.9 kw<br>fixed_feed_in=Count: 1, Rated Power: 184.7 kw",
          "MV3.101 Bus 102<br>d1c18dd9-a2f4-4953-8d53-03861eb519b5<br>load=Count: 1, Rated Power: 362.9 kw<br>fixed_feed_in=Count: 1, Rated Power: 172.2 kw",
          "MV3.101 Bus 19<br>6ae27f87-a713-4204-adfa-b262b222d240<br>load=Count: 1, Rated Power: 594.9 kw<br>fixed_feed_in=Count: 1, Rated Power: 184.7 kw",
          "MV3.101 Bus 82<br>cc612986-d947-4c4d-af40-ac8fdeebc1f9<br>load=Count: 1, Rated Power: 594.9 kw<br>fixed_feed_in=Count: 1, Rated Power: 184.7 kw",
          "MV3.101 Bus 125<br>738eb38a-f098-4e32-a39a-4c871eb39ccd<br>load=Count: 1, Rated Power: 595.0 kw<br>fixed_feed_in=Count: 1, Rated Power: 252.3 kw",
          "MV3.101 Bus 41<br>4537ceed-9709-47c8-bcac-92a73f44e78c<br>load=Count: 1, Rated Power: 594.9 kw<br>fixed_feed_in=Count: 1, Rated Power: 184.7 kw",
          "MV3.101 Bus 52<br>caf7fd1b-8c8a-4734-b7c3-7a49ae5c00da<br>load=Count: 1, Rated Power: 668.0 kw<br>fixed_feed_in=Count: 1, Rated Power: 171.2 kw",
          "MV3.101 Bus 77<br>0c5e6268-ba9c-41e0-b472-0aea5a3163c6<br>load=Count: 1, Rated Power: 594.9 kw<br>fixed_feed_in=Count: 1, Rated Power: 184.7 kw",
          "MV3.101 Bus 143<br>e9333524-c914-4799-961b-cfe5adfc5f52<br>load=Count: 1, Rated Power: 595.0 kw<br>fixed_feed_in=Count: 1, Rated Power: 252.3 kw",
          "MV3.101 Bus 27<br>84aa56bd-0941-4efd-86b8-61fd6b55dbf5<br>load=Count: 1, Rated Power: 594.9 kw<br>fixed_feed_in=Count: 1, Rated Power: 184.7 kw",
          "MV3.101 Bus 64<br>2cfb12f1-fa79-4210-9ac6-769254515af8<br>load=Count: 1, Rated Power: 594.9 kw<br>fixed_feed_in=Count: 1, Rated Power: 184.7 kw",
          "MV3.101 Bus 32<br>a7c9c8e7-63f0-4971-81b9-7073436d4317<br>load=Count: 1, Rated Power: 668.0 kw<br>fixed_feed_in=Count: 1, Rated Power: 171.2 kw",
          "MV3.101 Bus 134<br>43d06b2a-981c-4b51-91ab-978c392becb0<br>load=Count: 1, Rated Power: 595.0 kw<br>fixed_feed_in=Count: 1, Rated Power: 252.3 kw",
          "MV3.101 Bus 80<br>6df59148-c230-4892-82b3-c4f05c68bcdc<br>load=Count: 1, Rated Power: 668.0 kw<br>fixed_feed_in=Count: 1, Rated Power: 171.2 kw",
          "MV3.101 Bus 75<br>a0716f3b-09b0-437c-98c4-dd18397051f1<br>load=Count: 1, Rated Power: 362.9 kw<br>fixed_feed_in=Count: 1, Rated Power: 172.2 kw",
          "MV3.101 Bus 143_1<br>8b864fa2-3051-4369-91ec-9e17b71a1423<br>",
          "MV3.101 Bus 43<br>a5d72bf6-6a61-4314-b541-f5635d5c334f<br>load=Count: 1, Rated Power: 594.9 kw<br>fixed_feed_in=Count: 1, Rated Power: 184.7 kw",
          "MV3.101 Bus 17<br>b4551111-75bb-4e9d-986b-685e4ca7a22d<br>load=Count: 1, Rated Power: 594.9 kw<br>fixed_feed_in=Count: 1, Rated Power: 184.7 kw",
          "MV3.101 Bus 117<br>f3065cce-6302-4365-8036-4fc2f126ade8<br>load=Count: 1, Rated Power: 594.9 kw<br>fixed_feed_in=Count: 1, Rated Power: 184.7 kw",
          "MV3.101 Bus 78<br>04beeb0e-78d7-46b8-aca5-76d3a009638f<br>load=Count: 1, Rated Power: 362.9 kw<br>fixed_feed_in=Count: 1, Rated Power: 172.2 kw",
          "MV3.101 Bus 49<br>a21d803a-04cb-43c3-b531-7111536ef7a0<br>load=Count: 1, Rated Power: 668.0 kw<br>fixed_feed_in=Count: 1, Rated Power: 171.2 kw",
          "MV3.101 Bus 85<br>c9a17f26-fdc3-434d-bd81-ce7cafe7821a<br>load=Count: 1, Rated Power: 594.9 kw<br>fixed_feed_in=Count: 1, Rated Power: 184.7 kw",
          "MV3.101 Bus 123<br>889c84e9-c717-4471-84b4-b3423b30dc78<br>load=Count: 1, Rated Power: 594.9 kw<br>fixed_feed_in=Count: 1, Rated Power: 184.7 kw",
          "MV3.101 Bus 76<br>af2a653a-5fbb-48f4-94fe-da098579ebe7<br>load=Count: 1, Rated Power: 668.0 kw<br>fixed_feed_in=Count: 1, Rated Power: 171.2 kw",
          "MV3.101 Bus 98<br>f2ab91df-6f6a-439b-95da-135dc5fca6a2<br>load=Count: 1, Rated Power: 594.9 kw<br>fixed_feed_in=Count: 1, Rated Power: 184.7 kw",
          "MV3.101 Bus 103<br>f5fb7dc2-2a15-489a-9339-f8fd351836a4<br>load=Count: 1, Rated Power: 362.9 kw<br>fixed_feed_in=Count: 1, Rated Power: 172.2 kw",
          "MV3.101 Bus 100<br>3df23ce8-f8ed-4562-b3d3-3904e1aacfa6<br>load=Count: 1, Rated Power: 668.0 kw<br>fixed_feed_in=Count: 1, Rated Power: 171.2 kw",
          "MV3.101 Bus 37<br>c22fab8c-3947-44d2-a5f3-b997e6eadb35<br>load=Count: 1, Rated Power: 668.0 kw<br>fixed_feed_in=Count: 1, Rated Power: 171.2 kw",
          "MV3.101 Bus 107<br>40612e93-0348-46dd-8d66-a5480fb4484d<br>load=Count: 1, Rated Power: 362.9 kw<br>fixed_feed_in=Count: 1, Rated Power: 172.2 kw",
          "MV3.101 Bus 105<br>957fb2b9-d0db-48e4-bc59-39741464ed1c<br>load=Count: 1, Rated Power: 594.9 kw<br>fixed_feed_in=Count: 1, Rated Power: 184.7 kw",
          "MV3.101 Bus 119<br>58435c80-af6d-4675-b5de-41d8d4c0b87a<br>load=Count: 1, Rated Power: 595.0 kw<br>fixed_feed_in=Count: 1, Rated Power: 252.3 kw",
          "MV3.101 Bus 73<br>0f63de16-1c22-4e6b-8090-90929e2e407f<br>load=Count: 1, Rated Power: 594.9 kw<br>fixed_feed_in=Count: 1, Rated Power: 184.7 kw",
          "MV3.101 Bus 56<br>0d6102de-9f0f-47fa-9eb2-e8f5149a7851<br>load=Count: 1, Rated Power: 668.0 kw<br>fixed_feed_in=Count: 1, Rated Power: 171.2 kw",
          "MV3.101 Bus 15<br>2837f3ce-c6fb-45ba-9cf0-27ad14987c81<br>load=Count: 2, Rated Power: 774.3 kw<br>fixed_feed_in=Count: 1, Rated Power: 172.2 kw",
          "MV3.101 Bus 31<br>b7e2b6d4-7566-417f-b5a3-f2ead1ceed98<br>load=Count: 1, Rated Power: 594.9 kw<br>fixed_feed_in=Count: 1, Rated Power: 184.7 kw",
          "MV3.101 Bus 60<br>c2d61c41-06a1-4490-9e68-8fe7dfec579a<br>load=Count: 1, Rated Power: 362.9 kw<br>fixed_feed_in=Count: 1, Rated Power: 172.2 kw",
          "MV3.101 Bus 55<br>38145153-0dd5-429c-b0c8-e876956fa70f<br>load=Count: 1, Rated Power: 594.9 kw<br>fixed_feed_in=Count: 1, Rated Power: 184.7 kw",
          "MV3.101 Bus 99<br>f6761178-0491-441c-b7e6-4126b29fbada<br>load=Count: 1, Rated Power: 594.9 kw<br>fixed_feed_in=Count: 1, Rated Power: 184.7 kw",
          "MV3.101 Bus 124<br>79143963-b1bb-4eca-8ba8-d3712f5696c5<br>load=Count: 1, Rated Power: 362.9 kw<br>fixed_feed_in=Count: 1, Rated Power: 172.2 kw",
          "MV3.101 Bus 48<br>9b372fbc-8da2-48a3-b76e-ad52957f77d3<br>load=Count: 1, Rated Power: 594.9 kw<br>fixed_feed_in=Count: 1, Rated Power: 184.7 kw",
          "MV3.101 Bus 106<br>8f2d1b47-8115-4139-93d2-3ddb6a9119ff<br>load=Count: 1, Rated Power: 362.9 kw<br>fixed_feed_in=Count: 1, Rated Power: 172.2 kw",
          "MV3.101 Bus 128<br>ebde173b-fb40-484b-aeb9-d565b97c5102<br>load=Count: 1, Rated Power: 594.9 kw<br>fixed_feed_in=Count: 1, Rated Power: 184.7 kw",
          "MV3.101 Bus 75_1<br>a4b428dc-15dd-4b48-a115-322988f0cf73<br>",
          "MV3.101 Bus 71<br>2289d9f8-70e3-438f-a25a-8812b53f0aff<br>load=Count: 1, Rated Power: 594.9 kw<br>fixed_feed_in=Count: 1, Rated Power: 184.7 kw",
          "MV3.101 Bus 46<br>99d5e9ac-6fdf-4957-bf69-64dc088434f4<br>load=Count: 1, Rated Power: 594.9 kw<br>fixed_feed_in=Count: 1, Rated Power: 184.7 kw",
          "MV3.101 BS busbar1A<br>6bc544cf-71e5-4d0a-941a-4e806c22fd8d<br>",
          "MV3.101 Bus 53<br>296e67f3-2711-43ff-9a46-eca3f60b0001<br>load=Count: 1, Rated Power: 668.0 kw<br>fixed_feed_in=Count: 1, Rated Power: 171.2 kw",
          "MV3.101 Bus 40_1<br>557b9f51-d83c-476c-a84c-d240530c203d<br>",
          "MV3.101 Bus 13<br>5f35664a-a4ef-4a48-849c-c4c058f6cffa<br>load=Count: 1, Rated Power: 668.0 kw<br>fixed_feed_in=Count: 1, Rated Power: 171.2 kw",
          "MV3.101 Bus 39<br>49840d95-2aa5-490c-90ad-556dfee4cb89<br>load=Count: 1, Rated Power: 362.9 kw<br>fixed_feed_in=Count: 1, Rated Power: 172.2 kw",
          "MV3.101 Bus 66<br>5b421400-8cdf-4847-bdbf-452ece1ed348<br>load=Count: 1, Rated Power: 668.0 kw<br>fixed_feed_in=Count: 1, Rated Power: 171.2 kw",
          "MV3.101 Bus 88<br>51f05c04-30ac-4430-b970-0081f1b6d8b1<br>load=Count: 1, Rated Power: 594.9 kw<br>fixed_feed_in=Count: 1, Rated Power: 184.7 kw",
          "MV3.101 Bus 96<br>ad120450-c8c2-4859-a7c4-f487fbe10824<br>load=Count: 1, Rated Power: 594.9 kw<br>fixed_feed_in=Count: 1, Rated Power: 184.7 kw",
          "MV3.101 Bus 127<br>5e3c4932-5022-40b3-a533-ff831bcf18b9<br>load=Count: 1, Rated Power: 594.9 kw<br>fixed_feed_in=Count: 1, Rated Power: 184.7 kw",
          "MV3.101 Bus 84<br>aba677f2-f1c5-409e-8587-05acecbe09a8<br>load=Count: 2, Rated Power: 1090.7 kw<br>fixed_feed_in=Count: 1, Rated Power: 184.7 kw",
          "MV3.101 Bus 114_1<br>8252e667-afbf-4fff-b0b8-595f40b82273<br>",
          "MV3.101 Bus 129<br>f768ffeb-1021-47d1-b606-9f15103988fc<br>load=Count: 1, Rated Power: 362.9 kw<br>fixed_feed_in=Count: 1, Rated Power: 172.2 kw",
          "MV3.101 Bus 16<br>2aab5612-f39a-4cc1-bb96-056b873a6310<br>load=Count: 1, Rated Power: 594.9 kw<br>fixed_feed_in=Count: 1, Rated Power: 184.7 kw",
          "MV3.101 Bus 68<br>bd345c13-e871-4357-af6e-3969889ff035<br>load=Count: 1, Rated Power: 668.0 kw<br>fixed_feed_in=Count: 1, Rated Power: 171.2 kw",
          "MV3.101 Bus 51<br>52ac8b75-96b7-460e-a927-237d89a13663<br>load=Count: 1, Rated Power: 594.9 kw<br>fixed_feed_in=Count: 1, Rated Power: 184.7 kw",
          "MV3.101 Bus 40<br>a5ccf309-420a-474f-a6ed-96cb3ffa2e56<br>load=Count: 1, Rated Power: 594.9 kw<br>fixed_feed_in=Count: 1, Rated Power: 184.7 kw",
          "MV3.101 Bus 67<br>8b19ef59-b368-42eb-a754-12936b5d4d17<br>load=Count: 2, Rated Power: 647.7 kw<br>fixed_feed_in=Count: 1, Rated Power: 172.2 kw",
          "MV3.101 Bus 136<br>e4da35ec-8275-424a-bee3-5dc1a8c3dfb8<br>load=Count: 1, Rated Power: 362.9 kw<br>fixed_feed_in=Count: 1, Rated Power: 172.2 kw",
          "MV3.101 Bus 114<br>01dca738-329e-4c8d-900c-fd0f48acc874<br>load=Count: 1, Rated Power: 668.0 kw<br>fixed_feed_in=Count: 1, Rated Power: 171.2 kw",
          "MV3.101 Bus 132<br>a9c53c7b-e700-4412-93be-348459028998<br>load=Count: 1, Rated Power: 595.0 kw<br>fixed_feed_in=Count: 1, Rated Power: 252.3 kw",
          "MV3.101 Bus 63<br>eec4851e-6d4a-4710-aa77-83c9d4bfac28<br>load=Count: 1, Rated Power: 668.0 kw<br>fixed_feed_in=Count: 1, Rated Power: 171.2 kw",
          "MV3.101 Bus 38<br>61d6379d-b010-461e-96e5-921149c0c8b6<br>load=Count: 1, Rated Power: 362.9 kw<br>fixed_feed_in=Count: 1, Rated Power: 172.2 kw",
          "MV3.101 Bus 93<br>3342bab1-65b4-4a4b-a2e8-365a162ead81<br>load=Count: 1, Rated Power: 668.0 kw<br>fixed_feed_in=Count: 1, Rated Power: 171.2 kw",
          "MV3.101 Bus 135<br>b649cc84-5230-485a-808c-2078624d3681<br>load=Count: 1, Rated Power: 594.9 kw<br>fixed_feed_in=Count: 1, Rated Power: 184.7 kw",
          "MV3.101 Bus 110<br>42a7a176-bb8b-4281-8ba4-b2a2486f6b90<br>load=Count: 1, Rated Power: 594.9 kw<br>fixed_feed_in=Count: 1, Rated Power: 184.7 kw",
          "MV3.101 Bus 97<br>46f61d50-fb44-491d-a4e6-468102797132<br>load=Count: 1, Rated Power: 362.9 kw<br>fixed_feed_in=Count: 1, Rated Power: 172.2 kw",
          "MV3.101 Bus 57<br>cd736b45-3d94-402d-b11b-2a0ece139b71<br>load=Count: 1, Rated Power: 668.0 kw<br>fixed_feed_in=Count: 1, Rated Power: 171.2 kw",
          "MV3.101 Bus 20<br>98c94532-d796-4df2-864f-08b93b2244ab<br>load=Count: 1, Rated Power: 362.9 kw<br>fixed_feed_in=Count: 1, Rated Power: 172.2 kw",
          "MV3.101 Bus 113<br>380a3c84-fd4b-487c-b2de-00a3b19b27bc<br>load=Count: 1, Rated Power: 362.9 kw<br>fixed_feed_in=Count: 1, Rated Power: 172.2 kw",
          "MV3.101 Bus 118<br>8f65cec0-ee20-4f8c-8bdc-41f3218c067e<br>load=Count: 1, Rated Power: 594.9 kw<br>fixed_feed_in=Count: 1, Rated Power: 184.7 kw",
          "MV3.101 Bus 126<br>4920ef18-6e90-45e5-afaf-9e8b60eb6d0e<br>load=Count: 1, Rated Power: 594.9 kw<br>fixed_feed_in=Count: 1, Rated Power: 184.7 kw",
          "MV3.101 Bus 141<br>3342da5b-7e73-4fc5-af28-3d12619d9426<br>load=Count: 1, Rated Power: 595.0 kw<br>fixed_feed_in=Count: 1, Rated Power: 252.3 kw",
          "MV3.101 Bus 22<br>a6f270ec-f5e8-4c3d-817d-664539f01387<br>load=Count: 1, Rated Power: 362.9 kw<br>fixed_feed_in=Count: 1, Rated Power: 172.2 kw",
          "MV3.101 Bus 140<br>6f477624-e576-4286-8d62-ea909e214a75<br>load=Count: 1, Rated Power: 362.9 kw<br>fixed_feed_in=Count: 1, Rated Power: 172.2 kw",
          "MV3.101 Bus 18_1<br>5d60f397-ce09-4dc5-87c9-0382e71c694e<br>",
          "MV3.101 Bus 42<br>0dd3fdac-f05d-4e68-9611-a73f267ed9eb<br>load=Count: 2, Rated Power: 816.5 kw<br>fixed_feed_in=Count: 1, Rated Power: 184.7 kw",
          "MV3.101 Bus 94<br>a21047e0-d924-42e0-a5e5-0998d65266a6<br>load=Count: 1, Rated Power: 668.0 kw<br>fixed_feed_in=Count: 1, Rated Power: 171.2 kw",
          "MV3.101 Bus 104_1<br>ef10dec9-bbbe-4fe9-856c-28f44b5551bf<br>",
          "MV3.101 Bus 139<br>8559c7b0-c882-466d-8560-00c4db86956a<br>load=Count: 1, Rated Power: 362.9 kw<br>fixed_feed_in=Count: 1, Rated Power: 172.2 kw",
          "MV3.101 Bus 118_1<br>46b59740-e384-4038-beae-3de74fa9a3c6<br>",
          "MV3.101 Bus 116<br>e386caca-6ea9-420c-b732-a79f55899458<br>load=Count: 1, Rated Power: 668.0 kw<br>fixed_feed_in=Count: 1, Rated Power: 171.2 kw",
          "MV3.101 Bus 135_1<br>fad370e8-1530-4310-8181-eacbd141642b<br>",
          "MV3.101 Bus 59<br>b0f1f7d4-4ddb-4a56-91ad-e85590714c87<br>load=Count: 1, Rated Power: 594.9 kw<br>fixed_feed_in=Count: 1, Rated Power: 184.7 kw",
          "MV3.101 Bus 12<br>dc68cf3e-ecb0-4740-a561-de6316c7376d<br>load=Count: 1, Rated Power: 362.9 kw<br>fixed_feed_in=Count: 1, Rated Power: 172.2 kw",
          "MV3.101 Bus 133<br>8c073498-b9e2-439d-94a8-63f68f56f192<br>load=Count: 1, Rated Power: 362.9 kw<br>fixed_feed_in=Count: 1, Rated Power: 172.2 kw",
          "MV3.101 Bus 108<br>0e96dffd-d5ea-4f2c-a133-bacb7a85ca31<br>load=Count: 1, Rated Power: 594.9 kw<br>fixed_feed_in=Count: 1, Rated Power: 184.7 kw",
          "MV3.101 Bus 121<br>ef1b266d-3f64-4f9e-a5c5-49ab174370a6<br>load=Count: 1, Rated Power: 595.0 kw<br>fixed_feed_in=Count: 1, Rated Power: 252.3 kw",
          "MV3.101 Bus 62<br>3ecf3284-5919-49ba-a60a-22996f8bc202<br>load=Count: 1, Rated Power: 362.9 kw<br>fixed_feed_in=Count: 1, Rated Power: 172.2 kw",
          "MV3.101 Bus 61<br>393881b0-3b78-413f-b065-03d216803c87<br>load=Count: 1, Rated Power: 668.0 kw<br>fixed_feed_in=Count: 1, Rated Power: 171.2 kw",
          "MV3.101 Bus 29<br>1d219ef0-079c-4df8-8449-e80cb2af6793<br>load=Count: 1, Rated Power: 362.9 kw<br>fixed_feed_in=Count: 1, Rated Power: 172.2 kw",
          "MV3.101 Bus 131<br>6588b688-92b7-4863-811d-fb86b70e89ad<br>load=Count: 1, Rated Power: 362.9 kw<br>fixed_feed_in=Count: 1, Rated Power: 172.2 kw",
          "MV3.101 Bus 70<br>090d13e8-3cce-4793-816f-4c50f23f3f7f<br>load=Count: 1, Rated Power: 668.0 kw<br>fixed_feed_in=Count: 1, Rated Power: 171.2 kw",
          "MV3.101 Bus 89<br>16449d90-cc56-48b9-8067-97986b715758<br>load=Count: 1, Rated Power: 668.0 kw<br>fixed_feed_in=Count: 1, Rated Power: 171.2 kw",
          "MV3.101 Bus 36<br>8bf1ca07-f887-43ec-9e10-f360c0644954<br>load=Count: 1, Rated Power: 668.0 kw<br>fixed_feed_in=Count: 1, Rated Power: 171.2 kw",
          "MV3.101 Bus 83<br>32145578-706b-47e5-86ae-217d9a41867c<br>load=Count: 1, Rated Power: 668.0 kw<br>fixed_feed_in=Count: 1, Rated Power: 171.2 kw",
          "MV3.101 Bus 54<br>0f9e330f-7db2-48d6-8d07-8741f294f4a9<br>load=Count: 1, Rated Power: 594.9 kw<br>fixed_feed_in=Count: 1, Rated Power: 184.7 kw",
          "MV3.101 Bus 137<br>83e2fc45-c6d9-4a8e-8936-4c18b9da0b59<br>load=Count: 1, Rated Power: 362.9 kw<br>fixed_feed_in=Count: 1, Rated Power: 172.2 kw",
          "MV3.101 Bus 79<br>bebf3c0b-e658-438b-b5df-c0cc68d04479<br>load=Count: 1, Rated Power: 362.9 kw<br>fixed_feed_in=Count: 1, Rated Power: 172.2 kw",
          "MV3.101 Bus 101<br>265fe176-27b8-4d24-b805-68a258ef9077<br>load=Count: 1, Rated Power: 594.9 kw<br>fixed_feed_in=Count: 1, Rated Power: 184.7 kw",
          "MV3.101 Bus 45<br>fd124414-dbc6-4f6b-90b5-34918ee7b8f6<br>load=Count: 1, Rated Power: 362.9 kw<br>fixed_feed_in=Count: 1, Rated Power: 172.2 kw",
          "MV3.101 Bus 35<br>fc4af780-3f60-42fc-bc69-d38fadf92050<br>load=Count: 1, Rated Power: 668.0 kw<br>fixed_feed_in=Count: 1, Rated Power: 171.2 kw",
          "MV3.101 Bus 109<br>27cd0e75-9471-4140-aaba-88a8ef63c0b7<br>load=Count: 1, Rated Power: 362.9 kw<br>fixed_feed_in=Count: 1, Rated Power: 172.2 kw",
          "MV3.101 Bus 112<br>c76d8904-3d16-42ae-8abf-e1db37d7ae0d<br>load=Count: 1, Rated Power: 594.9 kw<br>fixed_feed_in=Count: 1, Rated Power: 184.7 kw"
         ],
         "type": "scattermapbox"
        },
        {
         "hoverinfo": "text",
         "hovertext": [
          "MV3.101 node1<br>5d50a881-c383-463e-8355-41b3dd57422d<br>load=Count: 1, Rated Power: 453.6 kw",
          "MV3.101 Bus 28<br>c50941eb-01ee-4bd5-be6a-c005af0639df<br>load=Count: 1, Rated Power: 362.9 kw<br>fixed_feed_in=Count: 1, Rated Power: 172.2 kw",
          "MV3.101 Bus 81<br>e22406e6-e172-4244-b978-89906f396130<br>load=Count: 1, Rated Power: 594.9 kw<br>fixed_feed_in=Count: 1, Rated Power: 184.7 kw",
          "MV3.101 Bus 102<br>d1c18dd9-a2f4-4953-8d53-03861eb519b5<br>load=Count: 1, Rated Power: 362.9 kw<br>fixed_feed_in=Count: 1, Rated Power: 172.2 kw",
          "MV3.101 Bus 19<br>6ae27f87-a713-4204-adfa-b262b222d240<br>load=Count: 1, Rated Power: 594.9 kw<br>fixed_feed_in=Count: 1, Rated Power: 184.7 kw",
          "MV3.101 Bus 82<br>cc612986-d947-4c4d-af40-ac8fdeebc1f9<br>load=Count: 1, Rated Power: 594.9 kw<br>fixed_feed_in=Count: 1, Rated Power: 184.7 kw",
          "MV3.101 Bus 125<br>738eb38a-f098-4e32-a39a-4c871eb39ccd<br>load=Count: 1, Rated Power: 595.0 kw<br>fixed_feed_in=Count: 1, Rated Power: 252.3 kw",
          "MV3.101 Bus 41<br>4537ceed-9709-47c8-bcac-92a73f44e78c<br>load=Count: 1, Rated Power: 594.9 kw<br>fixed_feed_in=Count: 1, Rated Power: 184.7 kw",
          "MV3.101 Bus 52<br>caf7fd1b-8c8a-4734-b7c3-7a49ae5c00da<br>load=Count: 1, Rated Power: 668.0 kw<br>fixed_feed_in=Count: 1, Rated Power: 171.2 kw",
          "MV3.101 Bus 77<br>0c5e6268-ba9c-41e0-b472-0aea5a3163c6<br>load=Count: 1, Rated Power: 594.9 kw<br>fixed_feed_in=Count: 1, Rated Power: 184.7 kw",
          "MV3.101 Bus 143<br>e9333524-c914-4799-961b-cfe5adfc5f52<br>load=Count: 1, Rated Power: 595.0 kw<br>fixed_feed_in=Count: 1, Rated Power: 252.3 kw",
          "MV3.101 Bus 27<br>84aa56bd-0941-4efd-86b8-61fd6b55dbf5<br>load=Count: 1, Rated Power: 594.9 kw<br>fixed_feed_in=Count: 1, Rated Power: 184.7 kw",
          "MV3.101 Bus 64<br>2cfb12f1-fa79-4210-9ac6-769254515af8<br>load=Count: 1, Rated Power: 594.9 kw<br>fixed_feed_in=Count: 1, Rated Power: 184.7 kw",
          "MV3.101 Bus 32<br>a7c9c8e7-63f0-4971-81b9-7073436d4317<br>load=Count: 1, Rated Power: 668.0 kw<br>fixed_feed_in=Count: 1, Rated Power: 171.2 kw",
          "MV3.101 Bus 134<br>43d06b2a-981c-4b51-91ab-978c392becb0<br>load=Count: 1, Rated Power: 595.0 kw<br>fixed_feed_in=Count: 1, Rated Power: 252.3 kw",
          "MV3.101 Bus 80<br>6df59148-c230-4892-82b3-c4f05c68bcdc<br>load=Count: 1, Rated Power: 668.0 kw<br>fixed_feed_in=Count: 1, Rated Power: 171.2 kw",
          "MV3.101 Bus 75<br>a0716f3b-09b0-437c-98c4-dd18397051f1<br>load=Count: 1, Rated Power: 362.9 kw<br>fixed_feed_in=Count: 1, Rated Power: 172.2 kw",
          "MV3.101 Bus 143_1<br>8b864fa2-3051-4369-91ec-9e17b71a1423<br>",
          "MV3.101 Bus 43<br>a5d72bf6-6a61-4314-b541-f5635d5c334f<br>load=Count: 1, Rated Power: 594.9 kw<br>fixed_feed_in=Count: 1, Rated Power: 184.7 kw",
          "MV3.101 Bus 17<br>b4551111-75bb-4e9d-986b-685e4ca7a22d<br>load=Count: 1, Rated Power: 594.9 kw<br>fixed_feed_in=Count: 1, Rated Power: 184.7 kw",
          "MV3.101 Bus 117<br>f3065cce-6302-4365-8036-4fc2f126ade8<br>load=Count: 1, Rated Power: 594.9 kw<br>fixed_feed_in=Count: 1, Rated Power: 184.7 kw",
          "MV3.101 Bus 78<br>04beeb0e-78d7-46b8-aca5-76d3a009638f<br>load=Count: 1, Rated Power: 362.9 kw<br>fixed_feed_in=Count: 1, Rated Power: 172.2 kw",
          "MV3.101 Bus 49<br>a21d803a-04cb-43c3-b531-7111536ef7a0<br>load=Count: 1, Rated Power: 668.0 kw<br>fixed_feed_in=Count: 1, Rated Power: 171.2 kw",
          "MV3.101 Bus 85<br>c9a17f26-fdc3-434d-bd81-ce7cafe7821a<br>load=Count: 1, Rated Power: 594.9 kw<br>fixed_feed_in=Count: 1, Rated Power: 184.7 kw",
          "MV3.101 Bus 123<br>889c84e9-c717-4471-84b4-b3423b30dc78<br>load=Count: 1, Rated Power: 594.9 kw<br>fixed_feed_in=Count: 1, Rated Power: 184.7 kw",
          "MV3.101 Bus 76<br>af2a653a-5fbb-48f4-94fe-da098579ebe7<br>load=Count: 1, Rated Power: 668.0 kw<br>fixed_feed_in=Count: 1, Rated Power: 171.2 kw",
          "MV3.101 Bus 98<br>f2ab91df-6f6a-439b-95da-135dc5fca6a2<br>load=Count: 1, Rated Power: 594.9 kw<br>fixed_feed_in=Count: 1, Rated Power: 184.7 kw",
          "MV3.101 Bus 103<br>f5fb7dc2-2a15-489a-9339-f8fd351836a4<br>load=Count: 1, Rated Power: 362.9 kw<br>fixed_feed_in=Count: 1, Rated Power: 172.2 kw",
          "MV3.101 Bus 100<br>3df23ce8-f8ed-4562-b3d3-3904e1aacfa6<br>load=Count: 1, Rated Power: 668.0 kw<br>fixed_feed_in=Count: 1, Rated Power: 171.2 kw",
          "MV3.101 Bus 37<br>c22fab8c-3947-44d2-a5f3-b997e6eadb35<br>load=Count: 1, Rated Power: 668.0 kw<br>fixed_feed_in=Count: 1, Rated Power: 171.2 kw",
          "MV3.101 Bus 107<br>40612e93-0348-46dd-8d66-a5480fb4484d<br>load=Count: 1, Rated Power: 362.9 kw<br>fixed_feed_in=Count: 1, Rated Power: 172.2 kw",
          "MV3.101 Bus 105<br>957fb2b9-d0db-48e4-bc59-39741464ed1c<br>load=Count: 1, Rated Power: 594.9 kw<br>fixed_feed_in=Count: 1, Rated Power: 184.7 kw",
          "MV3.101 Bus 119<br>58435c80-af6d-4675-b5de-41d8d4c0b87a<br>load=Count: 1, Rated Power: 595.0 kw<br>fixed_feed_in=Count: 1, Rated Power: 252.3 kw",
          "MV3.101 Bus 73<br>0f63de16-1c22-4e6b-8090-90929e2e407f<br>load=Count: 1, Rated Power: 594.9 kw<br>fixed_feed_in=Count: 1, Rated Power: 184.7 kw",
          "MV3.101 Bus 56<br>0d6102de-9f0f-47fa-9eb2-e8f5149a7851<br>load=Count: 1, Rated Power: 668.0 kw<br>fixed_feed_in=Count: 1, Rated Power: 171.2 kw",
          "MV3.101 Bus 15<br>2837f3ce-c6fb-45ba-9cf0-27ad14987c81<br>load=Count: 2, Rated Power: 774.3 kw<br>fixed_feed_in=Count: 1, Rated Power: 172.2 kw",
          "MV3.101 Bus 31<br>b7e2b6d4-7566-417f-b5a3-f2ead1ceed98<br>load=Count: 1, Rated Power: 594.9 kw<br>fixed_feed_in=Count: 1, Rated Power: 184.7 kw",
          "MV3.101 Bus 60<br>c2d61c41-06a1-4490-9e68-8fe7dfec579a<br>load=Count: 1, Rated Power: 362.9 kw<br>fixed_feed_in=Count: 1, Rated Power: 172.2 kw",
          "MV3.101 Bus 55<br>38145153-0dd5-429c-b0c8-e876956fa70f<br>load=Count: 1, Rated Power: 594.9 kw<br>fixed_feed_in=Count: 1, Rated Power: 184.7 kw",
          "MV3.101 Bus 99<br>f6761178-0491-441c-b7e6-4126b29fbada<br>load=Count: 1, Rated Power: 594.9 kw<br>fixed_feed_in=Count: 1, Rated Power: 184.7 kw",
          "MV3.101 Bus 124<br>79143963-b1bb-4eca-8ba8-d3712f5696c5<br>load=Count: 1, Rated Power: 362.9 kw<br>fixed_feed_in=Count: 1, Rated Power: 172.2 kw",
          "MV3.101 Bus 48<br>9b372fbc-8da2-48a3-b76e-ad52957f77d3<br>load=Count: 1, Rated Power: 594.9 kw<br>fixed_feed_in=Count: 1, Rated Power: 184.7 kw",
          "MV3.101 Bus 106<br>8f2d1b47-8115-4139-93d2-3ddb6a9119ff<br>load=Count: 1, Rated Power: 362.9 kw<br>fixed_feed_in=Count: 1, Rated Power: 172.2 kw",
          "MV3.101 Bus 128<br>ebde173b-fb40-484b-aeb9-d565b97c5102<br>load=Count: 1, Rated Power: 594.9 kw<br>fixed_feed_in=Count: 1, Rated Power: 184.7 kw",
          "MV3.101 Bus 75_1<br>a4b428dc-15dd-4b48-a115-322988f0cf73<br>",
          "MV3.101 Bus 71<br>2289d9f8-70e3-438f-a25a-8812b53f0aff<br>load=Count: 1, Rated Power: 594.9 kw<br>fixed_feed_in=Count: 1, Rated Power: 184.7 kw",
          "MV3.101 Bus 46<br>99d5e9ac-6fdf-4957-bf69-64dc088434f4<br>load=Count: 1, Rated Power: 594.9 kw<br>fixed_feed_in=Count: 1, Rated Power: 184.7 kw",
          "MV3.101 BS busbar1A<br>6bc544cf-71e5-4d0a-941a-4e806c22fd8d<br>",
          "MV3.101 Bus 53<br>296e67f3-2711-43ff-9a46-eca3f60b0001<br>load=Count: 1, Rated Power: 668.0 kw<br>fixed_feed_in=Count: 1, Rated Power: 171.2 kw",
          "MV3.101 Bus 40_1<br>557b9f51-d83c-476c-a84c-d240530c203d<br>",
          "MV3.101 Bus 13<br>5f35664a-a4ef-4a48-849c-c4c058f6cffa<br>load=Count: 1, Rated Power: 668.0 kw<br>fixed_feed_in=Count: 1, Rated Power: 171.2 kw",
          "MV3.101 Bus 39<br>49840d95-2aa5-490c-90ad-556dfee4cb89<br>load=Count: 1, Rated Power: 362.9 kw<br>fixed_feed_in=Count: 1, Rated Power: 172.2 kw",
          "MV3.101 Bus 66<br>5b421400-8cdf-4847-bdbf-452ece1ed348<br>load=Count: 1, Rated Power: 668.0 kw<br>fixed_feed_in=Count: 1, Rated Power: 171.2 kw",
          "MV3.101 Bus 88<br>51f05c04-30ac-4430-b970-0081f1b6d8b1<br>load=Count: 1, Rated Power: 594.9 kw<br>fixed_feed_in=Count: 1, Rated Power: 184.7 kw",
          "MV3.101 Bus 96<br>ad120450-c8c2-4859-a7c4-f487fbe10824<br>load=Count: 1, Rated Power: 594.9 kw<br>fixed_feed_in=Count: 1, Rated Power: 184.7 kw",
          "MV3.101 Bus 127<br>5e3c4932-5022-40b3-a533-ff831bcf18b9<br>load=Count: 1, Rated Power: 594.9 kw<br>fixed_feed_in=Count: 1, Rated Power: 184.7 kw",
          "MV3.101 Bus 84<br>aba677f2-f1c5-409e-8587-05acecbe09a8<br>load=Count: 2, Rated Power: 1090.7 kw<br>fixed_feed_in=Count: 1, Rated Power: 184.7 kw",
          "MV3.101 Bus 114_1<br>8252e667-afbf-4fff-b0b8-595f40b82273<br>",
          "MV3.101 Bus 129<br>f768ffeb-1021-47d1-b606-9f15103988fc<br>load=Count: 1, Rated Power: 362.9 kw<br>fixed_feed_in=Count: 1, Rated Power: 172.2 kw",
          "MV3.101 Bus 16<br>2aab5612-f39a-4cc1-bb96-056b873a6310<br>load=Count: 1, Rated Power: 594.9 kw<br>fixed_feed_in=Count: 1, Rated Power: 184.7 kw",
          "MV3.101 Bus 68<br>bd345c13-e871-4357-af6e-3969889ff035<br>load=Count: 1, Rated Power: 668.0 kw<br>fixed_feed_in=Count: 1, Rated Power: 171.2 kw",
          "MV3.101 Bus 51<br>52ac8b75-96b7-460e-a927-237d89a13663<br>load=Count: 1, Rated Power: 594.9 kw<br>fixed_feed_in=Count: 1, Rated Power: 184.7 kw",
          "MV3.101 Bus 40<br>a5ccf309-420a-474f-a6ed-96cb3ffa2e56<br>load=Count: 1, Rated Power: 594.9 kw<br>fixed_feed_in=Count: 1, Rated Power: 184.7 kw",
          "MV3.101 Bus 67<br>8b19ef59-b368-42eb-a754-12936b5d4d17<br>load=Count: 2, Rated Power: 647.7 kw<br>fixed_feed_in=Count: 1, Rated Power: 172.2 kw",
          "MV3.101 Bus 136<br>e4da35ec-8275-424a-bee3-5dc1a8c3dfb8<br>load=Count: 1, Rated Power: 362.9 kw<br>fixed_feed_in=Count: 1, Rated Power: 172.2 kw",
          "MV3.101 Bus 114<br>01dca738-329e-4c8d-900c-fd0f48acc874<br>load=Count: 1, Rated Power: 668.0 kw<br>fixed_feed_in=Count: 1, Rated Power: 171.2 kw",
          "MV3.101 Bus 132<br>a9c53c7b-e700-4412-93be-348459028998<br>load=Count: 1, Rated Power: 595.0 kw<br>fixed_feed_in=Count: 1, Rated Power: 252.3 kw",
          "MV3.101 Bus 63<br>eec4851e-6d4a-4710-aa77-83c9d4bfac28<br>load=Count: 1, Rated Power: 668.0 kw<br>fixed_feed_in=Count: 1, Rated Power: 171.2 kw",
          "MV3.101 Bus 38<br>61d6379d-b010-461e-96e5-921149c0c8b6<br>load=Count: 1, Rated Power: 362.9 kw<br>fixed_feed_in=Count: 1, Rated Power: 172.2 kw",
          "MV3.101 Bus 93<br>3342bab1-65b4-4a4b-a2e8-365a162ead81<br>load=Count: 1, Rated Power: 668.0 kw<br>fixed_feed_in=Count: 1, Rated Power: 171.2 kw",
          "MV3.101 Bus 135<br>b649cc84-5230-485a-808c-2078624d3681<br>load=Count: 1, Rated Power: 594.9 kw<br>fixed_feed_in=Count: 1, Rated Power: 184.7 kw",
          "MV3.101 Bus 110<br>42a7a176-bb8b-4281-8ba4-b2a2486f6b90<br>load=Count: 1, Rated Power: 594.9 kw<br>fixed_feed_in=Count: 1, Rated Power: 184.7 kw",
          "MV3.101 Bus 97<br>46f61d50-fb44-491d-a4e6-468102797132<br>load=Count: 1, Rated Power: 362.9 kw<br>fixed_feed_in=Count: 1, Rated Power: 172.2 kw",
          "MV3.101 Bus 57<br>cd736b45-3d94-402d-b11b-2a0ece139b71<br>load=Count: 1, Rated Power: 668.0 kw<br>fixed_feed_in=Count: 1, Rated Power: 171.2 kw",
          "MV3.101 Bus 20<br>98c94532-d796-4df2-864f-08b93b2244ab<br>load=Count: 1, Rated Power: 362.9 kw<br>fixed_feed_in=Count: 1, Rated Power: 172.2 kw",
          "MV3.101 Bus 113<br>380a3c84-fd4b-487c-b2de-00a3b19b27bc<br>load=Count: 1, Rated Power: 362.9 kw<br>fixed_feed_in=Count: 1, Rated Power: 172.2 kw",
          "MV3.101 Bus 118<br>8f65cec0-ee20-4f8c-8bdc-41f3218c067e<br>load=Count: 1, Rated Power: 594.9 kw<br>fixed_feed_in=Count: 1, Rated Power: 184.7 kw",
          "MV3.101 Bus 126<br>4920ef18-6e90-45e5-afaf-9e8b60eb6d0e<br>load=Count: 1, Rated Power: 594.9 kw<br>fixed_feed_in=Count: 1, Rated Power: 184.7 kw",
          "MV3.101 Bus 141<br>3342da5b-7e73-4fc5-af28-3d12619d9426<br>load=Count: 1, Rated Power: 595.0 kw<br>fixed_feed_in=Count: 1, Rated Power: 252.3 kw",
          "MV3.101 Bus 22<br>a6f270ec-f5e8-4c3d-817d-664539f01387<br>load=Count: 1, Rated Power: 362.9 kw<br>fixed_feed_in=Count: 1, Rated Power: 172.2 kw",
          "MV3.101 Bus 140<br>6f477624-e576-4286-8d62-ea909e214a75<br>load=Count: 1, Rated Power: 362.9 kw<br>fixed_feed_in=Count: 1, Rated Power: 172.2 kw",
          "MV3.101 Bus 18_1<br>5d60f397-ce09-4dc5-87c9-0382e71c694e<br>",
          "MV3.101 Bus 42<br>0dd3fdac-f05d-4e68-9611-a73f267ed9eb<br>load=Count: 2, Rated Power: 816.5 kw<br>fixed_feed_in=Count: 1, Rated Power: 184.7 kw",
          "MV3.101 Bus 94<br>a21047e0-d924-42e0-a5e5-0998d65266a6<br>load=Count: 1, Rated Power: 668.0 kw<br>fixed_feed_in=Count: 1, Rated Power: 171.2 kw",
          "MV3.101 Bus 104_1<br>ef10dec9-bbbe-4fe9-856c-28f44b5551bf<br>",
          "MV3.101 Bus 139<br>8559c7b0-c882-466d-8560-00c4db86956a<br>load=Count: 1, Rated Power: 362.9 kw<br>fixed_feed_in=Count: 1, Rated Power: 172.2 kw",
          "MV3.101 Bus 118_1<br>46b59740-e384-4038-beae-3de74fa9a3c6<br>",
          "MV3.101 Bus 116<br>e386caca-6ea9-420c-b732-a79f55899458<br>load=Count: 1, Rated Power: 668.0 kw<br>fixed_feed_in=Count: 1, Rated Power: 171.2 kw",
          "MV3.101 Bus 135_1<br>fad370e8-1530-4310-8181-eacbd141642b<br>",
          "MV3.101 Bus 59<br>b0f1f7d4-4ddb-4a56-91ad-e85590714c87<br>load=Count: 1, Rated Power: 594.9 kw<br>fixed_feed_in=Count: 1, Rated Power: 184.7 kw",
          "MV3.101 Bus 12<br>dc68cf3e-ecb0-4740-a561-de6316c7376d<br>load=Count: 1, Rated Power: 362.9 kw<br>fixed_feed_in=Count: 1, Rated Power: 172.2 kw",
          "MV3.101 Bus 133<br>8c073498-b9e2-439d-94a8-63f68f56f192<br>load=Count: 1, Rated Power: 362.9 kw<br>fixed_feed_in=Count: 1, Rated Power: 172.2 kw",
          "MV3.101 Bus 108<br>0e96dffd-d5ea-4f2c-a133-bacb7a85ca31<br>load=Count: 1, Rated Power: 594.9 kw<br>fixed_feed_in=Count: 1, Rated Power: 184.7 kw",
          "MV3.101 Bus 121<br>ef1b266d-3f64-4f9e-a5c5-49ab174370a6<br>load=Count: 1, Rated Power: 595.0 kw<br>fixed_feed_in=Count: 1, Rated Power: 252.3 kw",
          "MV3.101 Bus 62<br>3ecf3284-5919-49ba-a60a-22996f8bc202<br>load=Count: 1, Rated Power: 362.9 kw<br>fixed_feed_in=Count: 1, Rated Power: 172.2 kw",
          "MV3.101 Bus 61<br>393881b0-3b78-413f-b065-03d216803c87<br>load=Count: 1, Rated Power: 668.0 kw<br>fixed_feed_in=Count: 1, Rated Power: 171.2 kw",
          "MV3.101 Bus 29<br>1d219ef0-079c-4df8-8449-e80cb2af6793<br>load=Count: 1, Rated Power: 362.9 kw<br>fixed_feed_in=Count: 1, Rated Power: 172.2 kw",
          "MV3.101 Bus 131<br>6588b688-92b7-4863-811d-fb86b70e89ad<br>load=Count: 1, Rated Power: 362.9 kw<br>fixed_feed_in=Count: 1, Rated Power: 172.2 kw",
          "MV3.101 Bus 70<br>090d13e8-3cce-4793-816f-4c50f23f3f7f<br>load=Count: 1, Rated Power: 668.0 kw<br>fixed_feed_in=Count: 1, Rated Power: 171.2 kw",
          "MV3.101 Bus 89<br>16449d90-cc56-48b9-8067-97986b715758<br>load=Count: 1, Rated Power: 668.0 kw<br>fixed_feed_in=Count: 1, Rated Power: 171.2 kw",
          "MV3.101 Bus 36<br>8bf1ca07-f887-43ec-9e10-f360c0644954<br>load=Count: 1, Rated Power: 668.0 kw<br>fixed_feed_in=Count: 1, Rated Power: 171.2 kw",
          "MV3.101 Bus 83<br>32145578-706b-47e5-86ae-217d9a41867c<br>load=Count: 1, Rated Power: 668.0 kw<br>fixed_feed_in=Count: 1, Rated Power: 171.2 kw",
          "MV3.101 Bus 54<br>0f9e330f-7db2-48d6-8d07-8741f294f4a9<br>load=Count: 1, Rated Power: 594.9 kw<br>fixed_feed_in=Count: 1, Rated Power: 184.7 kw",
          "MV3.101 Bus 137<br>83e2fc45-c6d9-4a8e-8936-4c18b9da0b59<br>load=Count: 1, Rated Power: 362.9 kw<br>fixed_feed_in=Count: 1, Rated Power: 172.2 kw",
          "MV3.101 Bus 79<br>bebf3c0b-e658-438b-b5df-c0cc68d04479<br>load=Count: 1, Rated Power: 362.9 kw<br>fixed_feed_in=Count: 1, Rated Power: 172.2 kw",
          "MV3.101 Bus 101<br>265fe176-27b8-4d24-b805-68a258ef9077<br>load=Count: 1, Rated Power: 594.9 kw<br>fixed_feed_in=Count: 1, Rated Power: 184.7 kw",
          "MV3.101 Bus 45<br>fd124414-dbc6-4f6b-90b5-34918ee7b8f6<br>load=Count: 1, Rated Power: 362.9 kw<br>fixed_feed_in=Count: 1, Rated Power: 172.2 kw",
          "MV3.101 Bus 35<br>fc4af780-3f60-42fc-bc69-d38fadf92050<br>load=Count: 1, Rated Power: 668.0 kw<br>fixed_feed_in=Count: 1, Rated Power: 171.2 kw",
          "MV3.101 Bus 109<br>27cd0e75-9471-4140-aaba-88a8ef63c0b7<br>load=Count: 1, Rated Power: 362.9 kw<br>fixed_feed_in=Count: 1, Rated Power: 172.2 kw",
          "MV3.101 Bus 112<br>c76d8904-3d16-42ae-8abf-e1db37d7ae0d<br>load=Count: 1, Rated Power: 594.9 kw<br>fixed_feed_in=Count: 1, Rated Power: 184.7 kw"
         ],
         "lat": [
          53.6456,
          53.6525,
          53.6416,
          53.6461,
          53.6397,
          53.6406,
          53.6456,
          53.6462,
          53.648,
          53.6451,
          53.6488,
          53.6505,
          53.6498,
          53.6544,
          53.6472,
          53.642,
          53.6521,
          53.6488,
          53.6489,
          53.6415,
          53.6297,
          53.6445,
          53.6592,
          53.634,
          53.6429,
          53.6508,
          53.6441,
          53.6477,
          53.6439,
          53.647,
          53.6389,
          53.6436,
          53.6438,
          53.655,
          53.6579,
          53.6409,
          53.6545,
          53.6465,
          53.6544,
          53.6437,
          53.6434,
          53.6585,
          53.6417,
          53.6455,
          53.6521,
          53.6567,
          53.6541,
          53.6464,
          53.6492,
          53.6464,
          53.6421,
          53.6492,
          53.6516,
          53.6303,
          53.6448,
          53.6454,
          53.6353,
          53.6341,
          53.6455,
          53.641,
          53.6531,
          53.6459,
          53.6464,
          53.6524,
          53.6469,
          53.6341,
          53.6481,
          53.6489,
          53.6477,
          53.6252,
          53.6464,
          53.6346,
          53.6443,
          53.6603,
          53.638,
          53.6321,
          53.6286,
          53.6454,
          53.6502,
          53.6454,
          53.6501,
          53.6422,
          53.6469,
          53.6453,
          53.6494,
          53.6499,
          53.6286,
          53.6306,
          53.6464,
          53.6457,
          53.6425,
          53.6481,
          53.637,
          53.6429,
          53.6482,
          53.6477,
          53.6538,
          53.6479,
          53.6568,
          53.6285,
          53.6457,
          53.6384,
          53.6514,
          53.6475,
          53.6434,
          53.6443,
          53.6531,
          53.651,
          53.6363,
          53.6315
         ],
         "lon": [
          11.3692,
          11.3724,
          11.366,
          11.3521,
          11.3715,
          11.3654,
          11.3752,
          11.3691,
          11.3667,
          11.369,
          11.3833,
          11.3708,
          11.3578,
          11.3777,
          11.3833,
          11.3663,
          11.3535,
          11.3833,
          11.3683,
          11.3776,
          11.3739,
          11.3683,
          11.3686,
          11.3636,
          11.3815,
          11.3521,
          11.3609,
          11.3511,
          11.3558,
          11.3701,
          11.3669,
          11.3686,
          11.3767,
          11.3518,
          11.3634,
          11.3733,
          11.3756,
          11.3669,
          11.3637,
          11.3577,
          11.3825,
          11.3687,
          11.368,
          11.3798,
          11.3535,
          11.3529,
          11.3682,
          11.3745,
          11.3656,
          11.3721,
          11.3708,
          11.372,
          11.3561,
          11.3626,
          11.364,
          11.3776,
          11.3632,
          11.3724,
          11.3809,
          11.3767,
          11.3584,
          11.3687,
          11.3721,
          11.3561,
          11.3746,
          11.3724,
          11.3784,
          11.3604,
          11.3701,
          11.3714,
          11.3832,
          11.3656,
          11.3619,
          11.3636,
          11.3719,
          11.3702,
          11.3737,
          11.3762,
          11.3805,
          11.3706,
          11.3779,
          11.3784,
          11.3688,
          11.3665,
          11.351,
          11.3773,
          11.3737,
          11.3739,
          11.3832,
          11.3682,
          11.3707,
          11.3819,
          11.3664,
          11.3789,
          11.3627,
          11.3641,
          11.374,
          11.3773,
          11.3561,
          11.3627,
          11.3697,
          11.364,
          11.3638,
          11.3748,
          11.3674,
          11.3544,
          11.3682,
          11.3807,
          11.3661,
          11.3692
         ],
         "marker": {
          "color": "#023eff",
          "size": 6
         },
         "mode": "markers",
         "text": [
          "MV3.101 node1<br>5d50a881-c383-463e-8355-41b3dd57422d<br>load=Count: 1, Rated Power: 453.6 kw",
          "MV3.101 Bus 28<br>c50941eb-01ee-4bd5-be6a-c005af0639df<br>load=Count: 1, Rated Power: 362.9 kw<br>fixed_feed_in=Count: 1, Rated Power: 172.2 kw",
          "MV3.101 Bus 81<br>e22406e6-e172-4244-b978-89906f396130<br>load=Count: 1, Rated Power: 594.9 kw<br>fixed_feed_in=Count: 1, Rated Power: 184.7 kw",
          "MV3.101 Bus 102<br>d1c18dd9-a2f4-4953-8d53-03861eb519b5<br>load=Count: 1, Rated Power: 362.9 kw<br>fixed_feed_in=Count: 1, Rated Power: 172.2 kw",
          "MV3.101 Bus 19<br>6ae27f87-a713-4204-adfa-b262b222d240<br>load=Count: 1, Rated Power: 594.9 kw<br>fixed_feed_in=Count: 1, Rated Power: 184.7 kw",
          "MV3.101 Bus 82<br>cc612986-d947-4c4d-af40-ac8fdeebc1f9<br>load=Count: 1, Rated Power: 594.9 kw<br>fixed_feed_in=Count: 1, Rated Power: 184.7 kw",
          "MV3.101 Bus 125<br>738eb38a-f098-4e32-a39a-4c871eb39ccd<br>load=Count: 1, Rated Power: 595.0 kw<br>fixed_feed_in=Count: 1, Rated Power: 252.3 kw",
          "MV3.101 Bus 41<br>4537ceed-9709-47c8-bcac-92a73f44e78c<br>load=Count: 1, Rated Power: 594.9 kw<br>fixed_feed_in=Count: 1, Rated Power: 184.7 kw",
          "MV3.101 Bus 52<br>caf7fd1b-8c8a-4734-b7c3-7a49ae5c00da<br>load=Count: 1, Rated Power: 668.0 kw<br>fixed_feed_in=Count: 1, Rated Power: 171.2 kw",
          "MV3.101 Bus 77<br>0c5e6268-ba9c-41e0-b472-0aea5a3163c6<br>load=Count: 1, Rated Power: 594.9 kw<br>fixed_feed_in=Count: 1, Rated Power: 184.7 kw",
          "MV3.101 Bus 143<br>e9333524-c914-4799-961b-cfe5adfc5f52<br>load=Count: 1, Rated Power: 595.0 kw<br>fixed_feed_in=Count: 1, Rated Power: 252.3 kw",
          "MV3.101 Bus 27<br>84aa56bd-0941-4efd-86b8-61fd6b55dbf5<br>load=Count: 1, Rated Power: 594.9 kw<br>fixed_feed_in=Count: 1, Rated Power: 184.7 kw",
          "MV3.101 Bus 64<br>2cfb12f1-fa79-4210-9ac6-769254515af8<br>load=Count: 1, Rated Power: 594.9 kw<br>fixed_feed_in=Count: 1, Rated Power: 184.7 kw",
          "MV3.101 Bus 32<br>a7c9c8e7-63f0-4971-81b9-7073436d4317<br>load=Count: 1, Rated Power: 668.0 kw<br>fixed_feed_in=Count: 1, Rated Power: 171.2 kw",
          "MV3.101 Bus 134<br>43d06b2a-981c-4b51-91ab-978c392becb0<br>load=Count: 1, Rated Power: 595.0 kw<br>fixed_feed_in=Count: 1, Rated Power: 252.3 kw",
          "MV3.101 Bus 80<br>6df59148-c230-4892-82b3-c4f05c68bcdc<br>load=Count: 1, Rated Power: 668.0 kw<br>fixed_feed_in=Count: 1, Rated Power: 171.2 kw",
          "MV3.101 Bus 75<br>a0716f3b-09b0-437c-98c4-dd18397051f1<br>load=Count: 1, Rated Power: 362.9 kw<br>fixed_feed_in=Count: 1, Rated Power: 172.2 kw",
          "MV3.101 Bus 143_1<br>8b864fa2-3051-4369-91ec-9e17b71a1423<br>",
          "MV3.101 Bus 43<br>a5d72bf6-6a61-4314-b541-f5635d5c334f<br>load=Count: 1, Rated Power: 594.9 kw<br>fixed_feed_in=Count: 1, Rated Power: 184.7 kw",
          "MV3.101 Bus 17<br>b4551111-75bb-4e9d-986b-685e4ca7a22d<br>load=Count: 1, Rated Power: 594.9 kw<br>fixed_feed_in=Count: 1, Rated Power: 184.7 kw",
          "MV3.101 Bus 117<br>f3065cce-6302-4365-8036-4fc2f126ade8<br>load=Count: 1, Rated Power: 594.9 kw<br>fixed_feed_in=Count: 1, Rated Power: 184.7 kw",
          "MV3.101 Bus 78<br>04beeb0e-78d7-46b8-aca5-76d3a009638f<br>load=Count: 1, Rated Power: 362.9 kw<br>fixed_feed_in=Count: 1, Rated Power: 172.2 kw",
          "MV3.101 Bus 49<br>a21d803a-04cb-43c3-b531-7111536ef7a0<br>load=Count: 1, Rated Power: 668.0 kw<br>fixed_feed_in=Count: 1, Rated Power: 171.2 kw",
          "MV3.101 Bus 85<br>c9a17f26-fdc3-434d-bd81-ce7cafe7821a<br>load=Count: 1, Rated Power: 594.9 kw<br>fixed_feed_in=Count: 1, Rated Power: 184.7 kw",
          "MV3.101 Bus 123<br>889c84e9-c717-4471-84b4-b3423b30dc78<br>load=Count: 1, Rated Power: 594.9 kw<br>fixed_feed_in=Count: 1, Rated Power: 184.7 kw",
          "MV3.101 Bus 76<br>af2a653a-5fbb-48f4-94fe-da098579ebe7<br>load=Count: 1, Rated Power: 668.0 kw<br>fixed_feed_in=Count: 1, Rated Power: 171.2 kw",
          "MV3.101 Bus 98<br>f2ab91df-6f6a-439b-95da-135dc5fca6a2<br>load=Count: 1, Rated Power: 594.9 kw<br>fixed_feed_in=Count: 1, Rated Power: 184.7 kw",
          "MV3.101 Bus 103<br>f5fb7dc2-2a15-489a-9339-f8fd351836a4<br>load=Count: 1, Rated Power: 362.9 kw<br>fixed_feed_in=Count: 1, Rated Power: 172.2 kw",
          "MV3.101 Bus 100<br>3df23ce8-f8ed-4562-b3d3-3904e1aacfa6<br>load=Count: 1, Rated Power: 668.0 kw<br>fixed_feed_in=Count: 1, Rated Power: 171.2 kw",
          "MV3.101 Bus 37<br>c22fab8c-3947-44d2-a5f3-b997e6eadb35<br>load=Count: 1, Rated Power: 668.0 kw<br>fixed_feed_in=Count: 1, Rated Power: 171.2 kw",
          "MV3.101 Bus 107<br>40612e93-0348-46dd-8d66-a5480fb4484d<br>load=Count: 1, Rated Power: 362.9 kw<br>fixed_feed_in=Count: 1, Rated Power: 172.2 kw",
          "MV3.101 Bus 105<br>957fb2b9-d0db-48e4-bc59-39741464ed1c<br>load=Count: 1, Rated Power: 594.9 kw<br>fixed_feed_in=Count: 1, Rated Power: 184.7 kw",
          "MV3.101 Bus 119<br>58435c80-af6d-4675-b5de-41d8d4c0b87a<br>load=Count: 1, Rated Power: 595.0 kw<br>fixed_feed_in=Count: 1, Rated Power: 252.3 kw",
          "MV3.101 Bus 73<br>0f63de16-1c22-4e6b-8090-90929e2e407f<br>load=Count: 1, Rated Power: 594.9 kw<br>fixed_feed_in=Count: 1, Rated Power: 184.7 kw",
          "MV3.101 Bus 56<br>0d6102de-9f0f-47fa-9eb2-e8f5149a7851<br>load=Count: 1, Rated Power: 668.0 kw<br>fixed_feed_in=Count: 1, Rated Power: 171.2 kw",
          "MV3.101 Bus 15<br>2837f3ce-c6fb-45ba-9cf0-27ad14987c81<br>load=Count: 2, Rated Power: 774.3 kw<br>fixed_feed_in=Count: 1, Rated Power: 172.2 kw",
          "MV3.101 Bus 31<br>b7e2b6d4-7566-417f-b5a3-f2ead1ceed98<br>load=Count: 1, Rated Power: 594.9 kw<br>fixed_feed_in=Count: 1, Rated Power: 184.7 kw",
          "MV3.101 Bus 60<br>c2d61c41-06a1-4490-9e68-8fe7dfec579a<br>load=Count: 1, Rated Power: 362.9 kw<br>fixed_feed_in=Count: 1, Rated Power: 172.2 kw",
          "MV3.101 Bus 55<br>38145153-0dd5-429c-b0c8-e876956fa70f<br>load=Count: 1, Rated Power: 594.9 kw<br>fixed_feed_in=Count: 1, Rated Power: 184.7 kw",
          "MV3.101 Bus 99<br>f6761178-0491-441c-b7e6-4126b29fbada<br>load=Count: 1, Rated Power: 594.9 kw<br>fixed_feed_in=Count: 1, Rated Power: 184.7 kw",
          "MV3.101 Bus 124<br>79143963-b1bb-4eca-8ba8-d3712f5696c5<br>load=Count: 1, Rated Power: 362.9 kw<br>fixed_feed_in=Count: 1, Rated Power: 172.2 kw",
          "MV3.101 Bus 48<br>9b372fbc-8da2-48a3-b76e-ad52957f77d3<br>load=Count: 1, Rated Power: 594.9 kw<br>fixed_feed_in=Count: 1, Rated Power: 184.7 kw",
          "MV3.101 Bus 106<br>8f2d1b47-8115-4139-93d2-3ddb6a9119ff<br>load=Count: 1, Rated Power: 362.9 kw<br>fixed_feed_in=Count: 1, Rated Power: 172.2 kw",
          "MV3.101 Bus 128<br>ebde173b-fb40-484b-aeb9-d565b97c5102<br>load=Count: 1, Rated Power: 594.9 kw<br>fixed_feed_in=Count: 1, Rated Power: 184.7 kw",
          "MV3.101 Bus 75_1<br>a4b428dc-15dd-4b48-a115-322988f0cf73<br>",
          "MV3.101 Bus 71<br>2289d9f8-70e3-438f-a25a-8812b53f0aff<br>load=Count: 1, Rated Power: 594.9 kw<br>fixed_feed_in=Count: 1, Rated Power: 184.7 kw",
          "MV3.101 Bus 46<br>99d5e9ac-6fdf-4957-bf69-64dc088434f4<br>load=Count: 1, Rated Power: 594.9 kw<br>fixed_feed_in=Count: 1, Rated Power: 184.7 kw",
          "MV3.101 BS busbar1A<br>6bc544cf-71e5-4d0a-941a-4e806c22fd8d<br>",
          "MV3.101 Bus 53<br>296e67f3-2711-43ff-9a46-eca3f60b0001<br>load=Count: 1, Rated Power: 668.0 kw<br>fixed_feed_in=Count: 1, Rated Power: 171.2 kw",
          "MV3.101 Bus 40_1<br>557b9f51-d83c-476c-a84c-d240530c203d<br>",
          "MV3.101 Bus 13<br>5f35664a-a4ef-4a48-849c-c4c058f6cffa<br>load=Count: 1, Rated Power: 668.0 kw<br>fixed_feed_in=Count: 1, Rated Power: 171.2 kw",
          "MV3.101 Bus 39<br>49840d95-2aa5-490c-90ad-556dfee4cb89<br>load=Count: 1, Rated Power: 362.9 kw<br>fixed_feed_in=Count: 1, Rated Power: 172.2 kw",
          "MV3.101 Bus 66<br>5b421400-8cdf-4847-bdbf-452ece1ed348<br>load=Count: 1, Rated Power: 668.0 kw<br>fixed_feed_in=Count: 1, Rated Power: 171.2 kw",
          "MV3.101 Bus 88<br>51f05c04-30ac-4430-b970-0081f1b6d8b1<br>load=Count: 1, Rated Power: 594.9 kw<br>fixed_feed_in=Count: 1, Rated Power: 184.7 kw",
          "MV3.101 Bus 96<br>ad120450-c8c2-4859-a7c4-f487fbe10824<br>load=Count: 1, Rated Power: 594.9 kw<br>fixed_feed_in=Count: 1, Rated Power: 184.7 kw",
          "MV3.101 Bus 127<br>5e3c4932-5022-40b3-a533-ff831bcf18b9<br>load=Count: 1, Rated Power: 594.9 kw<br>fixed_feed_in=Count: 1, Rated Power: 184.7 kw",
          "MV3.101 Bus 84<br>aba677f2-f1c5-409e-8587-05acecbe09a8<br>load=Count: 2, Rated Power: 1090.7 kw<br>fixed_feed_in=Count: 1, Rated Power: 184.7 kw",
          "MV3.101 Bus 114_1<br>8252e667-afbf-4fff-b0b8-595f40b82273<br>",
          "MV3.101 Bus 129<br>f768ffeb-1021-47d1-b606-9f15103988fc<br>load=Count: 1, Rated Power: 362.9 kw<br>fixed_feed_in=Count: 1, Rated Power: 172.2 kw",
          "MV3.101 Bus 16<br>2aab5612-f39a-4cc1-bb96-056b873a6310<br>load=Count: 1, Rated Power: 594.9 kw<br>fixed_feed_in=Count: 1, Rated Power: 184.7 kw",
          "MV3.101 Bus 68<br>bd345c13-e871-4357-af6e-3969889ff035<br>load=Count: 1, Rated Power: 668.0 kw<br>fixed_feed_in=Count: 1, Rated Power: 171.2 kw",
          "MV3.101 Bus 51<br>52ac8b75-96b7-460e-a927-237d89a13663<br>load=Count: 1, Rated Power: 594.9 kw<br>fixed_feed_in=Count: 1, Rated Power: 184.7 kw",
          "MV3.101 Bus 40<br>a5ccf309-420a-474f-a6ed-96cb3ffa2e56<br>load=Count: 1, Rated Power: 594.9 kw<br>fixed_feed_in=Count: 1, Rated Power: 184.7 kw",
          "MV3.101 Bus 67<br>8b19ef59-b368-42eb-a754-12936b5d4d17<br>load=Count: 2, Rated Power: 647.7 kw<br>fixed_feed_in=Count: 1, Rated Power: 172.2 kw",
          "MV3.101 Bus 136<br>e4da35ec-8275-424a-bee3-5dc1a8c3dfb8<br>load=Count: 1, Rated Power: 362.9 kw<br>fixed_feed_in=Count: 1, Rated Power: 172.2 kw",
          "MV3.101 Bus 114<br>01dca738-329e-4c8d-900c-fd0f48acc874<br>load=Count: 1, Rated Power: 668.0 kw<br>fixed_feed_in=Count: 1, Rated Power: 171.2 kw",
          "MV3.101 Bus 132<br>a9c53c7b-e700-4412-93be-348459028998<br>load=Count: 1, Rated Power: 595.0 kw<br>fixed_feed_in=Count: 1, Rated Power: 252.3 kw",
          "MV3.101 Bus 63<br>eec4851e-6d4a-4710-aa77-83c9d4bfac28<br>load=Count: 1, Rated Power: 668.0 kw<br>fixed_feed_in=Count: 1, Rated Power: 171.2 kw",
          "MV3.101 Bus 38<br>61d6379d-b010-461e-96e5-921149c0c8b6<br>load=Count: 1, Rated Power: 362.9 kw<br>fixed_feed_in=Count: 1, Rated Power: 172.2 kw",
          "MV3.101 Bus 93<br>3342bab1-65b4-4a4b-a2e8-365a162ead81<br>load=Count: 1, Rated Power: 668.0 kw<br>fixed_feed_in=Count: 1, Rated Power: 171.2 kw",
          "MV3.101 Bus 135<br>b649cc84-5230-485a-808c-2078624d3681<br>load=Count: 1, Rated Power: 594.9 kw<br>fixed_feed_in=Count: 1, Rated Power: 184.7 kw",
          "MV3.101 Bus 110<br>42a7a176-bb8b-4281-8ba4-b2a2486f6b90<br>load=Count: 1, Rated Power: 594.9 kw<br>fixed_feed_in=Count: 1, Rated Power: 184.7 kw",
          "MV3.101 Bus 97<br>46f61d50-fb44-491d-a4e6-468102797132<br>load=Count: 1, Rated Power: 362.9 kw<br>fixed_feed_in=Count: 1, Rated Power: 172.2 kw",
          "MV3.101 Bus 57<br>cd736b45-3d94-402d-b11b-2a0ece139b71<br>load=Count: 1, Rated Power: 668.0 kw<br>fixed_feed_in=Count: 1, Rated Power: 171.2 kw",
          "MV3.101 Bus 20<br>98c94532-d796-4df2-864f-08b93b2244ab<br>load=Count: 1, Rated Power: 362.9 kw<br>fixed_feed_in=Count: 1, Rated Power: 172.2 kw",
          "MV3.101 Bus 113<br>380a3c84-fd4b-487c-b2de-00a3b19b27bc<br>load=Count: 1, Rated Power: 362.9 kw<br>fixed_feed_in=Count: 1, Rated Power: 172.2 kw",
          "MV3.101 Bus 118<br>8f65cec0-ee20-4f8c-8bdc-41f3218c067e<br>load=Count: 1, Rated Power: 594.9 kw<br>fixed_feed_in=Count: 1, Rated Power: 184.7 kw",
          "MV3.101 Bus 126<br>4920ef18-6e90-45e5-afaf-9e8b60eb6d0e<br>load=Count: 1, Rated Power: 594.9 kw<br>fixed_feed_in=Count: 1, Rated Power: 184.7 kw",
          "MV3.101 Bus 141<br>3342da5b-7e73-4fc5-af28-3d12619d9426<br>load=Count: 1, Rated Power: 595.0 kw<br>fixed_feed_in=Count: 1, Rated Power: 252.3 kw",
          "MV3.101 Bus 22<br>a6f270ec-f5e8-4c3d-817d-664539f01387<br>load=Count: 1, Rated Power: 362.9 kw<br>fixed_feed_in=Count: 1, Rated Power: 172.2 kw",
          "MV3.101 Bus 140<br>6f477624-e576-4286-8d62-ea909e214a75<br>load=Count: 1, Rated Power: 362.9 kw<br>fixed_feed_in=Count: 1, Rated Power: 172.2 kw",
          "MV3.101 Bus 18_1<br>5d60f397-ce09-4dc5-87c9-0382e71c694e<br>",
          "MV3.101 Bus 42<br>0dd3fdac-f05d-4e68-9611-a73f267ed9eb<br>load=Count: 2, Rated Power: 816.5 kw<br>fixed_feed_in=Count: 1, Rated Power: 184.7 kw",
          "MV3.101 Bus 94<br>a21047e0-d924-42e0-a5e5-0998d65266a6<br>load=Count: 1, Rated Power: 668.0 kw<br>fixed_feed_in=Count: 1, Rated Power: 171.2 kw",
          "MV3.101 Bus 104_1<br>ef10dec9-bbbe-4fe9-856c-28f44b5551bf<br>",
          "MV3.101 Bus 139<br>8559c7b0-c882-466d-8560-00c4db86956a<br>load=Count: 1, Rated Power: 362.9 kw<br>fixed_feed_in=Count: 1, Rated Power: 172.2 kw",
          "MV3.101 Bus 118_1<br>46b59740-e384-4038-beae-3de74fa9a3c6<br>",
          "MV3.101 Bus 116<br>e386caca-6ea9-420c-b732-a79f55899458<br>load=Count: 1, Rated Power: 668.0 kw<br>fixed_feed_in=Count: 1, Rated Power: 171.2 kw",
          "MV3.101 Bus 135_1<br>fad370e8-1530-4310-8181-eacbd141642b<br>",
          "MV3.101 Bus 59<br>b0f1f7d4-4ddb-4a56-91ad-e85590714c87<br>load=Count: 1, Rated Power: 594.9 kw<br>fixed_feed_in=Count: 1, Rated Power: 184.7 kw",
          "MV3.101 Bus 12<br>dc68cf3e-ecb0-4740-a561-de6316c7376d<br>load=Count: 1, Rated Power: 362.9 kw<br>fixed_feed_in=Count: 1, Rated Power: 172.2 kw",
          "MV3.101 Bus 133<br>8c073498-b9e2-439d-94a8-63f68f56f192<br>load=Count: 1, Rated Power: 362.9 kw<br>fixed_feed_in=Count: 1, Rated Power: 172.2 kw",
          "MV3.101 Bus 108<br>0e96dffd-d5ea-4f2c-a133-bacb7a85ca31<br>load=Count: 1, Rated Power: 594.9 kw<br>fixed_feed_in=Count: 1, Rated Power: 184.7 kw",
          "MV3.101 Bus 121<br>ef1b266d-3f64-4f9e-a5c5-49ab174370a6<br>load=Count: 1, Rated Power: 595.0 kw<br>fixed_feed_in=Count: 1, Rated Power: 252.3 kw",
          "MV3.101 Bus 62<br>3ecf3284-5919-49ba-a60a-22996f8bc202<br>load=Count: 1, Rated Power: 362.9 kw<br>fixed_feed_in=Count: 1, Rated Power: 172.2 kw",
          "MV3.101 Bus 61<br>393881b0-3b78-413f-b065-03d216803c87<br>load=Count: 1, Rated Power: 668.0 kw<br>fixed_feed_in=Count: 1, Rated Power: 171.2 kw",
          "MV3.101 Bus 29<br>1d219ef0-079c-4df8-8449-e80cb2af6793<br>load=Count: 1, Rated Power: 362.9 kw<br>fixed_feed_in=Count: 1, Rated Power: 172.2 kw",
          "MV3.101 Bus 131<br>6588b688-92b7-4863-811d-fb86b70e89ad<br>load=Count: 1, Rated Power: 362.9 kw<br>fixed_feed_in=Count: 1, Rated Power: 172.2 kw",
          "MV3.101 Bus 70<br>090d13e8-3cce-4793-816f-4c50f23f3f7f<br>load=Count: 1, Rated Power: 668.0 kw<br>fixed_feed_in=Count: 1, Rated Power: 171.2 kw",
          "MV3.101 Bus 89<br>16449d90-cc56-48b9-8067-97986b715758<br>load=Count: 1, Rated Power: 668.0 kw<br>fixed_feed_in=Count: 1, Rated Power: 171.2 kw",
          "MV3.101 Bus 36<br>8bf1ca07-f887-43ec-9e10-f360c0644954<br>load=Count: 1, Rated Power: 668.0 kw<br>fixed_feed_in=Count: 1, Rated Power: 171.2 kw",
          "MV3.101 Bus 83<br>32145578-706b-47e5-86ae-217d9a41867c<br>load=Count: 1, Rated Power: 668.0 kw<br>fixed_feed_in=Count: 1, Rated Power: 171.2 kw",
          "MV3.101 Bus 54<br>0f9e330f-7db2-48d6-8d07-8741f294f4a9<br>load=Count: 1, Rated Power: 594.9 kw<br>fixed_feed_in=Count: 1, Rated Power: 184.7 kw",
          "MV3.101 Bus 137<br>83e2fc45-c6d9-4a8e-8936-4c18b9da0b59<br>load=Count: 1, Rated Power: 362.9 kw<br>fixed_feed_in=Count: 1, Rated Power: 172.2 kw",
          "MV3.101 Bus 79<br>bebf3c0b-e658-438b-b5df-c0cc68d04479<br>load=Count: 1, Rated Power: 362.9 kw<br>fixed_feed_in=Count: 1, Rated Power: 172.2 kw",
          "MV3.101 Bus 101<br>265fe176-27b8-4d24-b805-68a258ef9077<br>load=Count: 1, Rated Power: 594.9 kw<br>fixed_feed_in=Count: 1, Rated Power: 184.7 kw",
          "MV3.101 Bus 45<br>fd124414-dbc6-4f6b-90b5-34918ee7b8f6<br>load=Count: 1, Rated Power: 362.9 kw<br>fixed_feed_in=Count: 1, Rated Power: 172.2 kw",
          "MV3.101 Bus 35<br>fc4af780-3f60-42fc-bc69-d38fadf92050<br>load=Count: 1, Rated Power: 668.0 kw<br>fixed_feed_in=Count: 1, Rated Power: 171.2 kw",
          "MV3.101 Bus 109<br>27cd0e75-9471-4140-aaba-88a8ef63c0b7<br>load=Count: 1, Rated Power: 362.9 kw<br>fixed_feed_in=Count: 1, Rated Power: 172.2 kw",
          "MV3.101 Bus 112<br>c76d8904-3d16-42ae-8abf-e1db37d7ae0d<br>load=Count: 1, Rated Power: 594.9 kw<br>fixed_feed_in=Count: 1, Rated Power: 184.7 kw"
         ],
         "type": "scattermapbox"
        },
        {
         "hoverinfo": "text",
         "hovertext": [
          "MV3.101 Bus 23<br>00933d03-18e0-4681-a7d3-b94cac5ada41<br>load=Count: 1, Rated Power: 594.9 kw<br>fixed_feed_in=Count: 1, Rated Power: 184.7 kw",
          "MV3.101 Bus 74<br>09153599-9b88-49f8-aecd-d57d8ab9e2b6<br>load=Count: 1, Rated Power: 362.9 kw<br>fixed_feed_in=Count: 1, Rated Power: 172.2 kw",
          "MV3.101 Bus 130<br>0e3f552a-5dc5-4781-969e-13b0600e4deb<br>load=Count: 1, Rated Power: 594.9 kw<br>fixed_feed_in=Count: 1, Rated Power: 184.7 kw",
          "MV3.101 Bus 30<br>13765175-44d3-4aa2-aa3e-7ed85822fcef<br>load=Count: 1, Rated Power: 362.9 kw<br>fixed_feed_in=Count: 1, Rated Power: 172.2 kw",
          "MV3.101 Bus 142<br>26245e34-6c7f-4c21-a52f-733486b96eb1<br>load=Count: 1, Rated Power: 362.9 kw<br>fixed_feed_in=Count: 1, Rated Power: 172.2 kw",
          "MV3.101 Bus 18<br>28a6c897-d718-4eb8-9088-4e8d455e5e8e<br>load=Count: 1, Rated Power: 668.0 kw<br>fixed_feed_in=Count: 1, Rated Power: 171.2 kw",
          "MV3.101 Bus 95<br>2dcbdf1e-c956-46f1-9c60-2e0aa45053d4<br>load=Count: 1, Rated Power: 362.9 kw<br>fixed_feed_in=Count: 1, Rated Power: 172.2 kw",
          "MV3.101 Bus 110_1<br>335dc8f6-35c6-4c94-bf39-a77cbee563e8<br>",
          "MV3.101 Bus 21<br>3c849b73-7c59-46ec-aad2-b019beccb4c5<br>load=Count: 1, Rated Power: 668.0 kw<br>fixed_feed_in=Count: 1, Rated Power: 171.2 kw",
          "MV3.101 Bus 50_1<br>41fcce35-df2e-4053-8c3f-2aba19d62a77<br>",
          "MV3.101 Bus 33<br>46248ba3-8fa1-4225-b087-10739b0811cd<br>load=Count: 1, Rated Power: 362.9 kw<br>fixed_feed_in=Count: 1, Rated Power: 172.2 kw",
          "MV3.101 Bus 120<br>492712d0-604e-4183-8410-a11934495bd9<br>load=Count: 1, Rated Power: 595.0 kw<br>fixed_feed_in=Count: 1, Rated Power: 252.3 kw",
          "MV3.101 Bus 58<br>53765bfa-5e7d-40e6-8b1f-88e6ac6e2bd9<br>load=Count: 1, Rated Power: 668.0 kw<br>fixed_feed_in=Count: 1, Rated Power: 171.2 kw",
          "MV3.101 Bus 91<br>5d07ed20-5410-4014-8a38-afbb90cb68af<br>load=Count: 1, Rated Power: 362.9 kw<br>fixed_feed_in=Count: 1, Rated Power: 172.2 kw",
          "MV3.101 Bus 24<br>5e880ada-8200-4681-8533-c759b0a8ec35<br>load=Count: 1, Rated Power: 594.9 kw<br>fixed_feed_in=Count: 1, Rated Power: 184.7 kw",
          "MV3.101 Bus 138<br>66f96b86-254e-4205-8cb8-c0634a8fa91a<br>load=Count: 1, Rated Power: 595.0 kw<br>fixed_feed_in=Count: 1, Rated Power: 252.3 kw",
          "MV3.101 Bus 26<br>6e136d5d-19d7-4556-88a3-3dbdd803c6b1<br>load=Count: 1, Rated Power: 362.9 kw<br>fixed_feed_in=Count: 1, Rated Power: 172.2 kw",
          "MV3.101 Bus 87<br>81f7b5c4-8ebf-4b8a-8731-f0c67a6e8611<br>load=Count: 1, Rated Power: 668.0 kw<br>fixed_feed_in=Count: 1, Rated Power: 171.2 kw",
          "MV3.101 Bus 69<br>8515f8eb-33d1-46c5-8467-ab12155a5474<br>load=Count: 1, Rated Power: 668.0 kw<br>fixed_feed_in=Count: 1, Rated Power: 171.2 kw",
          "MV3.101 Bus 11<br>8b647a1a-b5d6-46b2-9ec3-3bdbf6e0de34<br>load=Count: 2, Rated Power: 563.3 kw<br>fixed_feed_in=Count: 1, Rated Power: 172.2 kw",
          "MV3.101 Bus 44<br>8da74e62-9268-426e-8878-1f83c12e40e6<br>load=Count: 1, Rated Power: 594.9 kw<br>fixed_feed_in=Count: 1, Rated Power: 184.7 kw",
          "MV3.101 Bus 25<br>97b96777-900f-49d2-90b5-044c38bc371e<br>load=Count: 1, Rated Power: 362.9 kw<br>fixed_feed_in=Count: 1, Rated Power: 172.2 kw",
          "MV3.101 Bus 104<br>9e018a70-4da0-4f41-9a45-455b1173c3d2<br>load=Count: 1, Rated Power: 362.9 kw<br>fixed_feed_in=Count: 1, Rated Power: 172.2 kw",
          "MV3.101 Bus 72<br>a41231cc-4836-4343-b236-396720582e32<br>load=Count: 1, Rated Power: 594.9 kw<br>fixed_feed_in=Count: 1, Rated Power: 184.7 kw",
          "MV3.101 Bus 111<br>a670449b-2ffd-4bae-9e01-1d7aab6939f6<br>load=Count: 1, Rated Power: 594.9 kw<br>fixed_feed_in=Count: 1, Rated Power: 184.7 kw",
          "MV3.101 Bus 34<br>aac0ca99-70ef-4845-876f-f24adc93fc64<br>load=Count: 1, Rated Power: 594.9 kw<br>fixed_feed_in=Count: 1, Rated Power: 184.7 kw",
          "HV1 Bus 25<br>b0bbd85c-6540-4418-b083-455daed681bd<br>",
          "MV3.101 Bus 65<br>b69ecf26-16ee-4b41-a996-b76563c58c1a<br>load=Count: 1, Rated Power: 668.0 kw<br>fixed_feed_in=Count: 1, Rated Power: 171.2 kw",
          "MV3.101 Bus 86<br>bed1b7a5-3cbd-480c-86c5-adb7ae6a940d<br>load=Count: 1, Rated Power: 594.9 kw<br>fixed_feed_in=Count: 2, Rated Power: 3084.7 kw",
          "MV3.101 Bus 50<br>c69cc803-396c-4b15-af99-5eade9fcb66a<br>load=Count: 1, Rated Power: 668.0 kw<br>fixed_feed_in=Count: 1, Rated Power: 171.2 kw",
          "MV3.101 Bus 122<br>cc0495c9-0bfe-41ba-b98b-978b8f4b1b69<br>load=Count: 1, Rated Power: 362.9 kw<br>fixed_feed_in=Count: 1, Rated Power: 172.2 kw",
          "MV3.101 Bus 90<br>d873af06-2e6e-4629-9c42-a30b4aeb4fa7<br>load=Count: 1, Rated Power: 594.9 kw<br>fixed_feed_in=Count: 1, Rated Power: 184.7 kw",
          "MV3.101 Bus 14<br>e4aaf6c9-8551-41c4-a3f9-54d7348076af<br>load=Count: 1, Rated Power: 362.9 kw<br>fixed_feed_in=Count: 1, Rated Power: 172.2 kw",
          "MV3.101 Bus 92<br>ee484025-9503-4938-8690-5a7f0861370e<br>load=Count: 1, Rated Power: 668.0 kw<br>fixed_feed_in=Count: 1, Rated Power: 171.2 kw",
          "MV3.101 Bus 68_1<br>effcc0e0-e7f0-4594-9ff4-32855011aa5e<br>",
          "MV3.101 Bus 47<br>f5ffa031-1062-4c4e-9495-8e40e2b55e1b<br>load=Count: 1, Rated Power: 594.9 kw<br>fixed_feed_in=Count: 1, Rated Power: 184.7 kw",
          "MV3.101 Bus 115<br>fb02db79-c6b8-4bf0-8a0b-e661fb04086a<br>load=Count: 1, Rated Power: 594.9 kw<br>fixed_feed_in=Count: 1, Rated Power: 184.7 kw"
         ],
         "lat": [
          53.6453,
          53.6537,
          53.6467,
          53.6543,
          53.6501,
          53.6422,
          53.645,
          53.6346,
          53.6371,
          53.6598,
          53.6534,
          53.6431,
          53.662,
          53.624,
          53.6454,
          53.6481,
          53.6485,
          53.6312,
          53.6545,
          53.6441,
          53.6511,
          53.6456,
          53.6494,
          53.6559,
          53.633,
          53.6519,
          53.6456,
          53.6504,
          53.6332,
          53.6598,
          53.6428,
          53.6261,
          53.6411,
          53.6236,
          53.6531,
          53.6572,
          53.6328
         ],
         "lon": [
          11.372,
          11.3524,
          11.3755,
          11.3751,
          11.3811,
          11.3784,
          11.3649,
          11.3656,
          11.3721,
          11.3685,
          11.3794,
          11.3783,
          11.3646,
          11.366,
          11.3732,
          11.3752,
          11.3698,
          11.3627,
          11.3581,
          11.3699,
          11.3682,
          11.3738,
          11.351,
          11.3519,
          11.3668,
          11.3805,
          11.3692,
          11.357,
          11.3633,
          11.3685,
          11.381,
          11.3638,
          11.3715,
          11.3683,
          11.3584,
          11.3686,
          11.3733
         ],
         "marker": {
          "color": "#e8000b",
          "size": 6
         },
         "mode": "markers",
         "text": [
          "MV3.101 Bus 23<br>00933d03-18e0-4681-a7d3-b94cac5ada41<br>load=Count: 1, Rated Power: 594.9 kw<br>fixed_feed_in=Count: 1, Rated Power: 184.7 kw",
          "MV3.101 Bus 74<br>09153599-9b88-49f8-aecd-d57d8ab9e2b6<br>load=Count: 1, Rated Power: 362.9 kw<br>fixed_feed_in=Count: 1, Rated Power: 172.2 kw",
          "MV3.101 Bus 130<br>0e3f552a-5dc5-4781-969e-13b0600e4deb<br>load=Count: 1, Rated Power: 594.9 kw<br>fixed_feed_in=Count: 1, Rated Power: 184.7 kw",
          "MV3.101 Bus 30<br>13765175-44d3-4aa2-aa3e-7ed85822fcef<br>load=Count: 1, Rated Power: 362.9 kw<br>fixed_feed_in=Count: 1, Rated Power: 172.2 kw",
          "MV3.101 Bus 142<br>26245e34-6c7f-4c21-a52f-733486b96eb1<br>load=Count: 1, Rated Power: 362.9 kw<br>fixed_feed_in=Count: 1, Rated Power: 172.2 kw",
          "MV3.101 Bus 18<br>28a6c897-d718-4eb8-9088-4e8d455e5e8e<br>load=Count: 1, Rated Power: 668.0 kw<br>fixed_feed_in=Count: 1, Rated Power: 171.2 kw",
          "MV3.101 Bus 95<br>2dcbdf1e-c956-46f1-9c60-2e0aa45053d4<br>load=Count: 1, Rated Power: 362.9 kw<br>fixed_feed_in=Count: 1, Rated Power: 172.2 kw",
          "MV3.101 Bus 110_1<br>335dc8f6-35c6-4c94-bf39-a77cbee563e8<br>",
          "MV3.101 Bus 21<br>3c849b73-7c59-46ec-aad2-b019beccb4c5<br>load=Count: 1, Rated Power: 668.0 kw<br>fixed_feed_in=Count: 1, Rated Power: 171.2 kw",
          "MV3.101 Bus 50_1<br>41fcce35-df2e-4053-8c3f-2aba19d62a77<br>",
          "MV3.101 Bus 33<br>46248ba3-8fa1-4225-b087-10739b0811cd<br>load=Count: 1, Rated Power: 362.9 kw<br>fixed_feed_in=Count: 1, Rated Power: 172.2 kw",
          "MV3.101 Bus 120<br>492712d0-604e-4183-8410-a11934495bd9<br>load=Count: 1, Rated Power: 595.0 kw<br>fixed_feed_in=Count: 1, Rated Power: 252.3 kw",
          "MV3.101 Bus 58<br>53765bfa-5e7d-40e6-8b1f-88e6ac6e2bd9<br>load=Count: 1, Rated Power: 668.0 kw<br>fixed_feed_in=Count: 1, Rated Power: 171.2 kw",
          "MV3.101 Bus 91<br>5d07ed20-5410-4014-8a38-afbb90cb68af<br>load=Count: 1, Rated Power: 362.9 kw<br>fixed_feed_in=Count: 1, Rated Power: 172.2 kw",
          "MV3.101 Bus 24<br>5e880ada-8200-4681-8533-c759b0a8ec35<br>load=Count: 1, Rated Power: 594.9 kw<br>fixed_feed_in=Count: 1, Rated Power: 184.7 kw",
          "MV3.101 Bus 138<br>66f96b86-254e-4205-8cb8-c0634a8fa91a<br>load=Count: 1, Rated Power: 595.0 kw<br>fixed_feed_in=Count: 1, Rated Power: 252.3 kw",
          "MV3.101 Bus 26<br>6e136d5d-19d7-4556-88a3-3dbdd803c6b1<br>load=Count: 1, Rated Power: 362.9 kw<br>fixed_feed_in=Count: 1, Rated Power: 172.2 kw",
          "MV3.101 Bus 87<br>81f7b5c4-8ebf-4b8a-8731-f0c67a6e8611<br>load=Count: 1, Rated Power: 668.0 kw<br>fixed_feed_in=Count: 1, Rated Power: 171.2 kw",
          "MV3.101 Bus 69<br>8515f8eb-33d1-46c5-8467-ab12155a5474<br>load=Count: 1, Rated Power: 668.0 kw<br>fixed_feed_in=Count: 1, Rated Power: 171.2 kw",
          "MV3.101 Bus 11<br>8b647a1a-b5d6-46b2-9ec3-3bdbf6e0de34<br>load=Count: 2, Rated Power: 563.3 kw<br>fixed_feed_in=Count: 1, Rated Power: 172.2 kw",
          "MV3.101 Bus 44<br>8da74e62-9268-426e-8878-1f83c12e40e6<br>load=Count: 1, Rated Power: 594.9 kw<br>fixed_feed_in=Count: 1, Rated Power: 184.7 kw",
          "MV3.101 Bus 25<br>97b96777-900f-49d2-90b5-044c38bc371e<br>load=Count: 1, Rated Power: 362.9 kw<br>fixed_feed_in=Count: 1, Rated Power: 172.2 kw",
          "MV3.101 Bus 104<br>9e018a70-4da0-4f41-9a45-455b1173c3d2<br>load=Count: 1, Rated Power: 362.9 kw<br>fixed_feed_in=Count: 1, Rated Power: 172.2 kw",
          "MV3.101 Bus 72<br>a41231cc-4836-4343-b236-396720582e32<br>load=Count: 1, Rated Power: 594.9 kw<br>fixed_feed_in=Count: 1, Rated Power: 184.7 kw",
          "MV3.101 Bus 111<br>a670449b-2ffd-4bae-9e01-1d7aab6939f6<br>load=Count: 1, Rated Power: 594.9 kw<br>fixed_feed_in=Count: 1, Rated Power: 184.7 kw",
          "MV3.101 Bus 34<br>aac0ca99-70ef-4845-876f-f24adc93fc64<br>load=Count: 1, Rated Power: 594.9 kw<br>fixed_feed_in=Count: 1, Rated Power: 184.7 kw",
          "HV1 Bus 25<br>b0bbd85c-6540-4418-b083-455daed681bd<br>",
          "MV3.101 Bus 65<br>b69ecf26-16ee-4b41-a996-b76563c58c1a<br>load=Count: 1, Rated Power: 668.0 kw<br>fixed_feed_in=Count: 1, Rated Power: 171.2 kw",
          "MV3.101 Bus 86<br>bed1b7a5-3cbd-480c-86c5-adb7ae6a940d<br>load=Count: 1, Rated Power: 594.9 kw<br>fixed_feed_in=Count: 2, Rated Power: 3084.7 kw",
          "MV3.101 Bus 50<br>c69cc803-396c-4b15-af99-5eade9fcb66a<br>load=Count: 1, Rated Power: 668.0 kw<br>fixed_feed_in=Count: 1, Rated Power: 171.2 kw",
          "MV3.101 Bus 122<br>cc0495c9-0bfe-41ba-b98b-978b8f4b1b69<br>load=Count: 1, Rated Power: 362.9 kw<br>fixed_feed_in=Count: 1, Rated Power: 172.2 kw",
          "MV3.101 Bus 90<br>d873af06-2e6e-4629-9c42-a30b4aeb4fa7<br>load=Count: 1, Rated Power: 594.9 kw<br>fixed_feed_in=Count: 1, Rated Power: 184.7 kw",
          "MV3.101 Bus 14<br>e4aaf6c9-8551-41c4-a3f9-54d7348076af<br>load=Count: 1, Rated Power: 362.9 kw<br>fixed_feed_in=Count: 1, Rated Power: 172.2 kw",
          "MV3.101 Bus 92<br>ee484025-9503-4938-8690-5a7f0861370e<br>load=Count: 1, Rated Power: 668.0 kw<br>fixed_feed_in=Count: 1, Rated Power: 171.2 kw",
          "MV3.101 Bus 68_1<br>effcc0e0-e7f0-4594-9ff4-32855011aa5e<br>",
          "MV3.101 Bus 47<br>f5ffa031-1062-4c4e-9495-8e40e2b55e1b<br>load=Count: 1, Rated Power: 594.9 kw<br>fixed_feed_in=Count: 1, Rated Power: 184.7 kw",
          "MV3.101 Bus 115<br>fb02db79-c6b8-4bf0-8a0b-e661fb04086a<br>load=Count: 1, Rated Power: 594.9 kw<br>fixed_feed_in=Count: 1, Rated Power: 184.7 kw"
         ],
         "type": "scattermapbox"
        }
       ],
       "layout": {
        "mapbox": {
         "center": {
          "lat": 53.64525238095238,
          "lon": 11.368850340136055
         },
         "style": "open-street-map",
         "zoom": 11.961600000000004
        },
        "margin": {
         "b": 0,
         "l": 0,
         "r": 0,
         "t": 0
        },
        "showlegend": false,
        "template": {
         "data": {
          "bar": [
           {
            "error_x": {
             "color": "#2a3f5f"
            },
            "error_y": {
             "color": "#2a3f5f"
            },
            "marker": {
             "line": {
              "color": "#E5ECF6",
              "width": 0.5
             },
             "pattern": {
              "fillmode": "overlay",
              "size": 10,
              "solidity": 0.2
             }
            },
            "type": "bar"
           }
          ],
          "barpolar": [
           {
            "marker": {
             "line": {
              "color": "#E5ECF6",
              "width": 0.5
             },
             "pattern": {
              "fillmode": "overlay",
              "size": 10,
              "solidity": 0.2
             }
            },
            "type": "barpolar"
           }
          ],
          "carpet": [
           {
            "aaxis": {
             "endlinecolor": "#2a3f5f",
             "gridcolor": "white",
             "linecolor": "white",
             "minorgridcolor": "white",
             "startlinecolor": "#2a3f5f"
            },
            "baxis": {
             "endlinecolor": "#2a3f5f",
             "gridcolor": "white",
             "linecolor": "white",
             "minorgridcolor": "white",
             "startlinecolor": "#2a3f5f"
            },
            "type": "carpet"
           }
          ],
          "choropleth": [
           {
            "colorbar": {
             "outlinewidth": 0,
             "ticks": ""
            },
            "type": "choropleth"
           }
          ],
          "contour": [
           {
            "colorbar": {
             "outlinewidth": 0,
             "ticks": ""
            },
            "colorscale": [
             [
              0,
              "#0d0887"
             ],
             [
              0.1111111111111111,
              "#46039f"
             ],
             [
              0.2222222222222222,
              "#7201a8"
             ],
             [
              0.3333333333333333,
              "#9c179e"
             ],
             [
              0.4444444444444444,
              "#bd3786"
             ],
             [
              0.5555555555555556,
              "#d8576b"
             ],
             [
              0.6666666666666666,
              "#ed7953"
             ],
             [
              0.7777777777777778,
              "#fb9f3a"
             ],
             [
              0.8888888888888888,
              "#fdca26"
             ],
             [
              1,
              "#f0f921"
             ]
            ],
            "type": "contour"
           }
          ],
          "contourcarpet": [
           {
            "colorbar": {
             "outlinewidth": 0,
             "ticks": ""
            },
            "type": "contourcarpet"
           }
          ],
          "heatmap": [
           {
            "colorbar": {
             "outlinewidth": 0,
             "ticks": ""
            },
            "colorscale": [
             [
              0,
              "#0d0887"
             ],
             [
              0.1111111111111111,
              "#46039f"
             ],
             [
              0.2222222222222222,
              "#7201a8"
             ],
             [
              0.3333333333333333,
              "#9c179e"
             ],
             [
              0.4444444444444444,
              "#bd3786"
             ],
             [
              0.5555555555555556,
              "#d8576b"
             ],
             [
              0.6666666666666666,
              "#ed7953"
             ],
             [
              0.7777777777777778,
              "#fb9f3a"
             ],
             [
              0.8888888888888888,
              "#fdca26"
             ],
             [
              1,
              "#f0f921"
             ]
            ],
            "type": "heatmap"
           }
          ],
          "heatmapgl": [
           {
            "colorbar": {
             "outlinewidth": 0,
             "ticks": ""
            },
            "colorscale": [
             [
              0,
              "#0d0887"
             ],
             [
              0.1111111111111111,
              "#46039f"
             ],
             [
              0.2222222222222222,
              "#7201a8"
             ],
             [
              0.3333333333333333,
              "#9c179e"
             ],
             [
              0.4444444444444444,
              "#bd3786"
             ],
             [
              0.5555555555555556,
              "#d8576b"
             ],
             [
              0.6666666666666666,
              "#ed7953"
             ],
             [
              0.7777777777777778,
              "#fb9f3a"
             ],
             [
              0.8888888888888888,
              "#fdca26"
             ],
             [
              1,
              "#f0f921"
             ]
            ],
            "type": "heatmapgl"
           }
          ],
          "histogram": [
           {
            "marker": {
             "pattern": {
              "fillmode": "overlay",
              "size": 10,
              "solidity": 0.2
             }
            },
            "type": "histogram"
           }
          ],
          "histogram2d": [
           {
            "colorbar": {
             "outlinewidth": 0,
             "ticks": ""
            },
            "colorscale": [
             [
              0,
              "#0d0887"
             ],
             [
              0.1111111111111111,
              "#46039f"
             ],
             [
              0.2222222222222222,
              "#7201a8"
             ],
             [
              0.3333333333333333,
              "#9c179e"
             ],
             [
              0.4444444444444444,
              "#bd3786"
             ],
             [
              0.5555555555555556,
              "#d8576b"
             ],
             [
              0.6666666666666666,
              "#ed7953"
             ],
             [
              0.7777777777777778,
              "#fb9f3a"
             ],
             [
              0.8888888888888888,
              "#fdca26"
             ],
             [
              1,
              "#f0f921"
             ]
            ],
            "type": "histogram2d"
           }
          ],
          "histogram2dcontour": [
           {
            "colorbar": {
             "outlinewidth": 0,
             "ticks": ""
            },
            "colorscale": [
             [
              0,
              "#0d0887"
             ],
             [
              0.1111111111111111,
              "#46039f"
             ],
             [
              0.2222222222222222,
              "#7201a8"
             ],
             [
              0.3333333333333333,
              "#9c179e"
             ],
             [
              0.4444444444444444,
              "#bd3786"
             ],
             [
              0.5555555555555556,
              "#d8576b"
             ],
             [
              0.6666666666666666,
              "#ed7953"
             ],
             [
              0.7777777777777778,
              "#fb9f3a"
             ],
             [
              0.8888888888888888,
              "#fdca26"
             ],
             [
              1,
              "#f0f921"
             ]
            ],
            "type": "histogram2dcontour"
           }
          ],
          "mesh3d": [
           {
            "colorbar": {
             "outlinewidth": 0,
             "ticks": ""
            },
            "type": "mesh3d"
           }
          ],
          "parcoords": [
           {
            "line": {
             "colorbar": {
              "outlinewidth": 0,
              "ticks": ""
             }
            },
            "type": "parcoords"
           }
          ],
          "pie": [
           {
            "automargin": true,
            "type": "pie"
           }
          ],
          "scatter": [
           {
            "fillpattern": {
             "fillmode": "overlay",
             "size": 10,
             "solidity": 0.2
            },
            "type": "scatter"
           }
          ],
          "scatter3d": [
           {
            "line": {
             "colorbar": {
              "outlinewidth": 0,
              "ticks": ""
             }
            },
            "marker": {
             "colorbar": {
              "outlinewidth": 0,
              "ticks": ""
             }
            },
            "type": "scatter3d"
           }
          ],
          "scattercarpet": [
           {
            "marker": {
             "colorbar": {
              "outlinewidth": 0,
              "ticks": ""
             }
            },
            "type": "scattercarpet"
           }
          ],
          "scattergeo": [
           {
            "marker": {
             "colorbar": {
              "outlinewidth": 0,
              "ticks": ""
             }
            },
            "type": "scattergeo"
           }
          ],
          "scattergl": [
           {
            "marker": {
             "colorbar": {
              "outlinewidth": 0,
              "ticks": ""
             }
            },
            "type": "scattergl"
           }
          ],
          "scattermapbox": [
           {
            "marker": {
             "colorbar": {
              "outlinewidth": 0,
              "ticks": ""
             }
            },
            "type": "scattermapbox"
           }
          ],
          "scatterpolar": [
           {
            "marker": {
             "colorbar": {
              "outlinewidth": 0,
              "ticks": ""
             }
            },
            "type": "scatterpolar"
           }
          ],
          "scatterpolargl": [
           {
            "marker": {
             "colorbar": {
              "outlinewidth": 0,
              "ticks": ""
             }
            },
            "type": "scatterpolargl"
           }
          ],
          "scatterternary": [
           {
            "marker": {
             "colorbar": {
              "outlinewidth": 0,
              "ticks": ""
             }
            },
            "type": "scatterternary"
           }
          ],
          "surface": [
           {
            "colorbar": {
             "outlinewidth": 0,
             "ticks": ""
            },
            "colorscale": [
             [
              0,
              "#0d0887"
             ],
             [
              0.1111111111111111,
              "#46039f"
             ],
             [
              0.2222222222222222,
              "#7201a8"
             ],
             [
              0.3333333333333333,
              "#9c179e"
             ],
             [
              0.4444444444444444,
              "#bd3786"
             ],
             [
              0.5555555555555556,
              "#d8576b"
             ],
             [
              0.6666666666666666,
              "#ed7953"
             ],
             [
              0.7777777777777778,
              "#fb9f3a"
             ],
             [
              0.8888888888888888,
              "#fdca26"
             ],
             [
              1,
              "#f0f921"
             ]
            ],
            "type": "surface"
           }
          ],
          "table": [
           {
            "cells": {
             "fill": {
              "color": "#EBF0F8"
             },
             "line": {
              "color": "white"
             }
            },
            "header": {
             "fill": {
              "color": "#C8D4E3"
             },
             "line": {
              "color": "white"
             }
            },
            "type": "table"
           }
          ]
         },
         "layout": {
          "annotationdefaults": {
           "arrowcolor": "#2a3f5f",
           "arrowhead": 0,
           "arrowwidth": 1
          },
          "autotypenumbers": "strict",
          "coloraxis": {
           "colorbar": {
            "outlinewidth": 0,
            "ticks": ""
           }
          },
          "colorscale": {
           "diverging": [
            [
             0,
             "#8e0152"
            ],
            [
             0.1,
             "#c51b7d"
            ],
            [
             0.2,
             "#de77ae"
            ],
            [
             0.3,
             "#f1b6da"
            ],
            [
             0.4,
             "#fde0ef"
            ],
            [
             0.5,
             "#f7f7f7"
            ],
            [
             0.6,
             "#e6f5d0"
            ],
            [
             0.7,
             "#b8e186"
            ],
            [
             0.8,
             "#7fbc41"
            ],
            [
             0.9,
             "#4d9221"
            ],
            [
             1,
             "#276419"
            ]
           ],
           "sequential": [
            [
             0,
             "#0d0887"
            ],
            [
             0.1111111111111111,
             "#46039f"
            ],
            [
             0.2222222222222222,
             "#7201a8"
            ],
            [
             0.3333333333333333,
             "#9c179e"
            ],
            [
             0.4444444444444444,
             "#bd3786"
            ],
            [
             0.5555555555555556,
             "#d8576b"
            ],
            [
             0.6666666666666666,
             "#ed7953"
            ],
            [
             0.7777777777777778,
             "#fb9f3a"
            ],
            [
             0.8888888888888888,
             "#fdca26"
            ],
            [
             1,
             "#f0f921"
            ]
           ],
           "sequentialminus": [
            [
             0,
             "#0d0887"
            ],
            [
             0.1111111111111111,
             "#46039f"
            ],
            [
             0.2222222222222222,
             "#7201a8"
            ],
            [
             0.3333333333333333,
             "#9c179e"
            ],
            [
             0.4444444444444444,
             "#bd3786"
            ],
            [
             0.5555555555555556,
             "#d8576b"
            ],
            [
             0.6666666666666666,
             "#ed7953"
            ],
            [
             0.7777777777777778,
             "#fb9f3a"
            ],
            [
             0.8888888888888888,
             "#fdca26"
            ],
            [
             1,
             "#f0f921"
            ]
           ]
          },
          "colorway": [
           "#636efa",
           "#EF553B",
           "#00cc96",
           "#ab63fa",
           "#FFA15A",
           "#19d3f3",
           "#FF6692",
           "#B6E880",
           "#FF97FF",
           "#FECB52"
          ],
          "font": {
           "color": "#2a3f5f"
          },
          "geo": {
           "bgcolor": "white",
           "lakecolor": "white",
           "landcolor": "#E5ECF6",
           "showlakes": true,
           "showland": true,
           "subunitcolor": "white"
          },
          "hoverlabel": {
           "align": "left"
          },
          "hovermode": "closest",
          "mapbox": {
           "style": "light"
          },
          "paper_bgcolor": "white",
          "plot_bgcolor": "#E5ECF6",
          "polar": {
           "angularaxis": {
            "gridcolor": "white",
            "linecolor": "white",
            "ticks": ""
           },
           "bgcolor": "#E5ECF6",
           "radialaxis": {
            "gridcolor": "white",
            "linecolor": "white",
            "ticks": ""
           }
          },
          "scene": {
           "xaxis": {
            "backgroundcolor": "#E5ECF6",
            "gridcolor": "white",
            "gridwidth": 2,
            "linecolor": "white",
            "showbackground": true,
            "ticks": "",
            "zerolinecolor": "white"
           },
           "yaxis": {
            "backgroundcolor": "#E5ECF6",
            "gridcolor": "white",
            "gridwidth": 2,
            "linecolor": "white",
            "showbackground": true,
            "ticks": "",
            "zerolinecolor": "white"
           },
           "zaxis": {
            "backgroundcolor": "#E5ECF6",
            "gridcolor": "white",
            "gridwidth": 2,
            "linecolor": "white",
            "showbackground": true,
            "ticks": "",
            "zerolinecolor": "white"
           }
          },
          "shapedefaults": {
           "line": {
            "color": "#2a3f5f"
           }
          },
          "ternary": {
           "aaxis": {
            "gridcolor": "white",
            "linecolor": "white",
            "ticks": ""
           },
           "baxis": {
            "gridcolor": "white",
            "linecolor": "white",
            "ticks": ""
           },
           "bgcolor": "#E5ECF6",
           "caxis": {
            "gridcolor": "white",
            "linecolor": "white",
            "ticks": ""
           }
          },
          "title": {
           "x": 0.05
          },
          "xaxis": {
           "automargin": true,
           "gridcolor": "white",
           "linecolor": "white",
           "ticks": "",
           "title": {
            "standoff": 15
           },
           "zerolinecolor": "white",
           "zerolinewidth": 2
          },
          "yaxis": {
           "automargin": true,
           "gridcolor": "white",
           "linecolor": "white",
           "ticks": "",
           "title": {
            "standoff": 15
           },
           "zerolinecolor": "white",
           "zerolinewidth": 2
          }
         }
        }
       }
      }
     },
     "metadata": {},
     "output_type": "display_data"
    }
   ],
   "source": [
    "from pypsdm.plots.grid import grid_plot\n",
    "\n",
    "\n",
    "# All red nodes are considered as measured\n",
    "grid_plot(gwr.grid, node_highlights=measured)"
   ]
  },
  {
   "cell_type": "code",
   "execution_count": 6,
   "metadata": {},
   "outputs": [],
   "source": [
    "from pypsdml.attributes.enum import (\n",
    "    ElementAttrSetting,\n",
    "    BaseAttribute,\n",
    "    AttributeGroup,\n",
    ")\n",
    "from pypsdml.attributes.transform import MinMaxScaler\n",
    "\n",
    "\n",
    "# Here we configure the attributes which should be extracted and the transformations to apply\n",
    "node_atts = {\n",
    "    BaseAttribute.VOLT_MAG: ElementAttrSetting(\n",
    "        MinMaxScaler(),\n",
    "        # Measured nodes are part of the features\n",
    "        features=measured,\n",
    "        # The remaining nodes are the labels to predicted (the unmeasured nodes we want to know about)\n",
    "        labels=\"subset\",\n",
    "    ),\n",
    "    BaseAttribute.ACTIVE_POWER: ElementAttrSetting(\n",
    "        MinMaxScaler(),\n",
    "        features=measured,\n",
    "        labels=[],\n",
    "    ),\n",
    "}\n",
    "participant_attrs = {}\n",
    "line_attrs = {}\n",
    "global_attrs = {}\n",
    "\n",
    "attrs = {\n",
    "    AttributeGroup.NODE: node_atts,\n",
    "    AttributeGroup.GLOBAL: global_attrs,\n",
    "    AttributeGroup.LINE: line_attrs,\n",
    "    AttributeGroup.PARTICIPANTS: participant_attrs,\n",
    "}"
   ]
  },
  {
   "cell_type": "code",
   "execution_count": 7,
   "metadata": {},
   "outputs": [],
   "source": [
    "from functools import partial\n",
    "from pypsdml.data.data import TransformStrategy, extract_data\n",
    "from pypsdml.attributes.split import stratified_date_sample\n",
    "\n",
    "\n",
    "# Here we extracct the data configured data\n",
    "td = extract_data(\n",
    "    gwr,\n",
    "    attrs,\n",
    "    partial(stratified_date_sample, 6 / 10, 2 / 10, 2 / 10),\n",
    ")\n",
    "# Fit the transformer to the data\n",
    "td.fit()\n",
    "ttd = td.transform(TransformStrategy.FLAT)"
   ]
  },
  {
   "cell_type": "code",
   "execution_count": 8,
   "metadata": {},
   "outputs": [
    {
     "data": {
      "text/plain": [
       "tensor([[0.6210, 0.5638, 0.6095,  ..., 0.0000, 0.5816, 0.7787],\n",
       "        [0.6944, 0.6286, 0.6829,  ..., 0.0000, 0.5228, 0.7474],\n",
       "        [0.6455, 0.5680, 0.6368,  ..., 0.0000, 0.5520, 0.7730],\n",
       "        ...,\n",
       "        [0.4194, 0.3782, 0.4072,  ..., 0.0000, 0.6170, 0.8577],\n",
       "        [0.4630, 0.4139, 0.4513,  ..., 0.0000, 0.6117, 0.8466],\n",
       "        [0.5459, 0.4879, 0.5342,  ..., 0.0000, 0.5753, 0.8107]])"
      ]
     },
     "execution_count": 8,
     "metadata": {},
     "output_type": "execute_result"
    }
   ],
   "source": [
    "ttd.features"
   ]
  },
  {
   "cell_type": "code",
   "execution_count": 9,
   "metadata": {},
   "outputs": [
    {
     "data": {
      "text/plain": [
       "tensor([[0.5996, 0.6283, 0.5723,  ..., 0.5826, 0.6102, 0.6338],\n",
       "        [0.6728, 0.7002, 0.6368,  ..., 0.6544, 0.6914, 0.7048],\n",
       "        [0.6110, 0.6474, 0.5760,  ..., 0.6114, 0.6464, 0.6553],\n",
       "        ...,\n",
       "        [0.4022, 0.4273, 0.3878,  ..., 0.3862, 0.4179, 0.4389],\n",
       "        [0.4455, 0.4700, 0.4238,  ..., 0.4325, 0.4595, 0.4791],\n",
       "        [0.5291, 0.5523, 0.4976,  ..., 0.5115, 0.5412, 0.5608]])"
      ]
     },
     "execution_count": 9,
     "metadata": {},
     "output_type": "execute_result"
    }
   ],
   "source": [
    "ttd.labels"
   ]
  },
  {
   "cell_type": "code",
   "execution_count": 10,
   "metadata": {},
   "outputs": [],
   "source": [
    "from pypsdml.models.dsse.mlp import Mlp\n",
    "import torch\n",
    "\n",
    "\n",
    "loss_fn = torch.nn.MSELoss()\n",
    "model = Mlp(\n",
    "    in_features=ttd.in_features,\n",
    "    out_features=ttd.out_features,\n",
    "    nr_layers=4,\n",
    "    layer_size=150,\n",
    "    activation_fn=torch.nn.ReLU,\n",
    ")\n",
    "\n",
    "optimizer = torch.optim.Adam(model.parameters(), lr=1e-3)\n",
    "epochs = 30\n",
    "batch_size = 32\n",
    "train, valid, test = ttd.get_data_loaders(batch_size)"
   ]
  },
  {
   "cell_type": "code",
   "execution_count": 11,
   "metadata": {},
   "outputs": [
    {
     "name": "stderr",
     "output_type": "stream",
     "text": [
      "Epochs:   3%|▎         | 1/30 [00:00<00:07,  4.08it/s]"
     ]
    },
    {
     "name": "stdout",
     "output_type": "stream",
     "text": [
      "Time: 0.25s, Loss: 0.022450577271449605, Validation Loss: 0.00037956886808387935\n",
      "\n"
     ]
    },
    {
     "name": "stderr",
     "output_type": "stream",
     "text": [
      "Epochs:  10%|█         | 3/30 [00:00<00:05,  4.62it/s]"
     ]
    },
    {
     "name": "stdout",
     "output_type": "stream",
     "text": [
      "Time: 0.25s, Loss: 0.0002725817379541695, Validation Loss: 0.00019417691510170698\n",
      "\n",
      "Time: 0.18s, Loss: 0.00017300799511510624, Validation Loss: 0.00015419279225170612\n",
      "\n"
     ]
    },
    {
     "name": "stderr",
     "output_type": "stream",
     "text": [
      "Epochs:  17%|█▋        | 5/30 [00:01<00:04,  5.02it/s]"
     ]
    },
    {
     "name": "stdout",
     "output_type": "stream",
     "text": [
      "Time: 0.22s, Loss: 0.00014721847413359985, Validation Loss: 0.00012394013174343854\n",
      "\n",
      "Time: 0.17s, Loss: 0.0001250742199772503, Validation Loss: 0.00012876414984930307\n",
      "\n"
     ]
    },
    {
     "name": "stderr",
     "output_type": "stream",
     "text": [
      "Epochs:  23%|██▎       | 7/30 [00:01<00:04,  5.68it/s]"
     ]
    },
    {
     "name": "stdout",
     "output_type": "stream",
     "text": [
      "Time: 0.16s, Loss: 0.00010611880383239071, Validation Loss: 0.00016592750034760684\n",
      "\n",
      "Time: 0.15s, Loss: 8.31938882280762e-05, Validation Loss: 7.404651114484295e-05\n",
      "\n"
     ]
    },
    {
     "name": "stderr",
     "output_type": "stream",
     "text": [
      "Epochs:  30%|███       | 9/30 [00:01<00:03,  5.83it/s]"
     ]
    },
    {
     "name": "stdout",
     "output_type": "stream",
     "text": [
      "Time: 0.16s, Loss: 6.923030094626346e-05, Validation Loss: 8.989855996333063e-05\n",
      "\n",
      "Time: 0.17s, Loss: 6.220313457147727e-05, Validation Loss: 6.342614506138489e-05\n",
      "\n"
     ]
    },
    {
     "name": "stderr",
     "output_type": "stream",
     "text": [
      "Epochs:  37%|███▋      | 11/30 [00:02<00:03,  5.90it/s]"
     ]
    },
    {
     "name": "stdout",
     "output_type": "stream",
     "text": [
      "Time: 0.19s, Loss: 5.979010114088217e-05, Validation Loss: 0.00010150657180929556\n",
      "\n",
      "Time: 0.15s, Loss: 5.759988354949393e-05, Validation Loss: 4.9025336920749396e-05\n",
      "\n"
     ]
    },
    {
     "name": "stderr",
     "output_type": "stream",
     "text": [
      "Epochs:  43%|████▎     | 13/30 [00:02<00:02,  6.17it/s]"
     ]
    },
    {
     "name": "stdout",
     "output_type": "stream",
     "text": [
      "Time: 0.15s, Loss: 5.7077094651035486e-05, Validation Loss: 5.5585602240171283e-05\n",
      "\n",
      "Time: 0.15s, Loss: 6.247721982865848e-05, Validation Loss: 8.545830496586859e-05\n",
      "\n"
     ]
    },
    {
     "name": "stderr",
     "output_type": "stream",
     "text": [
      "Epochs:  50%|█████     | 15/30 [00:02<00:02,  6.32it/s]"
     ]
    },
    {
     "name": "stdout",
     "output_type": "stream",
     "text": [
      "Time: 0.15s, Loss: 6.348027582686028e-05, Validation Loss: 5.283630162011832e-05\n",
      "\n",
      "Time: 0.15s, Loss: 5.9046188405111685e-05, Validation Loss: 7.72626226535067e-05\n",
      "\n"
     ]
    },
    {
     "name": "stderr",
     "output_type": "stream",
     "text": [
      "Epochs:  50%|█████     | 15/30 [00:02<00:02,  5.31it/s]"
     ]
    },
    {
     "name": "stdout",
     "output_type": "stream",
     "text": [
      "Stopping early due to no improvement in validation loss during the last 5 epochs.\n"
     ]
    },
    {
     "name": "stderr",
     "output_type": "stream",
     "text": [
      "\n"
     ]
    }
   ],
   "source": [
    "from pypsdml.train.loop import train_loop\n",
    "import torch\n",
    "\n",
    "\n",
    "(hist, model) = train_loop(\n",
    "    train,\n",
    "    valid,\n",
    "    model,\n",
    "    loss_fn,\n",
    "    optimizer,\n",
    "    epochs,\n",
    ")"
   ]
  },
  {
   "cell_type": "code",
   "execution_count": 12,
   "metadata": {},
   "outputs": [],
   "source": [
    "from datetime import timedelta\n",
    "from pypsdml.attributes.enum import NODE_VOLT_MAG\n",
    "from pypsdml.models.eval.prediction import Prediction\n",
    "from pypsdml.models.dsse.mlp import Mlp\n",
    "\n",
    "\n",
    "feature = NODE_VOLT_MAG\n",
    "uuid_id_map = gwr.nodes.id.to_dict()\n",
    "test_loader = ttd.get_data_loaders(batch_size=32)[2]\n",
    "attr_pred, attr_true = model.predict_ft(test_loader, feature)\n",
    "resolution = timedelta(minutes=60)\n",
    "pred_vmag = Prediction(\n",
    "    attr_pred.data,\n",
    "    attr_true.data,\n",
    "    resolution,\n",
    "    feature,\n",
    "    id_map=uuid_id_map,\n",
    "    c1_crit=1e-2,\n",
    "    c2_crit=1e-3,\n",
    ")\n",
    "hv_ids = list(filter(lambda x: x.startswith(\"H\"), pred_vmag.true.columns))\n",
    "pred_vmag = pred_vmag.remove(hv_ids)"
   ]
  },
  {
   "cell_type": "code",
   "execution_count": 13,
   "metadata": {},
   "outputs": [
    {
     "data": {
      "text/plain": [
       "(<Figure size 1000x500 with 1 Axes>,\n",
       " <Axes: title={'center': 'Min average Error: Prediction for MV3.101 Bus 59 on 2016-11-29'}, ylabel='Voltage [pu]'>)"
      ]
     },
     "execution_count": 13,
     "metadata": {},
     "output_type": "execute_result"
    },
    {
     "data": {
      "image/png": "[encoded data removed]",
      "text/plain": [
       "<Figure size 1000x500 with 1 Axes>"
      ]
     },
     "metadata": {
      "image/png": {
       "height": 450,
       "width": 879
      }
     },
     "output_type": "display_data"
    }
   ],
   "source": [
    "pred_vmag.plot_min_avg_dev()"
   ]
  },
  {
   "cell_type": "code",
   "execution_count": 14,
   "metadata": {},
   "outputs": [
    {
     "data": {
      "text/plain": [
       "(<Figure size 1000x500 with 1 Axes>,\n",
       " <Axes: title={'center': 'Median average Error: Prediction for MV3.101 Bus 97 on 2016-01-04'}, ylabel='Voltage [pu]'>)"
      ]
     },
     "execution_count": 14,
     "metadata": {},
     "output_type": "execute_result"
    },
    {
     "data": {
      "image/png": "[encoded data removed]",
      "text/plain": [
       "<Figure size 1000x500 with 1 Axes>"
      ]
     },
     "metadata": {
      "image/png": {
       "height": 450,
       "width": 879
      }
     },
     "output_type": "display_data"
    }
   ],
   "source": [
    "pred_vmag.plot_median_avg_dev()"
   ]
  },
  {
   "cell_type": "code",
   "execution_count": 15,
   "metadata": {},
   "outputs": [
    {
     "data": {
      "text/plain": [
       "(<Figure size 1000x500 with 1 Axes>,\n",
       " <Axes: title={'center': 'Max Error: Prediction for MV3.101 Bus 118 on 2016-06-08'}, ylabel='Voltage [pu]'>)"
      ]
     },
     "execution_count": 15,
     "metadata": {},
     "output_type": "execute_result"
    },
    {
     "data": {
      "image/png": "[encoded data removed]",
      "text/plain": [
       "<Figure size 1000x500 with 1 Axes>"
      ]
     },
     "metadata": {
      "image/png": {
       "height": 450,
       "width": 879
      }
     },
     "output_type": "display_data"
    }
   ],
   "source": [
    "pred_vmag.plot_max_dev()"
   ]
  }
 ],
 "metadata": {
  "kernelspec": {
   "display_name": "ts-forecast-WCn74bRX-py3.11",
   "language": "python",
   "name": "python3"
  },
  "language_info": {
   "codemirror_mode": {
    "name": "ipython",
    "version": 3
   },
   "file_extension": ".py",
   "mimetype": "text/x-python",
   "name": "python",
   "nbconvert_exporter": "python",
   "pygments_lexer": "ipython3",
   "version": "3.11.5"
  }
 },
 "nbformat": 4,
 "nbformat_minor": 2
}
